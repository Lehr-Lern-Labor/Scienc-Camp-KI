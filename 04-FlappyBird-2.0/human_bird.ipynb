{
 "cells": [
  {
   "cell_type": "code",
   "execution_count": 1,
   "metadata": {
    "scrolled": true
   },
   "outputs": [
    {
     "name": "stdout",
     "output_type": "stream",
     "text": [
      "pygame 2.0.2 (SDL 2.0.16, Python 3.8.12)\n",
      "Hello from the pygame community. https://www.pygame.org/contribute.html\n"
     ]
    }
   ],
   "source": [
    "import gym\n",
    "import copy\n",
    "import numpy as np\n",
    "import time as time\n",
    "import torch\n",
    "import torch.nn as nn\n",
    "import gym_flappyBird\n",
    "import genetics as gen\n",
    "from tensorboardX import SummaryWriter\n",
    "import matplotlib.pyplot as plt\n",
    "import math\n",
    "import pygame\n",
    "from pygame.locals import *"
   ]
  },
  {
   "cell_type": "code",
   "execution_count": 2,
   "metadata": {},
   "outputs": [],
   "source": [
    "def birdAction(decission, bird):\n",
    "        bird.forceY = 400*decission[0]"
   ]
  },
  {
   "cell_type": "markdown",
   "metadata": {
    "collapsed": true
   },
   "source": [
    "## HIT SPACE TO FLAP"
   ]
  },
  {
   "cell_type": "code",
   "execution_count": null,
   "metadata": {},
   "outputs": [
    {
     "name": "stdout",
     "output_type": "stream",
     "text": [
      "Score: 71\n",
      "Score: 106\n",
      "Score: 116\n",
      "Score: 421\n",
      "Score: 71\n",
      "Score: 71\n",
      "Score: 71\n"
     ]
    }
   ],
   "source": [
    "done = False\n",
    "reward = 0\n",
    "env = gym.make(\"scienceCampBird-v1\")\n",
    "state = env.reset()\n",
    "env.setPipeIntervals([[250,350], [100,300],[120,130]])\n",
    "env.setAction(birdAction)\n",
    "while True:\n",
    "    decission = [0.0]     \n",
    "    for event in pygame.event.get():\n",
    "        if event.type == KEYDOWN and event.key == K_ESCAPE:\n",
    "            \n",
    "            pygame.quit()\n",
    "        elif event.type == KEYDOWN and event.key == K_SPACE:\n",
    "            decission = [1.0]\n",
    "\n",
    "        #        print(acts)\n",
    "    state_old = state\n",
    "    state, _, done, _ = env.step(decission)\n",
    "    reward += 1\n",
    "    env.render()\n",
    "    if done:\n",
    "        state = env.reset()\n",
    "        print ('Score:', reward)\n",
    "        reward = 0\n",
    "        time.sleep(1)"
   ]
  },
  {
   "cell_type": "code",
   "execution_count": null,
   "metadata": {},
   "outputs": [],
   "source": []
  },
  {
   "cell_type": "code",
   "execution_count": null,
   "metadata": {
    "collapsed": true
   },
   "outputs": [],
   "source": []
  },
  {
   "cell_type": "code",
   "execution_count": null,
   "metadata": {
    "collapsed": true
   },
   "outputs": [],
   "source": []
  }
 ],
 "metadata": {
  "kernelspec": {
   "display_name": "Python 3",
   "language": "python",
   "name": "python3"
  },
  "language_info": {
   "codemirror_mode": {
    "name": "ipython",
    "version": 3
   },
   "file_extension": ".py",
   "mimetype": "text/x-python",
   "name": "python",
   "nbconvert_exporter": "python",
   "pygments_lexer": "ipython3",
   "version": "3.8.8"
  }
 },
 "nbformat": 4,
 "nbformat_minor": 2
}
