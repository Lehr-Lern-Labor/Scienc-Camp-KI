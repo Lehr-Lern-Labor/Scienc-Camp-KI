{
 "cells": [
  {
   "cell_type": "code",
   "execution_count": 1,
   "metadata": {
    "scrolled": true
   },
   "outputs": [
    {
     "name": "stdout",
     "output_type": "stream",
     "text": [
      "pygame 2.0.2 (SDL 2.0.16, Python 3.9.7)\n",
      "Hello from the pygame community. https://www.pygame.org/contribute.html\n"
     ]
    }
   ],
   "source": [
    "import gym\n",
    "import copy\n",
    "import numpy as np\n",
    "import time as time\n",
    "import torch\n",
    "import torch.nn as nn\n",
    "from flappyBird.io import *\n",
    "import flappyBird.genetics as gen\n",
    "from tensorboardX import SummaryWriter\n",
    "import matplotlib.pyplot as plt\n",
    "import math\n",
    "import pygame\n",
    "from pygame.locals import *"
   ]
  },
  {
   "cell_type": "code",
   "execution_count": 2,
   "metadata": {},
   "outputs": [],
   "source": [
    "net = torch.load('net.pt')\n",
    "\n",
    "def runDefault():\n",
    "    run(\n",
    "        net,\n",
    "        [250, 350],        #Interval_distance\n",
    "        [100, 300],        #Interval_height\n",
    "        [120, 130],        #Interval_gap\n",
    "        computeReward,\n",
    "        birdAction,\n",
    "        generateFeatures,\n",
    "        10000              #Score_Max\n",
    "    )"
   ]
  },
  {
   "cell_type": "code",
   "execution_count": 3,
   "metadata": {},
   "outputs": [],
   "source": [
    "def generateFeatures(state):\n",
    "    bird = state['bird']\n",
    "    posY = bird.Y\n",
    "    speedY = bird.speedY\n",
    "    pipes = state['pipes']\n",
    "    return posY, speedY, pipes[0].pos-bird.Y, pipes[0].height, pipes[0].gap\n",
    "\n",
    "def birdAction(decission, bird):\n",
    "        bird.forceY = 50 * decission[0]\n",
    "\n",
    "\n",
    "def computeReward(state_old, state_new):\n",
    "    return 1"
   ]
  },
  {
   "cell_type": "code",
   "execution_count": 10,
   "metadata": {},
   "outputs": [],
   "source": [
    "# DEFAULT\n",
    "setImgBird(['sprites/sparrow.png', 'sprites/sparrow_flap.png'], 40)\n",
    "setImgBg(['sprites/background-night.png', 'sprites/background-day.png'], 800)\n",
    "setColorPipe(0, 150, 130)\n",
    "runDefault()"
   ]
  },
  {
   "cell_type": "code",
   "execution_count": null,
   "metadata": {},
   "outputs": [],
   "source": []
  }
 ],
 "metadata": {
  "kernelspec": {
   "display_name": "Python 3 (ipykernel)",
   "language": "python",
   "name": "python3"
  },
  "language_info": {
   "codemirror_mode": {
    "name": "ipython",
    "version": 3
   },
   "file_extension": ".py",
   "mimetype": "text/x-python",
   "name": "python",
   "nbconvert_exporter": "python",
   "pygments_lexer": "ipython3",
   "version": "3.9.7"
  }
 },
 "nbformat": 4,
 "nbformat_minor": 2
}
