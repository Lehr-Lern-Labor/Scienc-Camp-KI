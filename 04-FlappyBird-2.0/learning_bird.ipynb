{
 "cells": [
  {
   "cell_type": "code",
   "execution_count": null,
   "metadata": {
    "scrolled": true
   },
   "outputs": [],
   "source": [
    "import gym\n",
    "import copy\n",
    "import numpy as np\n",
    "import time as time\n",
    "import torch\n",
    "import torch.nn as nn\n",
    "from flappyBird.io import *\n",
    "import flappyBird.genetics as gen\n",
    "from tensorboardX import SummaryWriter\n",
    "import matplotlib.pyplot as plt\n",
    "import math\n",
    "import pygame\n",
    "from pygame.locals import *"
   ]
  },
  {
   "cell_type": "code",
   "execution_count": 2,
   "metadata": {},
   "outputs": [],
   "source": [
    "setImgBird([\n",
    "    'sprites/sparrow.png',\n",
    "    'sprites/sparrow_flap.png'\n",
    "],40)"
   ]
  },
  {
   "cell_type": "code",
   "execution_count": 3,
   "metadata": {},
   "outputs": [],
   "source": [
    "setImgBg([\n",
    "    'sprites/background-night.png',\n",
    "    'sprites/background-day.png'\n",
    "],400)"
   ]
  },
  {
   "cell_type": "code",
   "execution_count": 4,
   "metadata": {},
   "outputs": [],
   "source": [
    "setColorPipe(255,0,0)"
   ]
  },
  {
   "cell_type": "markdown",
   "metadata": {},
   "source": [
    "# Maschine"
   ]
  },
  {
   "cell_type": "markdown",
   "metadata": {},
   "source": [
    "<img src=\"img/bestaerkendes-lernen.png\" align=\"left\" >"
   ]
  },
  {
   "cell_type": "markdown",
   "metadata": {},
   "source": [
    "## Feature extrahieren"
   ]
  },
  {
   "cell_type": "markdown",
   "metadata": {},
   "source": [
    "<img src=\"img/ingame.jpg\" align=\"left\" >"
   ]
  },
  {
   "cell_type": "code",
   "execution_count": 6,
   "metadata": {},
   "outputs": [],
   "source": [
    "def generateFeatures(state):\n",
    "    #TODO\n",
    "    bird = state['bird']\n",
    "    pipes = state['pipes']\n",
    "    return ()"
   ]
  },
  {
   "cell_type": "markdown",
   "metadata": {
    "collapsed": true
   },
   "source": [
    "# Neuronales Netz \n",
    "\n",
    "## Layer\n",
    "nn.Linear(X, Y), Input dim X, Output dim Y\n",
    "\n",
    "## Aktivierungsfunktionen\n",
    "nn.ReLU()\n",
    "\n",
    "\n",
    "nn.Sigmoid()\n",
    "\n",
    "\n",
    "nn.Softmax(dim=1))\n",
    "\n",
    "\n",
    "\n",
    "## Topologie\n",
    "nn.Sequential(Layer, Aktivierungsfunktion, Layer, Aktivierungsfunktion...., Layer)\n",
    "###### Beispiel\n",
    "nn.Sequential(nn.Linear(5, 5),nn.Sigmoid(),nn.Linear(5, 1))\n",
    "\n",
    "### https://pytorch.org/docs/stable/nn.html#linear-layers\n",
    "### https://pytorch.org/docs/stable/generated/torch.nn.Sigmoid.html?highlight=sigmoid#torch.nn.Sigmoid\n"
   ]
  },
  {
   "cell_type": "code",
   "execution_count": 7,
   "metadata": {},
   "outputs": [],
   "source": [
    "#TODO\n",
    "net = nn.Sequential()"
   ]
  },
  {
   "cell_type": "code",
   "execution_count": 8,
   "metadata": {},
   "outputs": [],
   "source": [
    "# Gespeichertes Netz laden\n",
    "#net = torch.load('net.pt')"
   ]
  },
  {
   "cell_type": "code",
   "execution_count": 9,
   "metadata": {},
   "outputs": [],
   "source": [
    "# (trainiertes) Netz inkl. Sprites speichern\n",
    "#export(net, \"test\")"
   ]
  },
  {
   "cell_type": "code",
   "execution_count": null,
   "metadata": {},
   "outputs": [],
   "source": [
    "for name, param in net.named_parameters():\n",
    "    print(name, param)"
   ]
  },
  {
   "cell_type": "markdown",
   "metadata": {},
   "source": [
    "# Aktion festlegen"
   ]
  },
  {
   "cell_type": "markdown",
   "metadata": {},
   "source": [
    "  \n",
    "## Bird attributes\n",
    "\n",
    "### bird.forceX \n",
    "### bird.forceY \n",
    "\n",
    "### bird.speedX  (default 20)\n",
    "### bird.speedY"
   ]
  },
  {
   "cell_type": "code",
   "execution_count": 11,
   "metadata": {},
   "outputs": [],
   "source": [
    "def birdAction(decission, bird):\n",
    "        #TODO\n"
   ]
  },
  {
   "cell_type": "markdown",
   "metadata": {},
   "source": [
    "## Reward  berechnen"
   ]
  },
  {
   "cell_type": "markdown",
   "metadata": {},
   "source": [
    "<img src=\"img/ingame_2.jpg\" align=\"left\" >"
   ]
  },
  {
   "cell_type": "code",
   "execution_count": 12,
   "metadata": {},
   "outputs": [],
   "source": [
    "def computeReward(state_old, state_new):\n",
    "    #TODO\n",
    "    return 0"
   ]
  },
  {
   "cell_type": "markdown",
   "metadata": {},
   "source": [
    "# Mutationsparameter"
   ]
  },
  {
   "cell_type": "markdown",
   "metadata": {},
   "source": [
    "<img src=\"img/ingame_3.jpg\" align=\"left\" >"
   ]
  },
  {
   "cell_type": "code",
   "execution_count": 13,
   "metadata": {},
   "outputs": [],
   "source": [
    "POPULATION_SIZE = 50 #Anzahl der Vögel in der Population\n",
    "PARENTS_COUNT = 10 #Anzahl der besten Vögel, aus denen dann mutiert wird\n",
    "NOISE_STD = 0.1 #Mutationsstärke "
   ]
  },
  {
   "cell_type": "markdown",
   "metadata": {},
   "source": [
    "## Abstand zwischen den Pipes,  Höhe der Pipes, Grösse der Lücke"
   ]
  },
  {
   "cell_type": "code",
   "execution_count": 14,
   "metadata": {},
   "outputs": [],
   "source": [
    "Interval_distance = [250, 350]\n",
    "Interval_height = [100,300]\n",
    "Interval_gap = [120,130]"
   ]
  },
  {
   "cell_type": "markdown",
   "metadata": {},
   "source": [
    "## Max Score"
   ]
  },
  {
   "cell_type": "code",
   "execution_count": 15,
   "metadata": {},
   "outputs": [],
   "source": [
    "Score_Max = 4000"
   ]
  },
  {
   "cell_type": "code",
   "execution_count": null,
   "metadata": {
    "scrolled": true
   },
   "outputs": [],
   "source": [
    "fittestBirds = []\n",
    "\n",
    "env = gym.make(\"scienceCampBird-v1\")\n",
    "env.setPipeIntervals([Interval_distance, Interval_height,Interval_gap])\n",
    "population = gen.Population(POPULATION_SIZE, 5, 2, computeReward, net)\n",
    "env.setAction(birdAction)\n",
    "  #  print(len(population.nets))\n",
    "population.evaluate_on_env(env,generateFeatures, Score_Max)\n",
    "ecount = 0  \n",
    "while True:\n",
    "    population = gen.mutate_population(population, PARENTS_COUNT, NOISE_STD)\n",
    "    population.evaluate_on_env(env, generateFeatures, Score_Max)\n",
    "    fittestBirds.append(population.population[0])\n",
    "    ecount +=1\n",
    "    if(ecount % 5 == 0):\n",
    "        print(\"evaluaton\")\n",
    "        net = population.population[0][1]\n",
    "        score_e = population.population[0][0]\n",
    "        score_p = env.playWithNet(net, generateFeatures, Score_Max, computeReward, ecount)\n",
    "        print(\"----------------------------------------------------------------------------\")\n",
    "        print(\"----------------------------------------------------------------------------\")\n",
    "        print('Population: ', ecount)\n",
    "        print(\"____________________________________________________________________________\")\n",
    "        print('Score Training: ', score_e, ' Score Spiel: ', score_p)\n",
    "        print(\"____________________________________________________________________________\")\n",
    "        for name, param in net.named_parameters():\n",
    "            print(name, param)\n",
    "    scores = [score[0] for score in fittestBirds]\n",
    "    fig, ax = plt.subplots()\n",
    "    ax.plot(scores)\n",
    "\n",
    "    ax.set(xlabel='Pupulation', ylabel='Score',\n",
    "    title=' Scores der besten Vogels der Population')\n",
    "    ax.grid()\n",
    "\n",
    "    fig.savefig(\"test.png\")\n",
    "    plt.show()"
   ]
  },
  {
   "cell_type": "markdown",
   "metadata": {},
   "source": [
    "# Plot"
   ]
  },
  {
   "cell_type": "code",
   "execution_count": null,
   "metadata": {},
   "outputs": [],
   "source": [
    "scores = [score[0] for score in fittestBirds]\n",
    "fig, ax = plt.subplots()\n",
    "ax.plot(scores)\n",
    "\n",
    "ax.set(xlabel='Pupulation', ylabel='Score',\n",
    "       title=' Scores der besten Vogels der Population')\n",
    "ax.grid()\n",
    "\n",
    "fig.savefig(\"test.png\")\n",
    "plt.show()"
   ]
  },
  {
   "cell_type": "code",
   "execution_count": null,
   "metadata": {},
   "outputs": [],
   "source": [
    "i = 0\n",
    "for bird in fittestBirds:\n",
    "        i +=1\n",
    "        net = bird[1]\n",
    "        score_p = bird[0]\n",
    "        print(\"----------------------------------------------------------------------------\")\n",
    "        print(\"----------------------------------------------------------------------------\")\n",
    "        print('Population: ', i)\n",
    "        print(\"____________________________________________________________________________\")\n",
    "        print('Score: ', score_p)\n",
    "        print(\"____________________________________________________________________________\")\n",
    "        for name, param in net.named_parameters():\n",
    "            print(name, param)"
   ]
  },
  {
   "cell_type": "code",
   "execution_count": null,
   "metadata": {},
   "outputs": [],
   "source": [
    "run(\n",
    "    net,\n",
    "    Interval_distance,\n",
    "    Interval_height,\n",
    "    Interval_gap,\n",
    "    computeReward,\n",
    "    birdAction,\n",
    "    generateFeatures,\n",
    "    Score_Max\n",
    ")"
   ]
  },
  {
   "cell_type": "code",
   "execution_count": null,
   "metadata": {},
   "outputs": [],
   "source": [
    "#export(net, 'net.pt')"
   ]
  },
  {
   "cell_type": "markdown",
   "metadata": {
    "collapsed": true
   },
   "source": [
    "# Animation"
   ]
  },
  {
   "cell_type": "markdown",
   "metadata": {
    "collapsed": true
   },
   "source": [
    "Hintergrund: sprites/background-day.png\n",
    "\n",
    "<img src=\"sprites/background-day.png\" align=\"left\" >"
   ]
  },
  {
   "cell_type": "markdown",
   "metadata": {},
   "source": [
    "Bird: \n",
    "\n",
    "sprites/sparrow.png, sprites/sparrow_flap.png\n",
    "\n",
    "<img src=\"sprites/sparrow.png\" align=\"left\" >\n",
    "<img src=\"sprites/sparrow_flap.png\" align=\"left\" >"
   ]
  },
  {
   "cell_type": "code",
   "execution_count": null,
   "metadata": {},
   "outputs": [],
   "source": []
  },
  {
   "cell_type": "code",
   "execution_count": null,
   "metadata": {},
   "outputs": [],
   "source": []
  },
  {
   "cell_type": "code",
   "execution_count": null,
   "metadata": {},
   "outputs": [],
   "source": []
  },
  {
   "cell_type": "code",
   "execution_count": null,
   "metadata": {},
   "outputs": [],
   "source": []
  },
  {
   "cell_type": "code",
   "execution_count": null,
   "metadata": {},
   "outputs": [],
   "source": []
  }
 ],
 "metadata": {
  "kernelspec": {
   "display_name": "Python 3 (ipykernel)",
   "language": "python",
   "name": "python3"
  },
  "language_info": {
   "codemirror_mode": {
    "name": "ipython",
    "version": 3
   },
   "file_extension": ".py",
   "mimetype": "text/x-python",
   "name": "python",
   "nbconvert_exporter": "python",
   "pygments_lexer": "ipython3",
   "version": "3.9.7"
  }
 },
 "nbformat": 4,
 "nbformat_minor": 2
}
