{
 "cells": [
  {
   "cell_type": "markdown",
   "metadata": {},
   "source": [
    "<h1>Tiefe neuronale Netze</h1>\n",
    "\n",
    "In diesem Übungsblatt lernst du\n",
    "\n",
    "<ul>\n",
    "    <li>was tiefe neuronale Netze sind und wie man diese implementiert,</li>\n",
    "    <li>wie Bilder (oder andere Daten) von der KI intepretiert werden und wie die KI Bilder klassifiziert,</li>\n",
    "    <li>die Wichtigkeit einer nicht-linearen Aktivierungsfunktion,</li>\n",
    "    <li>was ein <i>Convolutional Neural Network (CNN)</i> ist und</li>\n",
    "    <li>wie ein Lernprozess eines neuronales Netzes umgesetzt wird.</li>\n",
    "</ul>\n",
    "\n",
    "Du solltest bereits\n",
    "\n",
    "<ul>\n",
    "    <li>die grobe Idee von neuronalen Netzen und deren Ausgabe verstehen,</li>\n",
    "    <li>wissen, was Neuronen, Gewichte und Aktivierungsfunktionen und eine Loss-Funktion sind,</li>\n",
    "    <li>nachvollziehen können, wie die Gewichte in einem neuronalen Netz angepasst werden (Backpropagation) und</li>\n",
    "    <li>mit Tensoren aus der Bibliothek <i>PyTorch</i> umgehen können.</li>\n",
    "</ul>\n",
    "\n",
    "Importiere zunächst alle notwendigen Bibliotheken für dieses Jupyter Notebook, indem du das untere Codefeld ausführst. Beachte, dass du bei jedem Neustart des Kernels auch das untere Codefeld jedes Mal ausführen musst."
   ]
  },
  {
   "cell_type": "code",
   "execution_count": 16,
   "metadata": {},
   "outputs": [],
   "source": [
    "# Führe dieses Feld aus, indem du entweder oben auf 'Run' klickst oder 'Strg + Enter' drückst.\n",
    "import torch \n",
    "import matplotlib.pyplot as plt\n",
    "import numpy as np\n",
    "import torch.nn.functional as F\n",
    "import torch.nn as nn\n",
    "from copy import deepcopy"
   ]
  },
  {
   "cell_type": "markdown",
   "metadata": {},
   "source": [
    "<h2>Was sind tiefe neuronale Netze?</h2>\n",
    "\n",
    "Bis jetzt hast du gelernt, dass ein neuronales Netz aus einer Eingabeschicht (engl. <i>input layer</i>), einer Ausgabeschicht (engl. <i>output layer</i>) und einer Schicht zwischen der Eingabe- und Ausgabeschicht besteht. Die dazwischenliegende Schicht bezeichnet man als <i>hidden layer</i>. Hat ein neuronales Netz eine ausreichend große Anzahl an <i>hidden layers</i>, so wird es als <b>tiefes neuronales Netz</b> (engl. <i><b>deep neural network</b></i>) bezeichnet. \n",
    "\n",
    "&nbsp;\n",
    "\n",
    "\n",
    " <figure>\n",
    "  <img src=\"img/deep_neural_network.webp\" alt=\"Deep Neural Network\" style=\"width:50%\">\n",
    "  <figcaption></figcaption>\n",
    "</figure> \n",
    "\n",
    "&nbsp;\n",
    "\n",
    "In der Grafik siehst du, dass die Neuronen einer beliebigen Schicht mit allen Neuronen der nachfolgenden Schicht verbunden sind. Solche Schichten, die vollständig mit der nachfolgenden Schicht verbunden sind, bezeichnet man als <i><b>fully-connected layer</b></i>. Da dieses neuronale Netz nur aus solchen Schichten besteht, nennt man so ein Netz auch <i>Fully Connected Neural Network</i>.\n",
    "\n",
    "Im Folgenden möchten wir so ein Netz mithilfe von <i>PyTorch</i> umsetzen, um es mithilfe von selbst generierten Daten trainieren zu lassen. \n",
    "\n",
    "____\n",
    "\n",
    "\n",
    "<i class=\"fa fa-laptop\" style=\"font-size:38px\"></i>\n",
    "\n",
    "<i>Ergänze die folgende Klasse, indem du drei vollständig verbundene Schichten im Konstruktur der Klasse einfügst. Die Anzahl der Neuronen der Eingabe- und Ausgabeschichten werden dabei als Parameter angegeben. Die versteckte Schicht soll fünf Neuronen enthalten. Die Funktion 'forward' brauchst du vorerst nicht zu beachten.</i>"
   ]
  },
  {
   "cell_type": "code",
   "execution_count": 2,
   "metadata": {},
   "outputs": [],
   "source": [
    "# Eine Beispielschicht mit 3 Eingängen und 4 Ausgaben.\n",
    "schicht_beispiel = nn.Linear(3, 4)\n",
    "\n",
    "class Net(torch.nn.Module):\n",
    "\n",
    "    def __init__(self, num_in, num_out):\n",
    "        super(Net, self).__init__()\n",
    "        self.name_model = \"Net\"\n",
    "        self.fc1 = nn.Linear(num_in, 5)\n",
    "        self.fc2 = nn.Linear(5, 5)\n",
    "        self.fc3 = nn.Linear(5, num_out)\n",
    "        \n",
    "        self.relu=torch.nn.ReLU()\n",
    "        self.softmax = torch.nn.Softmax()\n",
    "\n",
    "    # Neuronales Netz ohne ReLU-Funktion\n",
    "    '''\n",
    "    def forward(self, x):\n",
    "        \n",
    "        output = self.fc1(x)\n",
    "        output = self.fc2(output)\n",
    "        output = self.softmax(self.fc3(output))\n",
    "        return output\n",
    "    '''\n",
    "    \n",
    "    # Neuronales Netz mit ReLU-Funktion\n",
    "    \n",
    "    def forward(self, x):\n",
    "        \n",
    "        output = self.relu(self.fc1(x))\n",
    "        output = self.relu(self.fc2(output))\n",
    "        output = self.softmax(self.fc3(output))\n",
    "        return output"
   ]
  },
  {
   "cell_type": "markdown",
   "metadata": {},
   "source": [
    "Als Nächstes möchten wir dieses Netz eine bestimmte Aufgabe trainieren lassen. Zunächst schauen wir uns aber an, was Daten bzw. in unserem speziellen Fall Bilder für den Computer eigentlich sind.\n",
    "\n",
    "<h3>Codierung von Bildern</h3>\n",
    "\n",
    "Farben werden im Computer als Zahlenwerte codiert. Die gebräuchlichste Codierungsmethode ist dabei die <b>RGB-Codierung</b>, bei der jede Farbe eine Mischung der drei Farbkanäle rot, grün und blau ist, deren Werte jeweils im Zahlenbereich 0 bis 255 liegen, also 8 Bit groß sind (bspw. kodiert das Tripel (255, 128, 0) die Farbe Orange). Für ein buntes Bild müssen also pro Pixel drei Zahlenwerte gespeichert werden.  \n",
    "\n",
    "&nbsp;\n",
    "\n",
    "\n",
    " <figure>\n",
    "  <img src=\"img/lincoln_pixels.png\" alt=\"Abraham Lincoln Pixels\" style=\"width:50%\">\n",
    "  <figcaption></figcaption>\n",
    "</figure> \n",
    "\n",
    "&nbsp;\n",
    "\n",
    "Bei Schwarz-weiß Bildern wird dagegen nur ein Zahlenwert pro Pixel gespeichert. Der Zahlenwert 0 entspricht dabei einem komplett schwarzen Pixel, während der Wert 255 einem weißen Pixel entspricht. Zahlenwerte zwischen 0 und 255 entsprechen unterschiedlichen Graustufen. \n",
    "\n",
    "Bilder sind zusammgesetzte Pixel und für den Computer somit einfach nur Listen aus Zahlen, die sich als Eingaben für ein neuronales Netz eignen. Die Anzahl der Pixel muss dabei der Anzahl der Neuronen der Eingabeschicht entsprechen.\n",
    "\n",
    "Um die Komplexität im Folgenden soweit wie möglich zu reduzieren, betrachten wir Graustufenbilder, die nur aus wenigen Pixel bestehen. Ein Bild, das nur aus einem Pixel besteht, können wir als Punkt in einem eindimensionalen Koordinatensystem markieren. Ein Bild aus zwei Pixeln ist ein Punkt im zweidimensionalen Koordinatensytem. \n",
    "\n",
    "____\n",
    "\n",
    "<i class=\"fa-solid fa-eye\" style=\"font-size:38px\"></i>\n",
    "\n",
    "<i>Führe das untere Feld aus. Du siehst drei zwei Pixel große Bilder, die durch die Zahlenwerte (50, 120), (150, 210) und (200, 100) codiert werden.</i>"
   ]
  },
  {
   "cell_type": "code",
   "execution_count": 3,
   "metadata": {},
   "outputs": [
    {
     "data": {
      "image/png": "[encoded data removed]",
      "text/plain": [
       "<Figure size 432x288 with 1 Axes>"
      ]
     },
     "metadata": {
      "needs_background": "light"
     },
     "output_type": "display_data"
    }
   ],
   "source": [
    "plt.scatter([50, 150, 200], [120, 210, 100])\n",
    "plt.xlim(0, 255)\n",
    "plt.ylim(0, 255)\n",
    "plt.xlabel(\"Wert des ersten Pixels\")\n",
    "plt.ylabel(\"Wert des zweiten Pixels\")\n",
    "plt.show()"
   ]
  },
  {
   "cell_type": "markdown",
   "metadata": {},
   "source": [
    "Drei Pixel große Bilder sind also Punkte im dreidimensionalen Raum und <i>n</i> Pixel große <b>Bilder</b> (für <i>n</i> > 3) sind <b>Punkte in einem <i>n</i>-dimensionalen Raum</b>, die unsere Vorstellung weit übersteigen.\n",
    "\n",
    "Was macht nun ein neuronales Netz? Wie unterscheidet ein neuronales Netz eine Katze von einem Hund? Diesen Fragen widmen wir uns im nächsten Abschnitt.\n",
    "\n",
    "<h3>Neuronales Netz mit Datenpunkten trainieren lassen</h3>\n",
    "\n",
    "Wir betrachten in diesem Abschnitt nur zwei Pixel große Bilder und sehen davon ab, dass sie nur Werte im Bereich von 0 bis 255 annehmen können.\n",
    "\n",
    "____\n",
    "\n",
    "\n",
    "<i class=\"fa fa-laptop\" style=\"font-size:38px\"></i>\n",
    "\n",
    "<i>Implementiere eine Funktion, die als Parameter die x- und y-Koordinate eines Punktes erhält und '0' zurückgibt, wenn die y-Koordinate größer oder gleich der x-Koordinate ist und '1', wenn das nich der Fall ist. </i>"
   ]
  },
  {
   "cell_type": "code",
   "execution_count": 4,
   "metadata": {},
   "outputs": [
    {
     "data": {
      "text/plain": [
       "'\\ndef f(x,y):\\n    if y >= 1/2 * x * x - 20:\\n        return torch.tensor([0], dtype=int)\\n    else:\\n        return torch.tensor([1], dtype=int)\\n'"
      ]
     },
     "execution_count": 4,
     "metadata": {},
     "output_type": "execute_result"
    }
   ],
   "source": [
    "\n",
    "def f(x,y):\n",
    "    if y >= x:\n",
    "        return torch.tensor([0], dtype=int)\n",
    "    else:\n",
    "        return torch.tensor([1], dtype=int)\n",
    "\n",
    "'''\n",
    "def f(x,y):\n",
    "    if y >= 1/2 * x * x - 20:\n",
    "        return torch.tensor([0], dtype=int)\n",
    "    else:\n",
    "        return torch.tensor([1], dtype=int)\n",
    "'''"
   ]
  },
  {
   "cell_type": "markdown",
   "metadata": {},
   "source": [
    "____\n",
    "\n",
    "\n",
    "<i class=\"fa fa-laptop\" style=\"font-size:38px\"></i>\n",
    "\n",
    "<i>Erzeuge nun 500 zufällige zweidimensionale Punkte und visualisiere sie mit Hilfe von Pyplot. Ein Punkt, dessen x- und y-Koordinaten eingesetzt in die gerade implementierte Funktion '0' ergibt, gehört zur 1. Kategorie und soll dabei blau eingefärbt werden. Ein Punkt, dessen Koordinaten das Ergebnis '1' liefern, gehört zur 2. Kategorie und soll rot eingefärbt werden.</i>"
   ]
  },
  {
   "cell_type": "code",
   "execution_count": 5,
   "metadata": {},
   "outputs": [
    {
     "data": {
      "image/png": "[encoded data removed]",
      "text/plain": [
       "<Figure size 432x288 with 1 Axes>"
      ]
     },
     "metadata": {
      "needs_background": "light"
     },
     "output_type": "display_data"
    }
   ],
   "source": [
    "# Trainingsdaten\n",
    "train_data = torch.randn(500, 2) * 10 \n",
    "train_visualize = train_data.numpy()\n",
    "\n",
    "x = train_visualize[:, :1]\n",
    "y = train_visualize[:, 1:]\n",
    "\n",
    "list1 = []\n",
    "for idx, a in enumerate(x):\n",
    "    if f(a, y[idx]) == 0:\n",
    "        plt.scatter([a], [y[idx]], color=\"blue\")\n",
    "    else:\n",
    "        plt.scatter([a], [y[idx]], color=\"red\")\n",
    "\n",
    "plt.show()"
   ]
  },
  {
   "cell_type": "markdown",
   "metadata": {},
   "source": [
    "Nun möchten wir einen Punkt als Eingabe in unser neuronales Netz einsetzen und eine Ausgabe bekommen. Dafür müssen wir in unserem Netz die Methode <i>forward</i> implementieren. In dieser Methode geben wir an, wie die Eingabe Layer für Layer verarbeitet wird.\n",
    "\n",
    "____\n",
    "\n",
    "<i class=\"fa fa-laptop\" style=\"font-size:38px\"></i>\n",
    "\n",
    "<i>Implementiere oben in deinem neuronalen Netz die Methode 'forward'. Die Eingabe des ersten Layers entspricht dabei dem Parameter 'num_in', die Eingabe des zweiten Layers der Ausgabe des ersten Layers usw. Die Methode soll die Ausgabe der letzten Schicht in Prozent zurückgeben. (Du brauchst zunächst keine Aktivierungsfunktion zu verwenden.)</i>\n",
    "\n",
    "<h3>Trainieren und testen</h3>\n",
    "\n",
    "Jetzt sind wir bereit unser neuronales Netz zu trainieren. Wir haben bereits oben unsere Trainingsdaten erzeugt. Jetzt müssen wir diesen Daten noch labeln, d.h. der entsprechenden Klasse zuweisen. Dieser Prozess ist normalerweise sehr aufwendig, weil ein oder sogar mehrere Menschen sich die Daten durchsehen und der entsprechenden Kategorie zuweisen müssen (du hast das bestimmt auch schon einmal unfreiwillig bei einer Captcha gemacht). Für unseren Fall können wir aber für das Labeln die uns bekannte Funktion benutzen, die das neuronale Netz erlernen soll. \n",
    "\n",
    "____\n",
    "\n",
    "<i class=\"fa fa-laptop\" style=\"font-size:38px\"></i>\n",
    "\n",
    "<i>Erzeuge einen Tensor, dessen Einträge die entsprechenden Labels der Datenpunkte sind.</i>"
   ]
  },
  {
   "cell_type": "code",
   "execution_count": 6,
   "metadata": {},
   "outputs": [],
   "source": [
    "train_labels = torch.tensor([], dtype=int)\n",
    "for x in train_data:\n",
    "    y = f(x[0],x[1])\n",
    "    train_labels = torch.cat((train_labels, y), 0)"
   ]
  },
  {
   "cell_type": "markdown",
   "metadata": {},
   "source": [
    "Wir haben also nun Trainingsdaten erzeugt. Um ein zufriedenstellendes Training zu gewährleisten, brauchen wir allerdings noch Testdaten, die sich jeweils von den Trainingsdaten <b>unterscheiden</b>."
   ]
  },
  {
   "cell_type": "markdown",
   "metadata": {},
   "source": [
    "____\n",
    "\n",
    "<i class=\"fa fa-laptop\" style=\"font-size:38px\"></i>\n",
    "\n",
    "<i>Erzeuge 50 Testdatenpunkte und label sie entsprechend der Funktion wie bei den Trainingsdaten.</i>"
   ]
  },
  {
   "cell_type": "code",
   "execution_count": 7,
   "metadata": {},
   "outputs": [],
   "source": [
    "test_data = torch.randn(50, 2) * 10\n",
    "test_labels = torch.tensor([], dtype=int)\n",
    "for x in test_data:\n",
    "    y = f(x[0],x[1])\n",
    "    test_labels = torch.cat((test_labels, y), 0)"
   ]
  },
  {
   "cell_type": "markdown",
   "metadata": {},
   "source": [
    "____\n",
    "\n",
    "<i class=\"fa-solid fa-eye\" style=\"font-size:38px\"></i>\n",
    "\n",
    "<i>Versuche die Idee der Implementierung der Trainingsmethode zu verstehen. Erzeuge eine Instanz von deinem neuronalen Netz und übergebe der Trainingsmethode dein Modell. Lass dir dabei mit der 'print'-Funktion die Ausgaben des neuronalen Netzes und die Labels der Datenpunkte ausgeben, um besser nachzuvollziehen, wie das Training abläuft.</i>"
   ]
  },
  {
   "cell_type": "code",
   "execution_count": 8,
   "metadata": {},
   "outputs": [],
   "source": [
    "def train(model, train_data, train_labels, lr):\n",
    "    optimizer = torch.optim.Adam(model.parameters(), lr=lr)\n",
    "    loss_fn = torch.nn.CrossEntropyLoss()\n",
    "    model.train(True)\n",
    "    optimizer.zero_grad()\n",
    "\n",
    "    outputs = model(train_data)\n",
    "    # print(\"outputs=\", outputs)\n",
    "    # print(\"labels=\", y)\n",
    "    # print(\"max(outputs)=\", torch.argmax(outputs, 1))\n",
    "\n",
    "    loss = loss_fn(outputs, train_labels)\n",
    "    loss.backward()\n",
    "    optimizer.step()\n",
    "    # print(\"Loss=\", loss)"
   ]
  },
  {
   "cell_type": "markdown",
   "metadata": {},
   "source": [
    "Um zu beurteilen, wie gut das neuronale Netz lernt, betrachten wir die <b>Loss-Funktion</b>. Die Loss-Funktion gibt uns an, wie weit die Ausgaben des neuronalen Netzes von den richtigen Labels abweichen. Je kleiner der entsprechende Wert der Loss-Funktion für ein bestimmte Eingabe, desto besser ist die Klassifikation.\n",
    "\n",
    "&nbsp;\n",
    "\n",
    " <figure>\n",
    "  <img src=\"img/train_val_loss_landscape.png\" alt=\"Loss-Function\" style=\"width:50%\">\n",
    "  <figcaption></figcaption>\n",
    "</figure> \n",
    "\n",
    "&nbsp;\n",
    "\n",
    "Ein weiteres Maß zur Bewertung der Güte eines neuronalen Netzes ist die <i><b>Accuracy</b></i>. Die Accuracy gibt in Prozent an, wie viele Daten richtig klassifiziert wurden. \n",
    "    \n",
    "$\\text{Accuracy} = \\frac{\\text{correctly classified}}{\\text{total}} $\n",
    "\n",
    "____\n",
    "\n",
    "<i style=\"font-size:38px\">?</i>\n",
    "\n",
    "<i>Auf welchen Daten muss die Loss-Function und die Accuracy möglichst gut sein? Auf den Trainings- oder Testdaten? Ist die Accuracy immer ein gutes Maß, um die Güte eines neuronalen Netzes zu beurteilen?</i>\n",
    "\n",
    "&nbsp;\n",
    "<details>\n",
    "<summary>➤ Klick hier, um deine Antwort zu prüfen.</summary>\n",
    "Das Ziel ist es, ein neuronales Netz so zu trainieren, dass es ungesehenen Daten gut klassifizieren kann. Ein geringer Wert der Loss-Funktion und eine hohe Accuracy sind zwar Indizien dafür, dass das neuronale Netz etwas gelernt hat, aber nicht ausreichend dafür, dass es ungesehenen Daten gut klassifiziert. Es kann nämlich sein, dass das Netz die Trainingsdaten auswendig gelernt hat und die Perfomance auf unbekannten Daten sehr schlecht ist.\n",
    "    \n",
    "&nbsp;\n",
    "\n",
    " <figure>\n",
    "  <img src=\"img/overfitting.png\" alt=\"Overfitting\" style=\"width:40%\">\n",
    "  <figcaption></figcaption>\n",
    "</figure> \n",
    "\n",
    "&nbsp;\n",
    "    \n",
    "Es ist also wichtig, das Training rechtzeitig abzubrechen.\n",
    "    \n",
    "</details>\n",
    "\n",
    "____\n",
    "\n",
    "<i class=\"fa fa-laptop\" style=\"font-size:38px\"></i>\n",
    "\n",
    "<i>Implementiere eine Testfunktion, die den Wert der Loss-Funktion und der Accuracy auf den Testdaten ausgibt und die den Wert der Loss-Funktion ausgibt.</i>"
   ]
  },
  {
   "cell_type": "code",
   "execution_count": 9,
   "metadata": {},
   "outputs": [],
   "source": [
    "def test(model, test_data, test_labels):\n",
    "    model.train(False)\n",
    "    loss_fn = torch.nn.CrossEntropyLoss()\n",
    "    outputs = model(test_data)\n",
    "    loss = loss_fn(outputs, test_labels)\n",
    "    # print(\"Loss=\", loss)\n",
    "    correctly_classified = 0\n",
    "    for idx, x in enumerate(outputs):\n",
    "        if torch.argmax(x) == test_labels[idx]:\n",
    "            correctly_classified += 1\n",
    "    print(f\"{model.name_model} Correctly classified: {correctly_classified} / {outputs.shape[0]}\")\n",
    "    return loss"
   ]
  },
  {
   "cell_type": "markdown",
   "metadata": {},
   "source": [
    "____\n",
    "\n",
    "<i class=\"fa fa-laptop\" style=\"font-size:38px\"></i>\n",
    "\n",
    "<i>Implementiere nun den gesamten Trainingsprozess. Werte dabei nach jeder Epoche die Loss-Funktion und die Accuracy auf den Testdaten aus. Wenn der aktuelle Wert der Loss-Funktion nach 3 Durchläufen nicht wesentlich kleiner ist als der bisher minimale Wertändert, verkleinere die aktuelle Lernrate um den Faktor 10. Speichere dabei immer das Modell mit dem niedrigsten Loss.</i>"
   ]
  },
  {
   "cell_type": "code",
   "execution_count": 10,
   "metadata": {},
   "outputs": [
    {
     "name": "stdout",
     "output_type": "stream",
     "text": [
      "Net Correctly classified: 31 / 50\n",
      "Loss=0.6211991310119629\n",
      "Net Correctly classified: 46 / 50\n",
      "Loss=0.46709057688713074\n",
      "Net Correctly classified: 45 / 50\n",
      "Loss=0.4482923150062561\n",
      "Net Correctly classified: 46 / 50\n",
      "Loss=0.4159912168979645\n",
      "Net Correctly classified: 46 / 50\n",
      "Loss=0.41984280943870544\n",
      "Net Correctly classified: 45 / 50\n",
      "Loss=0.4038977026939392\n",
      "Net Correctly classified: 48 / 50\n",
      "Loss=0.3718649744987488\n",
      "Net Correctly classified: 45 / 50\n",
      "Loss=0.3954025208950043\n",
      "Net Correctly classified: 49 / 50\n",
      "Loss=0.357232928276062\n",
      "Net Correctly classified: 46 / 50\n",
      "Loss=0.3928709328174591\n",
      "Net Correctly classified: 49 / 50\n",
      "Loss=0.3506692945957184\n",
      "Net Correctly classified: 46 / 50\n",
      "Loss=0.39212700724601746\n",
      "Net Correctly classified: 49 / 50\n",
      "Loss=0.3464348614215851\n",
      "Net Correctly classified: 46 / 50\n",
      "Loss=0.39162203669548035\n",
      "Net Correctly classified: 49 / 50\n",
      "Loss=0.3394944667816162\n",
      "Net Correctly classified: 44 / 50\n",
      "Loss=0.405493825674057\n",
      "Net Correctly classified: 49 / 50\n",
      "Loss=0.3390747904777527\n",
      "Net Correctly classified: 45 / 50\n",
      "Loss=0.40144607424736023\n",
      "Net Correctly classified: 49 / 50\n",
      "Loss=0.3321506381034851\n",
      "Net Correctly classified: 46 / 50\n",
      "Loss=0.3948885202407837\n"
     ]
    },
    {
     "name": "stderr",
     "output_type": "stream",
     "text": [
      "/home/mp/anaconda3/envs/acl/lib/python3.6/site-packages/ipykernel_launcher.py:32: UserWarning: Implicit dimension choice for softmax has been deprecated. Change the call to include dim=X as an argument.\n"
     ]
    }
   ],
   "source": [
    "def get_model(model):\n",
    "      return deepcopy(model)\n",
    "\n",
    "epochs = 20\n",
    "net = Net(2,2)\n",
    "lr = 0.1\n",
    "loss_min = 100000000\n",
    "counter = 0\n",
    "best_model = get_model(net)\n",
    "\n",
    "for i in range(epochs):\n",
    "    # Training\n",
    "    train(net, train_data, train_labels, lr)\n",
    "    # Test\n",
    "    loss = test(net, test_data, test_labels)\n",
    "    print(f\"Loss={loss}\")\n",
    "    \n",
    "    # Falls der Loss nach drei Durchläufen nicht wesentlich kleiner wird \n",
    "    # als der bisher minimaler Loss, dann wird die Lernrate um den Faktor \n",
    "    # 10 verkleinert.\n",
    "    \n",
    "    if loss - loss_min > 0.1:\n",
    "        print(\"Diff=\", loss - loss_min)\n",
    "        counter += 1\n",
    "        if counter == 3:\n",
    "            lr /= 10\n",
    "            counter = 0\n",
    "            model = best_model\n",
    "            print(\"#### New learning rate\", lr)\n",
    "            \n",
    "    # Wenn der aktuelle Loss minimal ist, dann wird dieser in der Variablen \n",
    "    # 'loss_min' gespeichert und das beste Modell in der Variablen 'best_model'.\n",
    "    \n",
    "    else:\n",
    "        loss_min = loss\n",
    "        counter = 0\n",
    "        best_model = get_model(net)"
   ]
  },
  {
   "cell_type": "markdown",
   "metadata": {},
   "source": [
    "____\n",
    "\n",
    "<i class=\"fa fa-laptop\" style=\"font-size:38px\"></i>\n",
    "\n",
    "<i>Ersetze nun deine Funktion durch eine nicht-lineare Funktion (z.B.$f(x) = \\frac{1}{2} x^2 - 20$) und lass das Netzwerk noch einmal trainieren. Was beobachtest du?</i>\n",
    "\n",
    "&nbsp;\n",
    "\n",
    "<details>\n",
    "<summary>➤ Klick hier, um fortzufahren.</summary>\n",
    "\n",
    "Das Netzwerk sollte die Daten nicht mehr mit so einer guten Genauigkeit klassifizieren können, weil die Daten nicht mehr mit Hilfe einer Linie trennbar sind. Das liegt daran, dass keine Aktivierungsfunktion verwendet wird bzw. die Aktivierungsfunktion jeder Schicht des neuronalen Netzes linear ist. \n",
    "    \n",
    "</details>\n",
    "\n",
    "<h3>Was lernt eigentlich das neuronale Netzwerk beim Training?</h3>\n",
    "\n",
    "In diesem Abschnitt gehen wir der Frage nach, was das neuronale Netzwerk beim Training eigentlich lernt.\n",
    "\n",
    "Wie wir wissen sind unterschiedliche Daten (wie z.B. Bilder) n-dimensionale Punkte in einem n-dimensionalem Koordinatensystem. Wenn das Netzwerk nun mit diesen Punkten trainiert wird, lernt es im Laufe des Trainings, welche Punkte zu welcher Klasse gehören und kann im Optimalfall auch ähnliche unbekannte Daten richtig einordnen.\n",
    "\n",
    "&nbsp;\n",
    "\n",
    " <figure>\n",
    "  <img src=\"img/layer_sizes.jpeg\" alt=\"2-dimensional space\" style=\"width:25%\">\n",
    "  <figcaption></figcaption>\n",
    "</figure> \n",
    "\n",
    "&nbsp;\n",
    "\n",
    "<b>Was das Netzwerk also im Grunde genommen lernt, ist eine Trennlinie/-kurve zwischen den Datenpunkten zu ziehen</b>. \n",
    "\n",
    "Wenn die Aktivierungsfunktion linear ist, so ist es auch nur möglich linear trennbare Datenpunkte zu separieren. Wenn die Aktvierungsfunktion nicht linear ist, so ist es auch möglich wie in der Grafik Daten mithilfe einer Trennkurve voneinander zu trennen.\n",
    "\n",
    "Die wahrscheinlich am häufigsten verwendete nicht lineare Funktion in neuronalen Netzen ist die ReLu-Funktion. \n",
    "\n",
    "____\n",
    "\n",
    "<i class=\"fa fa-laptop\" style=\"font-size:38px\"></i>\n",
    "\n",
    "<i>Füge in der 'forward'-Methode deines neuronalen Netzes nach jeder Ausgabe eines Layers eine ReLu-Funktion hinzu und lasse das Netzwerk erneut auf den Daten, die durch deine nicht-lineare Funktion erzeugt wurden trainieren. Was beobachtest du nun?</i>"
   ]
  },
  {
   "cell_type": "markdown",
   "metadata": {},
   "source": [
    "____\n",
    "\n",
    "<i class=\"fa fa-laptop\" style=\"font-size:38px\"></i>\n",
    "\n",
    "<i>Zusatzaufgabe: Generiere drei oder mehr Klassen von Datenpunkten mit Hilfe einer von dir gewählten Funktion. Trainiere anschließend ein neuronales Netz, das neue, frei gewählte Datenpunkte (der Funktion entsprechend) deinen gewählten Klassen richtig zuordnet.</i>\n",
    "\n",
    "<span style=\"color:blue\"><i>Übrigens</i></span>: Die Berechnung der Gradienten bei der Backpropagation erfordern sehr viel Rechenaufwand. Eine CPU wird nur bei kleinen Daten(mengen) gute Ergebnisse in überschaubarer Zeit liefern können. Aus diesem Grund verwendet man GPU-Einheiten (Grafikprozessoren), um ein neuronales Netz trainieren zu lassen. Der Vorteil dieser Verwendung besteht darin, dass die Berechnungen <i>parallel</i> ablaufen können und das Netz somit viel schneller trainiert.\n",
    "\n",
    "<h2>Convolutionale Neural Networks (CNNs)</h2>\n",
    "\n",
    "Angenommen du möchtest (relativ große) Bilder mit einem Netzwerk aus Fully-Connected-Layern klassifizieren. \n",
    "\n",
    "\n",
    "____\n",
    "\n",
    "<i style=\"font-size:38px\">?</i>\n",
    "\n",
    "<i>Eine Schicht hat 64 Neuronen und ist mit einer Schicht aus 100 Neuronen verbunden. Wie viele Gewichte werden zwischen diesen beiden Schichten gelernt?</i>\n",
    "\n",
    "&nbsp;\n",
    "<details>\n",
    "<summary>➤ Klick hier, um deine Antwort zu prüfen.</summary>\n",
    "64 * 100 = 6400 Gewichte (ohne die Bias-Gewichte) werden gelernt.\n",
    "    \n",
    "</details>\n",
    "\n",
    "Die Anzahl der erlernbaren Gewichten kann in einem Fully-Connected-Netzwerk sehr groß werden und das Lernen u.a. deshalb ineffektiv. Aus diesem Grund hat man sich für die Klassifikation von Bidern eine neue Architektur von neuronalen Netzen überlegt.\n",
    "\n",
    "<b><i>Convolutional Neural Networks</i></b> (deutsch faltende neuronale Netze) bestehen aus unterschiedlichen Schichten. \n",
    "\n",
    "\n",
    "&nbsp;\n",
    "\n",
    " <figure>\n",
    "  <img src=\"img/cnn.jpeg\" alt=\"CNN\" style=\"width:70%\">\n",
    "  <figcaption></figcaption>\n",
    "</figure> \n",
    "\n",
    "&nbsp;\n",
    "\n",
    "____\n",
    "\n",
    "<i class=\"fa-solid fa-eye\" style=\"font-size:38px\"></i>\n",
    "\n",
    "<i>Schau dir folgendens Video an, um die Idee von CNNs zu verstehen:</i> https://www.youtube.com/watch?v=YRhxdVk_sIs\n",
    "\n",
    "Die <b>Convolutional Layer</b> bilden den Kern von CNNs. In der Grafik siehst du, was genau in so einem Layer passiert.\n",
    "\n",
    "&nbsp;\n",
    "\n",
    " <figure>\n",
    "  <img src=\"img/convlayer.png\" alt=\"CNN\" style=\"width:70%\">\n",
    "  <figcaption></figcaption>\n",
    "</figure> \n",
    "\n",
    "&nbsp;\n",
    "\n",
    "(Hier ist das Prinziep des Convolutional Layers mit einer Animation dargestellt: https://developers.google.com/machine-learning/glossary/#convolutional_neural_network)\n",
    "\n",
    "Nach einem Convolutional Layer folgt zumeist ein <b>Max Pooling Layer</b>, der die Informationen reduziert. Die Gewichte von dieser Schicht werden <i>nicht</i> erlernt.\n",
    "\n",
    "&nbsp;\n",
    "\n",
    " <figure>\n",
    "  <img src=\"img/max_pooling.png\" alt=\"Max Pooling\" style=\"width:50%\">\n",
    "  <figcaption></figcaption>\n",
    "</figure> \n",
    "\n",
    "&nbsp;\n",
    "\n",
    "\n",
    "\n"
   ]
  },
  {
   "cell_type": "markdown",
   "metadata": {},
   "source": [
    "____\n",
    "\n",
    "<i class=\"fa fa-laptop\" style=\"font-size:38px\"></i>\n",
    "\n",
    "<i>Implementiere ein Convolutional Neural Network, um die Klassifikation von den gemalten Ostereiern zu umzusetzen. Du findest im Folgenden kleine Codesnippets, die dir helfen sollen diese Aufgabe zu lösen. Zögere nicht, dir von jemandem helfen zu lassen!</i>"
   ]
  },
  {
   "cell_type": "code",
   "execution_count": 17,
   "metadata": {},
   "outputs": [],
   "source": [
    "import torchvision\n",
    "\n",
    "# Hier könnte der Pfad zu deinen Daten / die Pfade zu den Ordnern mit den Trainings- und Testbildern stehen.\n",
    "train_dataset_path = 'DataSet/train'\n",
    "test_dataset_path = 'DataSet/test'"
   ]
  },
  {
   "cell_type": "code",
   "execution_count": 18,
   "metadata": {},
   "outputs": [],
   "source": [
    "# Hier könnte die Klasse deines CNNs implementiert sein.\n",
    "# Folgende Methoden könnten dir dabei helfen.\n",
    "\n",
    "# Convolutional Layer\n",
    "intput_channels = 3\n",
    "output_channels = 6\n",
    "kernel_size = 5\n",
    "nn.Conv2d(intput_channels, output_channels, kernel_size)\n",
    "\n",
    "# Max Pooling Layer\n",
    "kernel_size_max = 2\n",
    "nn.MaxPool2d(kernel_size_max, 1)\n",
    "\n",
    "class ConvNet(nn.Module):\n",
    "    def __init__(self):\n",
    "        super(ConvNet, self).__init__()\n",
    "        self.conv1 = nn.Conv2d(3, 6, 5)\n",
    "        self.pool = nn.MaxPool2d(2, 2)\n",
    "        self.conv2 = nn.Conv2d(6, 16, 5)\n",
    "        # self.fc1 = nn.Linear(16 * 4 * 4, 120)\n",
    "        self.fc1 = nn.Linear(16 * 13 * 13, 120)\n",
    "        self.fc2 = nn.Linear(120, 84)\n",
    "        self.fc3 = nn.Linear(84, 3)\n",
    "        self.softmax = torch.nn.Softmax()\n",
    "\n",
    "    def forward(self, x):\n",
    "        # -> n, 3, 32, 32\n",
    "        x = self.pool(F.relu(self.conv1(x)))  # -> n, 6, 14, 14\n",
    "        x = self.pool(F.relu(self.conv2(x)))  # -> n, 16, 5, 5\n",
    "        # print(x.shape)\n",
    "        # x = x.view(-1, 16 * 617 * 433)            # -> n, 400\n",
    "        # x = x.view(-1, 16 * 4 * 4)\n",
    "        x = x.view(-1, 16 * 13 * 13)\n",
    "        x = F.relu(self.fc1(x))               # -> n, 120\n",
    "        x = F.relu(self.fc2(x))               # -> n, 84\n",
    "        x = self.fc3(x)                       # -> n, 10\n",
    "        return self.softmax(x)"
   ]
  },
  {
   "cell_type": "code",
   "execution_count": 22,
   "metadata": {},
   "outputs": [],
   "source": [
    "# Hier werden deine Trainings- und Testdaten in einem Trainloader geladen.\n",
    "import torchvision.transforms as transforms\n",
    "import torch.utils.data as data\n",
    "import torchvision \n",
    "\n",
    "train_transforms = transforms.Compose([\n",
    "  transforms.Resize([64,64]),\n",
    "  transforms.ToTensor()\n",
    "])\n",
    "\n",
    "TRAIN_DATA_PATH = '/home/mp/Documents/Hiwi/KICamp2022/Science-Camp-KI/03-EggClassification/Files/SC-KI_2021'\n",
    "\n",
    "train_dataset = torchvision.datasets.ImageFolder(root=TRAIN_DATA_PATH, transform=train_transforms)\n",
    "train_loader = data.DataLoader(train_dataset, batch_size=16, shuffle=True)"
   ]
  },
  {
   "cell_type": "code",
   "execution_count": 25,
   "metadata": {},
   "outputs": [
    {
     "ename": "SyntaxError",
     "evalue": "invalid syntax (<ipython-input-25-c5948ec2f9be>, line 4)",
     "output_type": "error",
     "traceback": [
      "\u001b[0;36m  File \u001b[0;32m\"<ipython-input-25-c5948ec2f9be>\"\u001b[0;36m, line \u001b[0;32m4\u001b[0m\n\u001b[0;31m    tf.node.encodeJpeg(bigMess).then((f) => {\u001b[0m\n\u001b[0m                                          ^\u001b[0m\n\u001b[0;31mSyntaxError\u001b[0m\u001b[0;31m:\u001b[0m invalid syntax\n"
     ]
    }
   ],
   "source": [
    "import tensorflow as tf\n",
    "\n",
    "bigMess = tf.randomUniform([400, 400, 3], 0, 255); \n",
    "tf.node.encodeJpeg(bigMess).then((f) => { \n",
    "fs.writeFileSync(\"simple.jpg\", f); \n",
    "console.log(\"Basic JPG 'simple.jpg' written\");\n",
    "  });"
   ]
  },
  {
   "cell_type": "code",
   "execution_count": null,
   "metadata": {},
   "outputs": [],
   "source": [
    "# Hier könntest du deine train- und test-Methoden implementieren.\n",
    "# Orientiere dich am oberen Code.\n",
    "\n",
    "# Verwende diesen Optimizer für ein neuronales Netz 'net'\n",
    "optimizer = torch.optim.Adam(net.parameters(), lr=0.0001)\n"
   ]
  },
  {
   "cell_type": "code",
   "execution_count": null,
   "metadata": {},
   "outputs": [],
   "source": [
    "# Hier könntest du dein Training umsetzen.\n",
    "# Nach jeder Epoche solltest du deinen Loss und die Accuracy ausgeben.\n",
    "# Tipp: Speichere immer das Modell mit dem geringsten durchschnittlichen \n",
    "# Loss-Wert als optimales Modell ab. \n",
    "\n"
   ]
  },
  {
   "cell_type": "code",
   "execution_count": 26,
   "metadata": {},
   "outputs": [
    {
     "data": {
      "image/png": "[encoded data removed]",
      "text/plain": [
       "<Figure size 432x288 with 1 Axes>"
      ]
     },
     "metadata": {
      "needs_background": "light"
     },
     "output_type": "display_data"
    },
    {
     "data": {
      "image/png": "[encoded data removed]",
      "text/plain": [
       "<Figure size 432x288 with 1 Axes>"
      ]
     },
     "metadata": {
      "needs_background": "light"
     },
     "output_type": "display_data"
    },
    {
     "data": {
      "image/png": "[encoded data removed]",
      "text/plain": [
       "<Figure size 432x288 with 1 Axes>"
      ]
     },
     "metadata": {
      "needs_background": "light"
     },
     "output_type": "display_data"
    },
    {
     "data": {
      "image/png": "[encoded data removed]",
      "text/plain": [
       "<Figure size 432x288 with 1 Axes>"
      ]
     },
     "metadata": {
      "needs_background": "light"
     },
     "output_type": "display_data"
    },
    {
     "data": {
      "image/png": "[encoded data removed]",
      "text/plain": [
       "<Figure size 432x288 with 1 Axes>"
      ]
     },
     "metadata": {
      "needs_background": "light"
     },
     "output_type": "display_data"
    },
    {
     "data": {
      "image/png": "[encoded data removed]",
      "text/plain": [
       "<Figure size 432x288 with 1 Axes>"
      ]
     },
     "metadata": {
      "needs_background": "light"
     },
     "output_type": "display_data"
    },
    {
     "data": {
      "image/png": "[encoded data removed]",
      "text/plain": [
       "<Figure size 432x288 with 1 Axes>"
      ]
     },
     "metadata": {
      "needs_background": "light"
     },
     "output_type": "display_data"
    },
    {
     "data": {
      "image/png": "[encoded data removed]",
      "text/plain": [
       "<Figure size 432x288 with 1 Axes>"
      ]
     },
     "metadata": {
      "needs_background": "light"
     },
     "output_type": "display_data"
    },
    {
     "data": {
      "image/png": "[encoded data removed]",
      "text/plain": [
       "<Figure size 432x288 with 1 Axes>"
      ]
     },
     "metadata": {
      "needs_background": "light"
     },
     "output_type": "display_data"
    },
    {
     "data": {
      "image/png": "[encoded data removed]",
      "text/plain": [
       "<Figure size 432x288 with 1 Axes>"
      ]
     },
     "metadata": {
      "needs_background": "light"
     },
     "output_type": "display_data"
    },
    {
     "data": {
      "image/png": "[encoded data removed]",
      "text/plain": [
       "<Figure size 432x288 with 1 Axes>"
      ]
     },
     "metadata": {
      "needs_background": "light"
     },
     "output_type": "display_data"
    },
    {
     "data": {
      "image/png": "[encoded data removed]",
      "text/plain": [
       "<Figure size 432x288 with 1 Axes>"
      ]
     },
     "metadata": {
      "needs_background": "light"
     },
     "output_type": "display_data"
    },
    {
     "data": {
      "image/png": "[encoded data removed]",
      "text/plain": [
       "<Figure size 432x288 with 1 Axes>"
      ]
     },
     "metadata": {
      "needs_background": "light"
     },
     "output_type": "display_data"
    },
    {
     "data": {
      "image/png": "[encoded data removed]",
      "text/plain": [
       "<Figure size 432x288 with 1 Axes>"
      ]
     },
     "metadata": {
      "needs_background": "light"
     },
     "output_type": "display_data"
    },
    {
     "data": {
      "image/png": "[encoded data removed]",
      "text/plain": [
       "<Figure size 432x288 with 1 Axes>"
      ]
     },
     "metadata": {
      "needs_background": "light"
     },
     "output_type": "display_data"
    },
    {
     "data": {
      "image/png": "[encoded data removed]",
      "text/plain": [
       "<Figure size 432x288 with 1 Axes>"
      ]
     },
     "metadata": {
      "needs_background": "light"
     },
     "output_type": "display_data"
    },
    {
     "data": {
      "image/png": "[encoded data removed]",
      "text/plain": [
       "<Figure size 432x288 with 1 Axes>"
      ]
     },
     "metadata": {
      "needs_background": "light"
     },
     "output_type": "display_data"
    },
    {
     "data": {
      "image/png": "[encoded data removed]",
      "text/plain": [
       "<Figure size 432x288 with 1 Axes>"
      ]
     },
     "metadata": {
      "needs_background": "light"
     },
     "output_type": "display_data"
    },
    {
     "data": {
      "image/png": "[encoded data removed]",
      "text/plain": [
       "<Figure size 432x288 with 1 Axes>"
      ]
     },
     "metadata": {
      "needs_background": "light"
     },
     "output_type": "display_data"
    },
    {
     "data": {
      "image/png": "[encoded data removed]",
      "text/plain": [
       "<Figure size 432x288 with 1 Axes>"
      ]
     },
     "metadata": {
      "needs_background": "light"
     },
     "output_type": "display_data"
    }
   ],
   "source": [
    "# Mit dieser Methode kannst du dir Bilder deines Trainloaders anzeigen lassen.\n",
    "# Beschrifte die Bilder zusätzlich mit einem passenden Label.\n",
    "\n",
    "for x,y in train_loader:\n",
    "    image = x[0]\n",
    "    image = image.permute(1, 2, 0).numpy()\n",
    "    plt.imshow(image)\n",
    "    plt.show()"
   ]
  },
  {
   "cell_type": "code",
   "execution_count": 27,
   "metadata": {},
   "outputs": [
    {
     "name": "stdout",
     "output_type": "stream",
     "text": [
      "torch.Size([1, 3, 64, 64])\n"
     ]
    }
   ],
   "source": [
    "# alexnet = ConvNet()\n",
    "x = torch.rand(1, 3, 64, 64)\n",
    "print(x.shape)\n",
    "# alexnet(x)\n",
    "\n",
    "def test(model, x, y):\n",
    "    model.train(False)\n",
    "    loss_fn = torch.nn.CrossEntropyLoss()\n",
    "    outputs = model(test_data)\n",
    "    loss = loss_fn(outputs, test_labels)\n",
    "    # print(\"Loss=\", loss)\n",
    "    correctly_classified = 0\n",
    "    for idx, x in enumerate(outputs):\n",
    "        if torch.argmax(x) == test_labels[idx]:\n",
    "            correctly_classified += 1\n",
    "    print(f\"{model.name_model} Correctly classified: {correctly_classified} / {outputs.shape[0]}\")"
   ]
  },
  {
   "cell_type": "code",
   "execution_count": 34,
   "metadata": {},
   "outputs": [
    {
     "name": "stderr",
     "output_type": "stream",
     "text": [
      "/home/mp/anaconda3/envs/acl/lib/python3.6/site-packages/ipykernel_launcher.py:37: UserWarning: Implicit dimension choice for softmax has been deprecated. Change the call to include dim=X as an argument.\n"
     ]
    },
    {
     "name": "stdout",
     "output_type": "stream",
     "text": [
      "Result: 7 / 307\n",
      "Result: 210 / 307\n",
      "Result: 210 / 307\n"
     ]
    }
   ],
   "source": [
    "import torch.utils.data as data\n",
    "import torchvision \n",
    "import torchvision.transforms as transforms\n",
    "import time\n",
    "\n",
    "# TRAIN_DATA_PATH = './DataSet/train'\n",
    "\n",
    "train_transforms = transforms.Compose([\n",
    "  transforms.Resize([64,64]),\n",
    "  transforms.ToTensor()\n",
    "])\n",
    "\n",
    "train_dataset = torchvision.datasets.ImageFolder(root=TRAIN_DATA_PATH, transform=train_transforms)\n",
    "train_loader = data.DataLoader(train_dataset, batch_size=1, shuffle=True)\n",
    "\n",
    "model = ConvNet()\n",
    "optimizer = torch.optim.SGD(model.parameters(), lr=0.001, momentum=0.9)\n",
    "loss_fn = torch.nn.CrossEntropyLoss()\n",
    "num_epochs = 2\n",
    "\n",
    "def test():\n",
    "    model.train(False)\n",
    "    total = 0\n",
    "    correct = 0\n",
    "    for x, y in train_loader:\n",
    "        # print(x.shape)\n",
    "        # print(y.shape)\n",
    "        output = model(x)\n",
    "        # print(output)\n",
    "        # print(torch.argmax(output))\n",
    "        if torch.argmax(output) == y:\n",
    "            correct += 1\n",
    "        total += 1  \n",
    "        # print(total)\n",
    "\n",
    "    print(f\"Result: {correct} / {total}\")\n",
    "    \n",
    "model.train(True)\n",
    "\n",
    "def train(model, trainloader):\n",
    "    # optimizer = torch.optim.SGD(model.parameters(), lr=0.001, momentum=0.9)\n",
    "    optimizer = torch.optim.Adam(model.parameters(), lr=0.0001)\n",
    "    loss_fn = torch.nn.CrossEntropyLoss()\n",
    "    total = 0\n",
    "    model.train(True)\n",
    "    for x, y in trainloader:\n",
    "        optimizer.zero_grad()\n",
    "        outputs = model(x)\n",
    "        loss = loss_fn(outputs, y)\n",
    "        loss.backward()\n",
    "        optimizer.step()\n",
    "        \n",
    "        # for p in model.parameters():\n",
    "        #    print(p)\n",
    "        total += 1\n",
    "\n",
    "test()\n",
    "for i in range(num_epochs):\n",
    "    \n",
    "    train(model, train_loader)\n",
    "    test()\n",
    "\n",
    "    "
   ]
  },
  {
   "cell_type": "code",
   "execution_count": null,
   "metadata": {},
   "outputs": [],
   "source": [
    "def train(model, trainloader):\n",
    "    optimizer = torch.optim.SGD(model.parameters(), lr=0.001, momentum=0.9)\n",
    "    loss_fn = torch.nn.CrossEntropyLoss()\n",
    "    total = 0\n",
    "    model.train(True)\n",
    "    for x, y in trainloader:\n",
    "        optimizer.zero_grad()\n",
    "        outputs = model(x)\n",
    "        loss = loss_fn(outputs, y)\n",
    "        loss.backward()\n",
    "        optimizer.step()\n",
    "        print(f\"{total}. {loss}\")\n",
    "        total += 1"
   ]
  },
  {
   "cell_type": "markdown",
   "metadata": {
    "collapsed": true
   },
   "source": [
    "<h3>Aktuelle Forschung</h3>\n",
    "\n",
    "Die Forschung zu neuronalen Netzen ist noch lange nicht ausgeschöpft. Es gibt noch sehr vieles zu entdecken. So wissen wir z.B. immer noch nicht richtig, was genau neuronale Netze eigentlich lernen. \n",
    "\n",
    "Wenn du dich für die aktuelle Forschung zu neuronalen Netzen oder KI interessiert, ist folgender YouTube-Kanal empfehlenswert: \n",
    "\n",
    "https://www.youtube.com/c/K%C3%A1rolyZsolnai/videos?view=0&sort=p&shelf_id=0\n",
    "\n",
    "<h2>Bildquellen</h2>\n",
    "\n",
    "https://1.cms.s81c.com/sites/default/files/2021-01-06/ICLH_Diagram_Batch_01_03-DeepNeuralNetwork-WHITEBG.png\n",
    "\n",
    "https://miro.medium.com/max/1386/1*bV7S0zACdidh11ikjYpLpQ.png\n",
    "\n",
    "https://pyimagesearch.com/wp-content/uploads/2019/10/train_val_loss_landscape.png\n",
    "\n",
    "https://miro.medium.com/max/1400/1*uAeANQIOQPqWZnnuH-VEyw.jpeg\n",
    "\n",
    "https://anhreynolds.com/img/cnn.png\n",
    "\n",
    "https://computersciencewiki.org/images/8/8a/MaxpoolSample2.png\n"
   ]
  }
 ],
 "metadata": {
  "@webio": {
   "lastCommId": null,
   "lastKernelId": null
  },
  "kernelspec": {
   "display_name": "Python 3",
   "language": "python",
   "name": "python3"
  },
  "language_info": {
   "codemirror_mode": {
    "name": "ipython",
    "version": 3
   },
   "file_extension": ".py",
   "mimetype": "text/x-python",
   "name": "python",
   "nbconvert_exporter": "python",
   "pygments_lexer": "ipython3",
   "version": "3.6.12"
  }
 },
 "nbformat": 4,
 "nbformat_minor": 2
}
