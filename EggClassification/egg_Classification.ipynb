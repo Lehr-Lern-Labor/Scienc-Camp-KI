{
 "cells": [
  {
   "cell_type": "code",
   "execution_count": 1,
   "metadata": {},
   "outputs": [
    {
     "name": "stderr",
     "output_type": "stream",
     "text": [
      "Using TensorFlow backend.\n"
     ]
    }
   ],
   "source": [
    "%matplotlib inline\n",
    "import matplotlib.pyplot as plt\n",
    "import numpy as np\n",
    "import pandas as pd\n",
    "import os\n",
    "from keras.optimizers import SGD\n",
    "from matplotlib.image import imread\n",
    "from keras.preprocessing.image import ImageDataGenerator\n",
    "from keras.utils import to_categorical\n",
    "from keras.models import Sequential\n",
    "from keras.layers.convolutional import Conv2D,MaxPooling2D, AveragePooling2D\n",
    "from keras.layers import Dense, Flatten, Activation, Dropout\n",
    "from collections import Counter\n",
    "from shutil import copy"
   ]
  },
  {
   "cell_type": "markdown",
   "metadata": {},
   "source": [
    "# Verzeichnisse für Train und Test Datensatz"
   ]
  },
  {
   "cell_type": "code",
   "execution_count": 2,
   "metadata": {
    "collapsed": true
   },
   "outputs": [],
   "source": [
    "train_dataset_path = 'DataSet/Eggs/dataset_train'\n",
    "test_dataset_path = 'DataSet/Eggs/dataset_test'"
   ]
  },
  {
   "cell_type": "code",
   "execution_count": null,
   "metadata": {
    "collapsed": true
   },
   "outputs": [],
   "source": []
  },
  {
   "cell_type": "code",
   "execution_count": 3,
   "metadata": {
    "collapsed": true
   },
   "outputs": [],
   "source": [
    "train_dataset=ImageDataGenerator(rescale=1.0/255.0)\n",
    "test_dataset=ImageDataGenerator(rescale=1.0/255.0)"
   ]
  },
  {
   "cell_type": "code",
   "execution_count": null,
   "metadata": {
    "collapsed": true
   },
   "outputs": [],
   "source": [
    "train_set=train_dataset.flow_from_directory(train_dataset_path, target_size=(64,64),\n",
    "                                           batch_size=1, class_mode='categorical')\n",
    "test_set=test_dataset.flow_from_directory(test_dataset_path, target_size=(64,64),\n",
    "                                           batch_size=1, class_mode='categorical', shuffle = False)\n",
    "\n",
    "batch_x, batch_y = train_set.next()\n",
    "batch_x, batch_y = test_set.next()\n",
    "print('Batch shape = %s, min = %.3f, max=%.3f' % (batch_x.shape, batch_x.min(), batch_x.max()))"
   ]
  },
  {
   "cell_type": "code",
   "execution_count": null,
   "metadata": {
    "collapsed": true
   },
   "outputs": [],
   "source": [
    "steps_per_epoch = len(train_set) \n",
    "validation_steps =len(test_set)\n",
    "print('Training samples :', steps_per_epoch)\n",
    "print('Test samples :', validation_steps)"
   ]
  },
  {
   "cell_type": "code",
   "execution_count": null,
   "metadata": {
    "collapsed": true
   },
   "outputs": [],
   "source": [
    "for i in range (0,300):\n",
    "    train_batch_x, batch_y = train_set.next()\n",
    "    image = train_batch_x[0]\n",
    "    print(batch_y)\n",
    "    plt.imshow(image)\n",
    "    plt.show()\n",
    "train_set.reset()\n",
    "test_set.reset()"
   ]
  },
  {
   "cell_type": "code",
   "execution_count": null,
   "metadata": {
    "collapsed": true,
    "scrolled": true
   },
   "outputs": [],
   "source": [
    "for i in range (0,150):\n",
    "    test_batch_x, batch_y = test_set.next()\n",
    "    image = test_batch_x[0]\n",
    "    print(batch_y)\n",
    "    plt.imshow(image)\n",
    "    plt.show()\n"
   ]
  },
  {
   "cell_type": "markdown",
   "metadata": {},
   "source": [
    "# Topologie des neuronalen Netzes"
   ]
  },
  {
   "cell_type": "code",
   "execution_count": null,
   "metadata": {
    "collapsed": true
   },
   "outputs": [],
   "source": [
    "cnn_model = Sequential()\n",
    "\n",
    "cnn_model.add(Conv2D(\n",
    "    32, (3, 3), input_shape=(64, 64, 3), activation='relu',kernel_initializer='uniform', padding='same'))\n",
    "\n",
    "cnn_model.add(MaxPooling2D(pool_size=(2, 2)))\n",
    "cnn_model.add(Dropout(0.2))\n",
    "\n",
    "cnn_model.add(Conv2D(\n",
    "    32, (3, 3), activation='relu',kernel_initializer='uniform', padding='same'))\n",
    "\n",
    "cnn_model.add(MaxPooling2D(pool_size=(2, 2)))\n",
    "cnn_model.add(Dropout(0.2))\n",
    "\n",
    "cnn_model.add(Flatten())\n",
    "\n",
    "cnn_model.add(Dense(56, activation='relu', kernel_initializer='uniform'))\n",
    "\n",
    "cnn_model.add(Dense(3, activation='softmax', kernel_initializer='uniform'))"
   ]
  },
  {
   "cell_type": "code",
   "execution_count": null,
   "metadata": {
    "collapsed": true
   },
   "outputs": [],
   "source": [
    "cnn_model.summary()"
   ]
  },
  {
   "cell_type": "code",
   "execution_count": null,
   "metadata": {
    "collapsed": true
   },
   "outputs": [],
   "source": [
    "cnn_model.compile(optimizer='adam', loss='categorical_crossentropy', metrics=['accuracy'])"
   ]
  },
  {
   "cell_type": "markdown",
   "metadata": {},
   "source": [
    "## Anzahl der Gradientenabstiege"
   ]
  },
  {
   "cell_type": "code",
   "execution_count": null,
   "metadata": {
    "collapsed": true
   },
   "outputs": [],
   "source": [
    "epochs = 10"
   ]
  },
  {
   "cell_type": "markdown",
   "metadata": {},
   "source": [
    "# Training"
   ]
  },
  {
   "cell_type": "code",
   "execution_count": null,
   "metadata": {
    "collapsed": true
   },
   "outputs": [],
   "source": [
    "train_set.reset()\n",
    "test_set.reset()\n",
    "history = cnn_model.fit_generator(train_set, steps_per_epoch=steps_per_epoch, validation_data=test_set,\n",
    "                                      validation_steps=validation_steps, epochs=epochs)"
   ]
  },
  {
   "cell_type": "markdown",
   "metadata": {},
   "source": [
    "# Genauigkeit auf Train und Test Datensatz"
   ]
  },
  {
   "cell_type": "code",
   "execution_count": null,
   "metadata": {
    "collapsed": true
   },
   "outputs": [],
   "source": [
    "# plot loss\n",
    "plt.figure(figsize=(15,10))\n",
    "plt.subplot(221)\n",
    "plt.title('Loss')\n",
    "plt.plot(history.history['loss'], color='blue', label='train')\n",
    "plt.plot(history.history['val_loss'], color='red', label='test')\n",
    "\n",
    "# plot accuracy\n",
    "plt.subplot(222)\n",
    "plt.title('Classification Accuracy')\n",
    "plt.plot(history.history['accuracy'], color='blue', label='train')\n",
    "plt.plot(history.history['val_accuracy'], color='red', label='test')\n",
    "#plt.grid()\n",
    "plt.show()"
   ]
  },
  {
   "cell_type": "code",
   "execution_count": null,
   "metadata": {
    "collapsed": true
   },
   "outputs": [],
   "source": [
    "_, acc = cnn_model.evaluate_generator(train_set, steps=len(train_set), verbose=3)\n",
    "print('Accuracy on Training Data:  %.3f' % (acc * 100.0))\n",
    "_, acc = cnn_model.evaluate_generator(test_set, steps=len(test_set), verbose=3)\n",
    "print('Accuracy on Test Data :  %.3f' % (acc * 100.0))"
   ]
  },
  {
   "cell_type": "code",
   "execution_count": null,
   "metadata": {
    "collapsed": true
   },
   "outputs": [],
   "source": [
    "pred=cnn_model.predict_generator(test_set, 150, verbose=1)\n",
    "predicted_class_indices=np.argmax(pred,axis=1)\n",
    "labels = (test_set.class_indices)\n",
    "labels = dict((v,k) for k,v in labels.items())\n",
    "predictions = [labels[k] for k in predicted_class_indices]\n",
    "filenames=test_set.filenames\n",
    "results=pd.DataFrame({\"Filename\":filenames,\n",
    "                      \"Predictions\":predictions})\n",
    "results.to_csv(\"results.csv\",index=False)\n"
   ]
  },
  {
   "cell_type": "code",
   "execution_count": null,
   "metadata": {
    "collapsed": true,
    "scrolled": false
   },
   "outputs": [],
   "source": [
    "for i in range (0,150):\n",
    "    test_batch_x, batch_y = test_set.next()\n",
    "    image = test_batch_x[0]\n",
    "    print(\"Label:\", batch_y, labels[np.argmax(batch_y,axis=1)[0]], \"|\", \"Vorhersage:\", \"[\" + \"%.2f\" % pred[i][0] + \" \" + \"%.2f\" % pred[i][1] + \" \" + \"%.2f\" % pred[i][2] + \"]\"  , predictions[i])\n",
    "    plt.imshow(image)\n",
    "    plt.show()"
   ]
  },
  {
   "cell_type": "code",
   "execution_count": null,
   "metadata": {
    "collapsed": true
   },
   "outputs": [],
   "source": []
  },
  {
   "cell_type": "code",
   "execution_count": null,
   "metadata": {
    "collapsed": true
   },
   "outputs": [],
   "source": []
  },
  {
   "cell_type": "code",
   "execution_count": null,
   "metadata": {
    "collapsed": true
   },
   "outputs": [],
   "source": []
  }
 ],
 "metadata": {
  "kernelspec": {
   "display_name": "Python 3",
   "language": "python",
   "name": "python3"
  },
  "language_info": {
   "codemirror_mode": {
    "name": "ipython",
    "version": 3
   },
   "file_extension": ".py",
   "mimetype": "text/x-python",
   "name": "python",
   "nbconvert_exporter": "python",
   "pygments_lexer": "ipython3",
   "version": "3.8.5"
  }
 },
 "nbformat": 4,
 "nbformat_minor": 2
}
