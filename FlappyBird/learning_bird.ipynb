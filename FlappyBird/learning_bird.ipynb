{
 "cells": [
  {
   "cell_type": "code",
   "execution_count": 1,
   "metadata": {
    "scrolled": true
   },
   "outputs": [
    {
     "name": "stdout",
     "output_type": "stream",
     "text": [
      "pygame 2.0.2 (SDL 2.0.16, Python 3.8.12)\n",
      "Hello from the pygame community. https://www.pygame.org/contribute.html\n"
     ]
    }
   ],
   "source": [
    "import gym\n",
    "import copy\n",
    "import numpy as np\n",
    "import time as time\n",
    "import torch\n",
    "import torch.nn as nn\n",
    "import gym_flappyBird\n",
    "import genetics as gen\n",
    "from tensorboardX import SummaryWriter\n",
    "import matplotlib.pyplot as plt\n",
    "import math\n",
    "import pygame\n",
    "from pygame.locals import *"
   ]
  },
  {
   "cell_type": "markdown",
   "metadata": {},
   "source": [
    "  \n",
    "### Bird attributes\n",
    "\n",
    "### bird.Y = 250\n",
    "### bird.X = 80\n",
    "### bird.speedY= 0\n",
    "### bird.speedX = 20\n",
    "### bird.force = [0.0, 0.0] "
   ]
  },
  {
   "cell_type": "markdown",
   "metadata": {},
   "source": [
    "# Maschine"
   ]
  },
  {
   "cell_type": "markdown",
   "metadata": {},
   "source": [
    "## Feature extrahieren"
   ]
  },
  {
   "cell_type": "markdown",
   "metadata": {},
   "source": [
    "<img src=\"sprites/ingame.jpg\" align=\"left\" >"
   ]
  },
  {
   "cell_type": "code",
   "execution_count": 2,
   "metadata": {},
   "outputs": [],
   "source": [
    "def generateFeatures(state):\n",
    "    bird = state['bird']\n",
    "    #print(type(bird))\n",
    "    posY = bird.Y\n",
    "    speedY = bird.speedY\n",
    "    pipes = state['pipes']\n",
    "    #print(pipes[0].pos)\n",
    "    return posY, speedY, pipes[0].pos,pipes[0].height,pipes[0].gap"
   ]
  },
  {
   "cell_type": "markdown",
   "metadata": {},
   "source": [
    "## Reward  berechnen"
   ]
  },
  {
   "cell_type": "markdown",
   "metadata": {},
   "source": [
    "<img src=\"sprites/ingame_2.jpg\" align=\"left\" >"
   ]
  },
  {
   "cell_type": "code",
   "execution_count": 3,
   "metadata": {},
   "outputs": [],
   "source": [
    "def computeReward(state_old, state_new):\n",
    "    return 1"
   ]
  },
  {
   "cell_type": "markdown",
   "metadata": {},
   "source": [
    "# Aktion festlegen"
   ]
  },
  {
   "cell_type": "code",
   "execution_count": 4,
   "metadata": {},
   "outputs": [],
   "source": [
    "def birdAction(decission, bird):\n",
    "        bird.force = [0.0, 50*decission[0]]"
   ]
  },
  {
   "cell_type": "markdown",
   "metadata": {},
   "source": [
    "# Mutationsparameter"
   ]
  },
  {
   "cell_type": "markdown",
   "metadata": {},
   "source": [
    "<img src=\"sprites/ingame_3.jpg\" align=\"left\" >"
   ]
  },
  {
   "cell_type": "code",
   "execution_count": 5,
   "metadata": {},
   "outputs": [],
   "source": [
    "NOISE_STD = 0.1\n",
    "POPULATION_SIZE = 150\n",
    "PARENTS_COUNT = 15"
   ]
  },
  {
   "cell_type": "markdown",
   "metadata": {
    "collapsed": true
   },
   "source": [
    "# Neuronales Netz \n",
    "\n",
    "## Layer\n",
    "nn.Linear(X, Y), Input dim X, Output dim Y\n",
    "\n",
    "## Aktivierungsfunktionen\n",
    "nn.ReLU()\n",
    "\n",
    "\n",
    "nn.Sigmoid()\n",
    "\n",
    "\n",
    "nn.Softmax(dim=1))\n",
    "\n",
    "\n",
    "\n",
    "## Topologie\n",
    "nn.Sequential(Layer, Aktivierungsfunktion, Layer, Aktivierungsfunktion...., Layer,Softmax)\n",
    "###### Beispiel\n",
    "nn.Sequential(nn.Linear(5, 5),nn.Softmax(dim=1))"
   ]
  },
  {
   "cell_type": "code",
   "execution_count": 6,
   "metadata": {},
   "outputs": [],
   "source": [
    "net = nn.Sequential(nn.Linear(5, 5),nn.Sigmoid(),nn.Linear(5, 5),nn.Sigmoid(), nn.Linear(5, 1))"
   ]
  },
  {
   "cell_type": "code",
   "execution_count": 7,
   "metadata": {},
   "outputs": [],
   "source": [
    "#net = nn.Sequential(nn.Linear(5, 5),nn.ReLU(),nn.Linear(5, 2),nn.Softmax(dim=1))"
   ]
  },
  {
   "cell_type": "code",
   "execution_count": 8,
   "metadata": {},
   "outputs": [
    {
     "name": "stdout",
     "output_type": "stream",
     "text": [
      "0.weight Parameter containing:\n",
      "tensor([[ 0.1146, -0.2633,  0.2588,  0.1978,  0.1967],\n",
      "        [ 0.3867,  0.2816,  0.3148, -0.1502, -0.0531],\n",
      "        [ 0.3564,  0.4197, -0.0005, -0.2193, -0.2501],\n",
      "        [-0.0654,  0.3174,  0.3225,  0.0449, -0.2136],\n",
      "        [-0.0284, -0.2354, -0.0430,  0.2680, -0.3979]], requires_grad=True)\n",
      "0.bias Parameter containing:\n",
      "tensor([ 0.0899, -0.0545,  0.2421,  0.3918, -0.2352], requires_grad=True)\n",
      "2.weight Parameter containing:\n",
      "tensor([[-0.2140,  0.0647,  0.3980,  0.1740, -0.3333],\n",
      "        [ 0.3054,  0.0546,  0.2387, -0.4429,  0.2516],\n",
      "        [-0.3061, -0.1700, -0.1809, -0.4144, -0.2618],\n",
      "        [-0.4064,  0.4308, -0.2871, -0.1525, -0.1762],\n",
      "        [ 0.4414, -0.4338,  0.1576,  0.4279,  0.0375]], requires_grad=True)\n",
      "2.bias Parameter containing:\n",
      "tensor([-0.4045, -0.1158, -0.0036,  0.0458,  0.1965], requires_grad=True)\n",
      "4.weight Parameter containing:\n",
      "tensor([[-0.2579, -0.1861, -0.1880,  0.4280,  0.0920]], requires_grad=True)\n",
      "4.bias Parameter containing:\n",
      "tensor([0.3867], requires_grad=True)\n"
     ]
    }
   ],
   "source": [
    "for name, param in net.named_parameters():\n",
    "    print(name, param)"
   ]
  },
  {
   "cell_type": "markdown",
   "metadata": {},
   "source": [
    "## Abstand zwischen den Pipes,  Höhe der Pipes, Grösse der Lücke"
   ]
  },
  {
   "cell_type": "code",
   "execution_count": 9,
   "metadata": {},
   "outputs": [],
   "source": [
    "Interval_distance = [250, 350]\n",
    "Interval_height = [100,300]\n",
    "Interval_gap = [120,130]"
   ]
  },
  {
   "cell_type": "markdown",
   "metadata": {},
   "source": [
    "## Max Score"
   ]
  },
  {
   "cell_type": "code",
   "execution_count": 10,
   "metadata": {},
   "outputs": [],
   "source": [
    "Score_Max = 4000"
   ]
  },
  {
   "cell_type": "code",
   "execution_count": 11,
   "metadata": {
    "scrolled": true
   },
   "outputs": [
    {
     "name": "stdout",
     "output_type": "stream",
     "text": [
      "evaluaton\n",
      "----------------------------------------------------------------------------\n",
      "----------------------------------------------------------------------------\n",
      "Population:  5\n",
      "____________________________________________________________________________\n",
      "Score Training:  279.0  Score Spiel:  236.0\n",
      "____________________________________________________________________________\n",
      "0.weight Parameter containing:\n",
      "tensor([[ 0.2800, -0.7521,  0.0438,  0.0486,  0.3287],\n",
      "        [ 0.3158,  0.5089,  0.4564, -0.3036,  0.0313],\n",
      "        [ 0.2840,  0.3023,  0.4634, -0.5417, -0.3343],\n",
      "        [-0.0929,  0.1679,  0.3807,  0.3078, -0.2208],\n",
      "        [-0.2534,  0.0276,  0.2505,  0.0794, -0.3601]], requires_grad=True)\n",
      "0.bias Parameter containing:\n",
      "tensor([-0.1129, -0.2574,  0.2404, -0.1939, -0.5075], requires_grad=True)\n",
      "2.weight Parameter containing:\n",
      "tensor([[-0.5178,  0.0292,  0.3141,  0.2859, -0.4175],\n",
      "        [ 0.4453, -0.3001,  0.0539, -0.5794,  0.1993],\n",
      "        [-0.4598, -0.3439,  0.5177, -0.2164, -0.7638],\n",
      "        [-0.3735,  0.3924, -0.1616,  0.0596, -0.2689],\n",
      "        [ 0.2543, -0.6894,  0.3459,  0.3036,  0.1962]], requires_grad=True)\n",
      "2.bias Parameter containing:\n",
      "tensor([-0.5295,  0.0780,  0.2042, -0.3257,  0.6068], requires_grad=True)\n",
      "4.weight Parameter containing:\n",
      "tensor([[-0.5915, -0.3653,  0.1498,  0.9277, -0.2835]], requires_grad=True)\n",
      "4.bias Parameter containing:\n",
      "tensor([0.3707], requires_grad=True)\n",
      "evaluaton\n",
      "----------------------------------------------------------------------------\n",
      "----------------------------------------------------------------------------\n",
      "Population:  10\n",
      "____________________________________________________________________________\n",
      "Score Training:  524.0  Score Spiel:  118.0\n",
      "____________________________________________________________________________\n",
      "0.weight Parameter containing:\n",
      "tensor([[ 0.2383, -0.2327, -0.1837,  0.1421,  0.2707],\n",
      "        [ 0.3355,  0.8754,  0.6401, -0.0336,  0.4261],\n",
      "        [-0.0240,  0.9891, -0.1398,  0.0206, -0.2460],\n",
      "        [-0.1312,  0.2705,  0.8759, -0.1863,  0.3597],\n",
      "        [-0.3840, -0.4357, -0.3649,  0.0068, -0.3650]], requires_grad=True)\n",
      "0.bias Parameter containing:\n",
      "tensor([ 0.0531, -0.0704,  1.1924,  0.2337, -0.2586], requires_grad=True)\n",
      "2.weight Parameter containing:\n",
      "tensor([[-0.7033,  0.1678,  0.3072, -0.1047, -0.5120],\n",
      "        [ 0.4049,  0.2062, -0.2017, -0.3388, -0.3612],\n",
      "        [-0.2638,  0.1691, -0.2586,  0.1131, -0.2708],\n",
      "        [ 0.1214,  0.6434, -0.4781,  0.5502, -0.1494],\n",
      "        [ 0.4872, -0.4283,  0.2462,  0.7742, -0.3639]], requires_grad=True)\n",
      "2.bias Parameter containing:\n",
      "tensor([-0.0902,  0.0232, -0.5681, -0.0317,  0.1425], requires_grad=True)\n",
      "4.weight Parameter containing:\n",
      "tensor([[-0.1184, -0.4060, -0.5670,  0.5264,  0.0028]], requires_grad=True)\n",
      "4.bias Parameter containing:\n",
      "tensor([0.2655], requires_grad=True)\n",
      "evaluaton\n",
      "----------------------------------------------------------------------------\n",
      "----------------------------------------------------------------------------\n",
      "Population:  15\n",
      "____________________________________________________________________________\n",
      "Score Training:  364.0  Score Spiel:  71.0\n",
      "____________________________________________________________________________\n",
      "0.weight Parameter containing:\n",
      "tensor([[ 0.0859, -0.1337, -0.0789,  0.2755,  0.0797],\n",
      "        [ 0.6320,  1.0947,  0.5941, -0.3786, -0.0087],\n",
      "        [ 0.0308,  0.6316,  0.1886,  0.2706, -0.0688],\n",
      "        [-0.9404,  0.3326,  0.9616,  0.0283,  0.3217],\n",
      "        [-0.6114, -0.7187, -0.5517,  0.0928, -0.7428]], requires_grad=True)\n",
      "0.bias Parameter containing:\n",
      "tensor([ 0.1342, -0.5812,  0.4741,  0.5273, -0.2054], requires_grad=True)\n",
      "2.weight Parameter containing:\n",
      "tensor([[-0.8537, -0.4670,  0.8322,  0.0560, -0.6216],\n",
      "        [ 0.6199,  0.0979,  0.2854, -0.6490,  0.2784],\n",
      "        [ 0.0838, -0.3710, -0.4022,  0.1978, -0.4282],\n",
      "        [ 0.3592,  0.7674, -0.3271,  1.1723, -0.3876],\n",
      "        [ 0.8301, -0.8465,  0.2775,  0.9477, -0.3165]], requires_grad=True)\n",
      "2.bias Parameter containing:\n",
      "tensor([-0.0523,  0.2240, -0.6360,  0.2539, -0.0066], requires_grad=True)\n",
      "4.weight Parameter containing:\n",
      "tensor([[-0.4374, -0.5146, -0.6866,  0.8526,  0.1965]], requires_grad=True)\n",
      "4.bias Parameter containing:\n",
      "tensor([-0.0572], requires_grad=True)\n",
      "evaluaton\n",
      "----------------------------------------------------------------------------\n",
      "----------------------------------------------------------------------------\n",
      "Population:  20\n",
      "____________________________________________________________________________\n",
      "Score Training:  435.0  Score Spiel:  106.0\n",
      "____________________________________________________________________________\n",
      "0.weight Parameter containing:\n",
      "tensor([[ 0.1239,  0.5407,  0.0385,  0.3368,  0.0232],\n",
      "        [-0.0303,  1.4673, -0.1959, -0.2273,  0.5923],\n",
      "        [ 1.3683,  0.5130, -0.4819, -0.2882, -1.1894],\n",
      "        [-0.0151,  1.1311,  1.1272,  0.2856, -0.2750],\n",
      "        [-0.1718,  0.0650,  0.5477,  0.7247, -0.5356]], requires_grad=True)\n",
      "0.bias Parameter containing:\n",
      "tensor([-0.5540,  0.2820,  0.9189, -0.4284, -0.4161], requires_grad=True)\n",
      "2.weight Parameter containing:\n",
      "tensor([[-0.8994,  0.5722,  0.4006,  0.0200,  0.0454],\n",
      "        [ 0.0668, -0.0986,  0.7415, -0.9782, -0.5301],\n",
      "        [-0.1877, -0.3111, -0.5520, -0.0864, -0.2467],\n",
      "        [-0.2772,  0.7217, -0.4036, -0.0542, -0.1365],\n",
      "        [ 0.3650, -0.3992, -0.6857, -0.0762, -0.2586]], requires_grad=True)\n",
      "2.bias Parameter containing:\n",
      "tensor([ 0.2167, -0.5499, -0.5015, -0.6219,  0.9784], requires_grad=True)\n",
      "4.weight Parameter containing:\n",
      "tensor([[-0.3624, -1.1753,  0.2509,  0.5271,  0.1087]], requires_grad=True)\n",
      "4.bias Parameter containing:\n",
      "tensor([0.2036], requires_grad=True)\n",
      "evaluaton\n",
      "----------------------------------------------------------------------------\n",
      "----------------------------------------------------------------------------\n",
      "Population:  25\n",
      "____________________________________________________________________________\n",
      "Score Training:  1337.0  Score Spiel:  390.0\n",
      "____________________________________________________________________________\n",
      "0.weight Parameter containing:\n",
      "tensor([[ 0.5727,  1.5568, -0.0107, -0.4103, -0.6521],\n",
      "        [ 0.2617,  2.0117, -0.1636,  0.7068,  0.7672],\n",
      "        [ 0.9840,  0.4935, -0.2994, -0.2344, -0.3539],\n",
      "        [ 0.1011,  0.5100,  1.6229,  0.0403,  0.0440],\n",
      "        [ 0.1571, -0.6284,  0.3075,  0.0745, -0.5592]], requires_grad=True)\n",
      "0.bias Parameter containing:\n",
      "tensor([-0.4531, -0.1098,  0.5111,  0.4273,  0.2542], requires_grad=True)\n",
      "2.weight Parameter containing:\n",
      "tensor([[-0.3844,  0.2847,  0.3570,  0.5013, -0.3301],\n",
      "        [ 1.0498,  0.1632,  0.0978, -0.6442, -0.6040],\n",
      "        [-0.5018, -1.0274, -0.2261,  0.4185,  0.0482],\n",
      "        [-0.9049,  0.6131, -0.2578,  0.1380, -0.6801],\n",
      "        [ 0.6284, -0.2549, -0.1779, -0.0252,  0.5046]], requires_grad=True)\n",
      "2.bias Parameter containing:\n",
      "tensor([ 0.9783,  0.1474, -0.1463,  0.0936,  0.5001], requires_grad=True)\n",
      "4.weight Parameter containing:\n",
      "tensor([[ 0.2149, -1.3304, -0.1854,  0.1075,  0.3817]], requires_grad=True)\n",
      "4.bias Parameter containing:\n",
      "tensor([0.3935], requires_grad=True)\n"
     ]
    },
    {
     "ename": "KeyboardInterrupt",
     "evalue": "",
     "output_type": "error",
     "traceback": [
      "\u001b[0;31m---------------------------------------------------------------------------\u001b[0m",
      "\u001b[0;31mKeyboardInterrupt\u001b[0m                         Traceback (most recent call last)",
      "\u001b[0;32m/var/folders/7w/cqwwv7rx4ld69zv2g0wnxx_80000gn/T/ipykernel_21232/1475604533.py\u001b[0m in \u001b[0;36m<module>\u001b[0;34m\u001b[0m\n\u001b[1;32m     10\u001b[0m \u001b[0;32mwhile\u001b[0m \u001b[0;32mTrue\u001b[0m\u001b[0;34m:\u001b[0m\u001b[0;34m\u001b[0m\u001b[0;34m\u001b[0m\u001b[0m\n\u001b[1;32m     11\u001b[0m     \u001b[0mpopulation\u001b[0m \u001b[0;34m=\u001b[0m \u001b[0mgen\u001b[0m\u001b[0;34m.\u001b[0m\u001b[0mmutate_population\u001b[0m\u001b[0;34m(\u001b[0m\u001b[0mpopulation\u001b[0m\u001b[0;34m,\u001b[0m \u001b[0mPARENTS_COUNT\u001b[0m\u001b[0;34m,\u001b[0m \u001b[0mNOISE_STD\u001b[0m\u001b[0;34m)\u001b[0m\u001b[0;34m\u001b[0m\u001b[0;34m\u001b[0m\u001b[0m\n\u001b[0;32m---> 12\u001b[0;31m     \u001b[0mpopulation\u001b[0m\u001b[0;34m.\u001b[0m\u001b[0mevaluate_on_env\u001b[0m\u001b[0;34m(\u001b[0m\u001b[0menv\u001b[0m\u001b[0;34m,\u001b[0m \u001b[0mgenerateFeatures\u001b[0m\u001b[0;34m,\u001b[0m \u001b[0mScore_Max\u001b[0m\u001b[0;34m)\u001b[0m\u001b[0;34m\u001b[0m\u001b[0;34m\u001b[0m\u001b[0m\n\u001b[0m\u001b[1;32m     13\u001b[0m     \u001b[0mfittestBirds\u001b[0m\u001b[0;34m.\u001b[0m\u001b[0mappend\u001b[0m\u001b[0;34m(\u001b[0m\u001b[0mpopulation\u001b[0m\u001b[0;34m.\u001b[0m\u001b[0mpopulation\u001b[0m\u001b[0;34m[\u001b[0m\u001b[0;36m0\u001b[0m\u001b[0;34m]\u001b[0m\u001b[0;34m)\u001b[0m\u001b[0;34m\u001b[0m\u001b[0;34m\u001b[0m\u001b[0m\n\u001b[1;32m     14\u001b[0m     \u001b[0mecount\u001b[0m \u001b[0;34m+=\u001b[0m\u001b[0;36m1\u001b[0m\u001b[0;34m\u001b[0m\u001b[0;34m\u001b[0m\u001b[0m\n",
      "\u001b[0;32m~/code/FluffyBird/FlappyBird/genetics.py\u001b[0m in \u001b[0;36mevaluate_on_env\u001b[0;34m(self, env, generateFeatures, MAX_REWARD)\u001b[0m\n\u001b[1;32m     31\u001b[0m                 \u001b[0;31m#action = env.action_space.sample()\u001b[0m\u001b[0;34m\u001b[0m\u001b[0;34m\u001b[0m\u001b[0;34m\u001b[0m\u001b[0m\n\u001b[1;32m     32\u001b[0m \u001b[0;34m\u001b[0m\u001b[0m\n\u001b[0;32m---> 33\u001b[0;31m                 \u001b[0mact_prob\u001b[0m \u001b[0;34m=\u001b[0m \u001b[0mnet\u001b[0m\u001b[0;34m(\u001b[0m\u001b[0mobs\u001b[0m\u001b[0;34m)\u001b[0m\u001b[0;34m.\u001b[0m\u001b[0mdata\u001b[0m\u001b[0;34m.\u001b[0m\u001b[0mnumpy\u001b[0m\u001b[0;34m(\u001b[0m\u001b[0;34m)\u001b[0m\u001b[0;34m[\u001b[0m\u001b[0;36m0\u001b[0m\u001b[0;34m]\u001b[0m\u001b[0;34m\u001b[0m\u001b[0;34m\u001b[0m\u001b[0m\n\u001b[0m\u001b[1;32m     34\u001b[0m                 \u001b[0macts\u001b[0m \u001b[0;34m=\u001b[0m \u001b[0;36m0\u001b[0m\u001b[0;34m\u001b[0m\u001b[0;34m\u001b[0m\u001b[0m\n\u001b[1;32m     35\u001b[0m  \u001b[0;31m#               if(act_prob[0] < act_prob[1]):\u001b[0m\u001b[0;34m\u001b[0m\u001b[0;34m\u001b[0m\u001b[0;34m\u001b[0m\u001b[0m\n",
      "\u001b[0;32m~/opt/anaconda3/envs/sciki/lib/python3.8/site-packages/torch/nn/modules/module.py\u001b[0m in \u001b[0;36m__call__\u001b[0;34m(self, *input, **kwargs)\u001b[0m\n\u001b[1;32m    530\u001b[0m             \u001b[0mresult\u001b[0m \u001b[0;34m=\u001b[0m \u001b[0mself\u001b[0m\u001b[0;34m.\u001b[0m\u001b[0m_slow_forward\u001b[0m\u001b[0;34m(\u001b[0m\u001b[0;34m*\u001b[0m\u001b[0minput\u001b[0m\u001b[0;34m,\u001b[0m \u001b[0;34m**\u001b[0m\u001b[0mkwargs\u001b[0m\u001b[0;34m)\u001b[0m\u001b[0;34m\u001b[0m\u001b[0;34m\u001b[0m\u001b[0m\n\u001b[1;32m    531\u001b[0m         \u001b[0;32melse\u001b[0m\u001b[0;34m:\u001b[0m\u001b[0;34m\u001b[0m\u001b[0;34m\u001b[0m\u001b[0m\n\u001b[0;32m--> 532\u001b[0;31m             \u001b[0mresult\u001b[0m \u001b[0;34m=\u001b[0m \u001b[0mself\u001b[0m\u001b[0;34m.\u001b[0m\u001b[0mforward\u001b[0m\u001b[0;34m(\u001b[0m\u001b[0;34m*\u001b[0m\u001b[0minput\u001b[0m\u001b[0;34m,\u001b[0m \u001b[0;34m**\u001b[0m\u001b[0mkwargs\u001b[0m\u001b[0;34m)\u001b[0m\u001b[0;34m\u001b[0m\u001b[0;34m\u001b[0m\u001b[0m\n\u001b[0m\u001b[1;32m    533\u001b[0m         \u001b[0;32mfor\u001b[0m \u001b[0mhook\u001b[0m \u001b[0;32min\u001b[0m \u001b[0mself\u001b[0m\u001b[0;34m.\u001b[0m\u001b[0m_forward_hooks\u001b[0m\u001b[0;34m.\u001b[0m\u001b[0mvalues\u001b[0m\u001b[0;34m(\u001b[0m\u001b[0;34m)\u001b[0m\u001b[0;34m:\u001b[0m\u001b[0;34m\u001b[0m\u001b[0;34m\u001b[0m\u001b[0m\n\u001b[1;32m    534\u001b[0m             \u001b[0mhook_result\u001b[0m \u001b[0;34m=\u001b[0m \u001b[0mhook\u001b[0m\u001b[0;34m(\u001b[0m\u001b[0mself\u001b[0m\u001b[0;34m,\u001b[0m \u001b[0minput\u001b[0m\u001b[0;34m,\u001b[0m \u001b[0mresult\u001b[0m\u001b[0;34m)\u001b[0m\u001b[0;34m\u001b[0m\u001b[0;34m\u001b[0m\u001b[0m\n",
      "\u001b[0;32m~/opt/anaconda3/envs/sciki/lib/python3.8/site-packages/torch/nn/modules/container.py\u001b[0m in \u001b[0;36mforward\u001b[0;34m(self, input)\u001b[0m\n\u001b[1;32m     98\u001b[0m     \u001b[0;32mdef\u001b[0m \u001b[0mforward\u001b[0m\u001b[0;34m(\u001b[0m\u001b[0mself\u001b[0m\u001b[0;34m,\u001b[0m \u001b[0minput\u001b[0m\u001b[0;34m)\u001b[0m\u001b[0;34m:\u001b[0m\u001b[0;34m\u001b[0m\u001b[0;34m\u001b[0m\u001b[0m\n\u001b[1;32m     99\u001b[0m         \u001b[0;32mfor\u001b[0m \u001b[0mmodule\u001b[0m \u001b[0;32min\u001b[0m \u001b[0mself\u001b[0m\u001b[0;34m:\u001b[0m\u001b[0;34m\u001b[0m\u001b[0;34m\u001b[0m\u001b[0m\n\u001b[0;32m--> 100\u001b[0;31m             \u001b[0minput\u001b[0m \u001b[0;34m=\u001b[0m \u001b[0mmodule\u001b[0m\u001b[0;34m(\u001b[0m\u001b[0minput\u001b[0m\u001b[0;34m)\u001b[0m\u001b[0;34m\u001b[0m\u001b[0;34m\u001b[0m\u001b[0m\n\u001b[0m\u001b[1;32m    101\u001b[0m         \u001b[0;32mreturn\u001b[0m \u001b[0minput\u001b[0m\u001b[0;34m\u001b[0m\u001b[0;34m\u001b[0m\u001b[0m\n\u001b[1;32m    102\u001b[0m \u001b[0;34m\u001b[0m\u001b[0m\n",
      "\u001b[0;32m~/opt/anaconda3/envs/sciki/lib/python3.8/site-packages/torch/nn/modules/module.py\u001b[0m in \u001b[0;36m__call__\u001b[0;34m(self, *input, **kwargs)\u001b[0m\n\u001b[1;32m    530\u001b[0m             \u001b[0mresult\u001b[0m \u001b[0;34m=\u001b[0m \u001b[0mself\u001b[0m\u001b[0;34m.\u001b[0m\u001b[0m_slow_forward\u001b[0m\u001b[0;34m(\u001b[0m\u001b[0;34m*\u001b[0m\u001b[0minput\u001b[0m\u001b[0;34m,\u001b[0m \u001b[0;34m**\u001b[0m\u001b[0mkwargs\u001b[0m\u001b[0;34m)\u001b[0m\u001b[0;34m\u001b[0m\u001b[0;34m\u001b[0m\u001b[0m\n\u001b[1;32m    531\u001b[0m         \u001b[0;32melse\u001b[0m\u001b[0;34m:\u001b[0m\u001b[0;34m\u001b[0m\u001b[0;34m\u001b[0m\u001b[0m\n\u001b[0;32m--> 532\u001b[0;31m             \u001b[0mresult\u001b[0m \u001b[0;34m=\u001b[0m \u001b[0mself\u001b[0m\u001b[0;34m.\u001b[0m\u001b[0mforward\u001b[0m\u001b[0;34m(\u001b[0m\u001b[0;34m*\u001b[0m\u001b[0minput\u001b[0m\u001b[0;34m,\u001b[0m \u001b[0;34m**\u001b[0m\u001b[0mkwargs\u001b[0m\u001b[0;34m)\u001b[0m\u001b[0;34m\u001b[0m\u001b[0;34m\u001b[0m\u001b[0m\n\u001b[0m\u001b[1;32m    533\u001b[0m         \u001b[0;32mfor\u001b[0m \u001b[0mhook\u001b[0m \u001b[0;32min\u001b[0m \u001b[0mself\u001b[0m\u001b[0;34m.\u001b[0m\u001b[0m_forward_hooks\u001b[0m\u001b[0;34m.\u001b[0m\u001b[0mvalues\u001b[0m\u001b[0;34m(\u001b[0m\u001b[0;34m)\u001b[0m\u001b[0;34m:\u001b[0m\u001b[0;34m\u001b[0m\u001b[0;34m\u001b[0m\u001b[0m\n\u001b[1;32m    534\u001b[0m             \u001b[0mhook_result\u001b[0m \u001b[0;34m=\u001b[0m \u001b[0mhook\u001b[0m\u001b[0;34m(\u001b[0m\u001b[0mself\u001b[0m\u001b[0;34m,\u001b[0m \u001b[0minput\u001b[0m\u001b[0;34m,\u001b[0m \u001b[0mresult\u001b[0m\u001b[0;34m)\u001b[0m\u001b[0;34m\u001b[0m\u001b[0;34m\u001b[0m\u001b[0m\n",
      "\u001b[0;32m~/opt/anaconda3/envs/sciki/lib/python3.8/site-packages/torch/nn/modules/linear.py\u001b[0m in \u001b[0;36mforward\u001b[0;34m(self, input)\u001b[0m\n\u001b[1;32m     85\u001b[0m \u001b[0;34m\u001b[0m\u001b[0m\n\u001b[1;32m     86\u001b[0m     \u001b[0;32mdef\u001b[0m \u001b[0mforward\u001b[0m\u001b[0;34m(\u001b[0m\u001b[0mself\u001b[0m\u001b[0;34m,\u001b[0m \u001b[0minput\u001b[0m\u001b[0;34m)\u001b[0m\u001b[0;34m:\u001b[0m\u001b[0;34m\u001b[0m\u001b[0;34m\u001b[0m\u001b[0m\n\u001b[0;32m---> 87\u001b[0;31m         \u001b[0;32mreturn\u001b[0m \u001b[0mF\u001b[0m\u001b[0;34m.\u001b[0m\u001b[0mlinear\u001b[0m\u001b[0;34m(\u001b[0m\u001b[0minput\u001b[0m\u001b[0;34m,\u001b[0m \u001b[0mself\u001b[0m\u001b[0;34m.\u001b[0m\u001b[0mweight\u001b[0m\u001b[0;34m,\u001b[0m \u001b[0mself\u001b[0m\u001b[0;34m.\u001b[0m\u001b[0mbias\u001b[0m\u001b[0;34m)\u001b[0m\u001b[0;34m\u001b[0m\u001b[0;34m\u001b[0m\u001b[0m\n\u001b[0m\u001b[1;32m     88\u001b[0m \u001b[0;34m\u001b[0m\u001b[0m\n\u001b[1;32m     89\u001b[0m     \u001b[0;32mdef\u001b[0m \u001b[0mextra_repr\u001b[0m\u001b[0;34m(\u001b[0m\u001b[0mself\u001b[0m\u001b[0;34m)\u001b[0m\u001b[0;34m:\u001b[0m\u001b[0;34m\u001b[0m\u001b[0;34m\u001b[0m\u001b[0m\n",
      "\u001b[0;32m~/opt/anaconda3/envs/sciki/lib/python3.8/site-packages/torch/nn/functional.py\u001b[0m in \u001b[0;36mlinear\u001b[0;34m(input, weight, bias)\u001b[0m\n\u001b[1;32m   1368\u001b[0m     \u001b[0;32mif\u001b[0m \u001b[0minput\u001b[0m\u001b[0;34m.\u001b[0m\u001b[0mdim\u001b[0m\u001b[0;34m(\u001b[0m\u001b[0;34m)\u001b[0m \u001b[0;34m==\u001b[0m \u001b[0;36m2\u001b[0m \u001b[0;32mand\u001b[0m \u001b[0mbias\u001b[0m \u001b[0;32mis\u001b[0m \u001b[0;32mnot\u001b[0m \u001b[0;32mNone\u001b[0m\u001b[0;34m:\u001b[0m\u001b[0;34m\u001b[0m\u001b[0;34m\u001b[0m\u001b[0m\n\u001b[1;32m   1369\u001b[0m         \u001b[0;31m# fused op is marginally faster\u001b[0m\u001b[0;34m\u001b[0m\u001b[0;34m\u001b[0m\u001b[0;34m\u001b[0m\u001b[0m\n\u001b[0;32m-> 1370\u001b[0;31m         \u001b[0mret\u001b[0m \u001b[0;34m=\u001b[0m \u001b[0mtorch\u001b[0m\u001b[0;34m.\u001b[0m\u001b[0maddmm\u001b[0m\u001b[0;34m(\u001b[0m\u001b[0mbias\u001b[0m\u001b[0;34m,\u001b[0m \u001b[0minput\u001b[0m\u001b[0;34m,\u001b[0m \u001b[0mweight\u001b[0m\u001b[0;34m.\u001b[0m\u001b[0mt\u001b[0m\u001b[0;34m(\u001b[0m\u001b[0;34m)\u001b[0m\u001b[0;34m)\u001b[0m\u001b[0;34m\u001b[0m\u001b[0;34m\u001b[0m\u001b[0m\n\u001b[0m\u001b[1;32m   1371\u001b[0m     \u001b[0;32melse\u001b[0m\u001b[0;34m:\u001b[0m\u001b[0;34m\u001b[0m\u001b[0;34m\u001b[0m\u001b[0m\n\u001b[1;32m   1372\u001b[0m         \u001b[0moutput\u001b[0m \u001b[0;34m=\u001b[0m \u001b[0minput\u001b[0m\u001b[0;34m.\u001b[0m\u001b[0mmatmul\u001b[0m\u001b[0;34m(\u001b[0m\u001b[0mweight\u001b[0m\u001b[0;34m.\u001b[0m\u001b[0mt\u001b[0m\u001b[0;34m(\u001b[0m\u001b[0;34m)\u001b[0m\u001b[0;34m)\u001b[0m\u001b[0;34m\u001b[0m\u001b[0;34m\u001b[0m\u001b[0m\n",
      "\u001b[0;31mKeyboardInterrupt\u001b[0m: "
     ]
    }
   ],
   "source": [
    "fittestBirds = []\n",
    "\n",
    "env = gym.make(\"scienceCampBird-v1\")\n",
    "env.setPipeIntervals([Interval_distance, Interval_height,Interval_gap])\n",
    "population = gen.Population(POPULATION_SIZE, 5, 2, computeReward, net)\n",
    "env.setAction(birdAction)\n",
    "  #  print(len(population.nets))\n",
    "population.evaluate_on_env(env,generateFeatures, Score_Max)\n",
    "ecount = 0  \n",
    "while True:\n",
    "    population = gen.mutate_population(population, PARENTS_COUNT, NOISE_STD)\n",
    "    population.evaluate_on_env(env, generateFeatures, Score_Max)\n",
    "    fittestBirds.append(population.population[0])\n",
    "    ecount +=1\n",
    "    if(ecount % 5 == 0):\n",
    "        print(\"evaluaton\")\n",
    "        net = population.population[0][1]\n",
    "        score_e = population.population[0][0]\n",
    "        score_p = env.playWithNet(net, generateFeatures, Score_Max, computeReward, ecount)\n",
    "        print(\"----------------------------------------------------------------------------\")\n",
    "        print(\"----------------------------------------------------------------------------\")\n",
    "        print('Population: ', ecount)\n",
    "        print(\"____________________________________________________________________________\")\n",
    "        print('Score Training: ', score_e, ' Score Spiel: ', score_p)\n",
    "        print(\"____________________________________________________________________________\")\n",
    "        for name, param in net.named_parameters():\n",
    "            print(name, param)"
   ]
  },
  {
   "cell_type": "markdown",
   "metadata": {},
   "source": [
    "# Plott"
   ]
  },
  {
   "cell_type": "code",
   "execution_count": 12,
   "metadata": {},
   "outputs": [
    {
     "data": {
      "image/png": "[encoded data removed]",
      "text/plain": [
       "<Figure size 432x288 with 1 Axes>"
      ]
     },
     "metadata": {
      "needs_background": "light"
     },
     "output_type": "display_data"
    }
   ],
   "source": [
    "scores = [score[0] for score in fittestBirds]\n",
    "fig, ax = plt.subplots()\n",
    "ax.plot(scores)\n",
    "\n",
    "ax.set(xlabel='Pupulation', ylabel='Score',\n",
    "       title=' Scores der besten Vogels der Population')\n",
    "ax.grid()\n",
    "\n",
    "fig.savefig(\"test.png\")\n",
    "plt.show()"
   ]
  },
  {
   "cell_type": "code",
   "execution_count": 13,
   "metadata": {},
   "outputs": [],
   "source": [
    "i = 0\n",
    "for bird in fittestBirds:\n",
    "        i +=1\n",
    "        net = bird[1]\n",
    "        score_p = bird[0]\n",
    "        print(\"----------------------------------------------------------------------------\")\n",
    "        print(\"----------------------------------------------------------------------------\")\n",
    "        print('Population: ', i)\n",
    "        print(\"____________________________________________________________________________\")\n",
    "        print('Score: ', score_p)\n",
    "        print(\"____________________________________________________________________________\")\n",
    "        for name, param in net.named_parameters():\n",
    "            print(name, param)"
   ]
  },
  {
   "cell_type": "code",
   "execution_count": null,
   "metadata": {
    "collapsed": true
   },
   "outputs": [],
   "source": []
  },
  {
   "cell_type": "code",
   "execution_count": null,
   "metadata": {
    "collapsed": true
   },
   "outputs": [],
   "source": []
  }
 ],
 "metadata": {
  "kernelspec": {
   "display_name": "Python 3 (ipykernel)",
   "language": "python",
   "name": "python3"
  },
  "language_info": {
   "codemirror_mode": {
    "name": "ipython",
    "version": 3
   },
   "file_extension": ".py",
   "mimetype": "text/x-python",
   "name": "python",
   "nbconvert_exporter": "python",
   "pygments_lexer": "ipython3",
   "version": "3.8.12"
  }
 },
 "nbformat": 4,
 "nbformat_minor": 2
}
