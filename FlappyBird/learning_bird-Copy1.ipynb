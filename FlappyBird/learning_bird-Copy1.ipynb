{
 "cells": [
  {
   "cell_type": "code",
   "execution_count": 1,
   "metadata": {
    "scrolled": true
   },
   "outputs": [
    {
     "name": "stdout",
     "output_type": "stream",
     "text": [
      "pygame 2.0.2 (SDL 2.0.16, Python 3.8.12)\n",
      "Hello from the pygame community. https://www.pygame.org/contribute.html\n"
     ]
    }
   ],
   "source": [
    "import gym\n",
    "import copy\n",
    "import numpy as np\n",
    "import time as time\n",
    "import torch\n",
    "import torch.nn as nn\n",
    "import gym_flappyBird\n",
    "import genetics as gen\n",
    "from tensorboardX import SummaryWriter\n",
    "import matplotlib.pyplot as plt\n",
    "import math\n",
    "import pygame\n",
    "from pygame.locals import *"
   ]
  },
  {
   "cell_type": "markdown",
   "metadata": {},
   "source": [
    "# Maschine"
   ]
  },
  {
   "cell_type": "markdown",
   "metadata": {},
   "source": [
    "## Feature extrahieren"
   ]
  },
  {
   "cell_type": "markdown",
   "metadata": {},
   "source": [
    "<img src=\"sprites/ingame.jpg\" align=\"left\" >"
   ]
  },
  {
   "cell_type": "code",
   "execution_count": 2,
   "metadata": {},
   "outputs": [],
   "source": [
    "def generateFeatures(state):\n",
    "    bird = state['bird']\n",
    "    #print(type(bird))\n",
    "    posY = bird.Y\n",
    "    speedY = bird.speedY\n",
    "    pipes = state['pipes']\n",
    "    #print(pipes[0].pos)\n",
    "    return posY, speedY, pipes[0].pos,pipes[0].height,pipes[0].gap"
   ]
  },
  {
   "cell_type": "markdown",
   "metadata": {},
   "source": [
    "## Reward  berechnen"
   ]
  },
  {
   "cell_type": "markdown",
   "metadata": {},
   "source": [
    "<img src=\"sprites/ingame_2.jpg\" align=\"left\" >"
   ]
  },
  {
   "cell_type": "code",
   "execution_count": 3,
   "metadata": {},
   "outputs": [],
   "source": [
    "def computeReward(state_old, state_new):\n",
    "    return 0"
   ]
  },
  {
   "cell_type": "markdown",
   "metadata": {},
   "source": [
    "# Aktion festlegen"
   ]
  },
  {
   "cell_type": "code",
   "execution_count": 4,
   "metadata": {},
   "outputs": [],
   "source": [
    "def birdAction(decission, bird):\n",
    "        bird.force = [0.0, 50*decission[0]]"
   ]
  },
  {
   "cell_type": "markdown",
   "metadata": {},
   "source": [
    "# Mutationsparameter"
   ]
  },
  {
   "cell_type": "markdown",
   "metadata": {},
   "source": [
    "<img src=\"sprites/ingame_3.jpg\" align=\"left\" >"
   ]
  },
  {
   "cell_type": "code",
   "execution_count": 5,
   "metadata": {},
   "outputs": [],
   "source": [
    "NOISE_STD = 0.5\n",
    "POPULATION_SIZE = 250\n",
    "PARENTS_COUNT = 15"
   ]
  },
  {
   "cell_type": "markdown",
   "metadata": {
    "collapsed": true
   },
   "source": [
    "# Neunales Netz \n",
    "\n",
    "## Layer\n",
    "nn.Linear(X, Y), Input dim X, Output dim Y\n",
    "\n",
    "## Aktivierungsfunktionen\n",
    "nn.ReLU()\n",
    "\n",
    "\n",
    "nn.Sigmoid()\n",
    "\n",
    "\n",
    "nn.Softmax(dim=1))\n",
    "\n",
    "\n",
    "\n",
    "## Topologie\n",
    "nn.Sequential(Layer, Aktivierungsfunktion, Layer, Aktivierungsfunktion...., Layer,Softmax)\n",
    "###### Beispiel\n",
    "nn.Sequential(nn.Linear(5, 5),nn.Softmax(dim=1))"
   ]
  },
  {
   "cell_type": "code",
   "execution_count": 6,
   "metadata": {},
   "outputs": [],
   "source": [
    "net = nn.Sequential(nn.Linear(5, 5),nn.Sigmoid(),nn.Linear(5, 5),nn.Sigmoid(), nn.Linear(5, 1))"
   ]
  },
  {
   "cell_type": "code",
   "execution_count": 7,
   "metadata": {},
   "outputs": [],
   "source": [
    "#net = nn.Sequential(nn.Linear(5, 5),nn.ReLU(),nn.Linear(5, 2),nn.Softmax(dim=1))"
   ]
  },
  {
   "cell_type": "code",
   "execution_count": 8,
   "metadata": {},
   "outputs": [
    {
     "name": "stdout",
     "output_type": "stream",
     "text": [
      "0.weight Parameter containing:\n",
      "tensor([[-0.3992, -0.0735,  0.0805, -0.3926, -0.0434],\n",
      "        [ 0.1759, -0.0456, -0.2572,  0.2926, -0.0614],\n",
      "        [-0.0841,  0.2410, -0.1037, -0.0786,  0.0297],\n",
      "        [-0.1184,  0.2544,  0.1787, -0.1755,  0.2791],\n",
      "        [-0.2037, -0.4385, -0.2987, -0.0054, -0.4157]], requires_grad=True)\n",
      "0.bias Parameter containing:\n",
      "tensor([ 0.4446, -0.1117, -0.1708, -0.3057,  0.3649], requires_grad=True)\n",
      "2.weight Parameter containing:\n",
      "tensor([[ 0.3430, -0.3011, -0.2682, -0.0816,  0.0942],\n",
      "        [ 0.2432,  0.0040,  0.3735, -0.0808,  0.1369],\n",
      "        [-0.1409, -0.0059,  0.2481,  0.0280, -0.2164],\n",
      "        [-0.0387, -0.3562, -0.3306, -0.3480, -0.3215],\n",
      "        [ 0.1270, -0.3482, -0.1871,  0.3036,  0.2014]], requires_grad=True)\n",
      "2.bias Parameter containing:\n",
      "tensor([-0.3598,  0.1205, -0.3648, -0.0759, -0.1977], requires_grad=True)\n",
      "4.weight Parameter containing:\n",
      "tensor([[-0.0448,  0.1087,  0.1858,  0.4039, -0.4243]], requires_grad=True)\n",
      "4.bias Parameter containing:\n",
      "tensor([0.0203], requires_grad=True)\n"
     ]
    }
   ],
   "source": [
    "for name, param in net.named_parameters():\n",
    "    print(name, param)"
   ]
  },
  {
   "cell_type": "markdown",
   "metadata": {},
   "source": [
    "## [ Abstand zwischen,  Höhe der Pipes, Grösse der Lücke"
   ]
  },
  {
   "cell_type": "code",
   "execution_count": 9,
   "metadata": {},
   "outputs": [],
   "source": [
    "Interval_distance = [250, 350]\n",
    "Interval_height = [100,300]\n",
    "Interval_gap = [120,130]"
   ]
  },
  {
   "cell_type": "markdown",
   "metadata": {},
   "source": [
    "## Max Score"
   ]
  },
  {
   "cell_type": "code",
   "execution_count": 10,
   "metadata": {},
   "outputs": [],
   "source": [
    "Score_Max = 4000"
   ]
  },
  {
   "cell_type": "code",
   "execution_count": 11,
   "metadata": {
    "scrolled": true
   },
   "outputs": [
    {
     "name": "stdout",
     "output_type": "stream",
     "text": [
      "----------------------------------------------------------------------------\n",
      "----------------------------------------------------------------------------\n",
      "Population:  20\n",
      "____________________________________________________________________________\n",
      "Score Training:  0.0  Score Spiel:  0.0\n",
      "____________________________________________________________________________\n",
      "0.weight Parameter containing:\n",
      "tensor([[-0.3992, -0.0735,  0.0805, -0.3926, -0.0434],\n",
      "        [ 0.1759, -0.0456, -0.2572,  0.2926, -0.0614],\n",
      "        [-0.0841,  0.2410, -0.1037, -0.0786,  0.0297],\n",
      "        [-0.1184,  0.2544,  0.1787, -0.1755,  0.2791],\n",
      "        [-0.2037, -0.4385, -0.2987, -0.0054, -0.4157]], requires_grad=True)\n",
      "0.bias Parameter containing:\n",
      "tensor([ 0.4446, -0.1117, -0.1708, -0.3057,  0.3649], requires_grad=True)\n",
      "2.weight Parameter containing:\n",
      "tensor([[ 0.3430, -0.3011, -0.2682, -0.0816,  0.0942],\n",
      "        [ 0.2432,  0.0040,  0.3735, -0.0808,  0.1369],\n",
      "        [-0.1409, -0.0059,  0.2481,  0.0280, -0.2164],\n",
      "        [-0.0387, -0.3562, -0.3306, -0.3480, -0.3215],\n",
      "        [ 0.1270, -0.3482, -0.1871,  0.3036,  0.2014]], requires_grad=True)\n",
      "2.bias Parameter containing:\n",
      "tensor([-0.3598,  0.1205, -0.3648, -0.0759, -0.1977], requires_grad=True)\n",
      "4.weight Parameter containing:\n",
      "tensor([[-0.0448,  0.1087,  0.1858,  0.4039, -0.4243]], requires_grad=True)\n",
      "4.bias Parameter containing:\n",
      "tensor([0.0203], requires_grad=True)\n",
      "----------------------------------------------------------------------------\n",
      "----------------------------------------------------------------------------\n",
      "Population:  40\n",
      "____________________________________________________________________________\n",
      "Score Training:  0.0  Score Spiel:  0.0\n",
      "____________________________________________________________________________\n",
      "0.weight Parameter containing:\n",
      "tensor([[-0.3992, -0.0735,  0.0805, -0.3926, -0.0434],\n",
      "        [ 0.1759, -0.0456, -0.2572,  0.2926, -0.0614],\n",
      "        [-0.0841,  0.2410, -0.1037, -0.0786,  0.0297],\n",
      "        [-0.1184,  0.2544,  0.1787, -0.1755,  0.2791],\n",
      "        [-0.2037, -0.4385, -0.2987, -0.0054, -0.4157]], requires_grad=True)\n",
      "0.bias Parameter containing:\n",
      "tensor([ 0.4446, -0.1117, -0.1708, -0.3057,  0.3649], requires_grad=True)\n",
      "2.weight Parameter containing:\n",
      "tensor([[ 0.3430, -0.3011, -0.2682, -0.0816,  0.0942],\n",
      "        [ 0.2432,  0.0040,  0.3735, -0.0808,  0.1369],\n",
      "        [-0.1409, -0.0059,  0.2481,  0.0280, -0.2164],\n",
      "        [-0.0387, -0.3562, -0.3306, -0.3480, -0.3215],\n",
      "        [ 0.1270, -0.3482, -0.1871,  0.3036,  0.2014]], requires_grad=True)\n",
      "2.bias Parameter containing:\n",
      "tensor([-0.3598,  0.1205, -0.3648, -0.0759, -0.1977], requires_grad=True)\n",
      "4.weight Parameter containing:\n",
      "tensor([[-0.0448,  0.1087,  0.1858,  0.4039, -0.4243]], requires_grad=True)\n",
      "4.bias Parameter containing:\n",
      "tensor([0.0203], requires_grad=True)\n",
      "----------------------------------------------------------------------------\n",
      "----------------------------------------------------------------------------\n",
      "Population:  60\n",
      "____________________________________________________________________________\n",
      "Score Training:  0.0  Score Spiel:  0.0\n",
      "____________________________________________________________________________\n",
      "0.weight Parameter containing:\n",
      "tensor([[-0.3992, -0.0735,  0.0805, -0.3926, -0.0434],\n",
      "        [ 0.1759, -0.0456, -0.2572,  0.2926, -0.0614],\n",
      "        [-0.0841,  0.2410, -0.1037, -0.0786,  0.0297],\n",
      "        [-0.1184,  0.2544,  0.1787, -0.1755,  0.2791],\n",
      "        [-0.2037, -0.4385, -0.2987, -0.0054, -0.4157]], requires_grad=True)\n",
      "0.bias Parameter containing:\n",
      "tensor([ 0.4446, -0.1117, -0.1708, -0.3057,  0.3649], requires_grad=True)\n",
      "2.weight Parameter containing:\n",
      "tensor([[ 0.3430, -0.3011, -0.2682, -0.0816,  0.0942],\n",
      "        [ 0.2432,  0.0040,  0.3735, -0.0808,  0.1369],\n",
      "        [-0.1409, -0.0059,  0.2481,  0.0280, -0.2164],\n",
      "        [-0.0387, -0.3562, -0.3306, -0.3480, -0.3215],\n",
      "        [ 0.1270, -0.3482, -0.1871,  0.3036,  0.2014]], requires_grad=True)\n",
      "2.bias Parameter containing:\n",
      "tensor([-0.3598,  0.1205, -0.3648, -0.0759, -0.1977], requires_grad=True)\n",
      "4.weight Parameter containing:\n",
      "tensor([[-0.0448,  0.1087,  0.1858,  0.4039, -0.4243]], requires_grad=True)\n",
      "4.bias Parameter containing:\n",
      "tensor([0.0203], requires_grad=True)\n"
     ]
    },
    {
     "ename": "KeyboardInterrupt",
     "evalue": "",
     "output_type": "error",
     "traceback": [
      "\u001b[0;31m---------------------------------------------------------------------------\u001b[0m",
      "\u001b[0;31mKeyboardInterrupt\u001b[0m                         Traceback (most recent call last)",
      "\u001b[0;32m/var/folders/7w/cqwwv7rx4ld69zv2g0wnxx_80000gn/T/ipykernel_48558/3792318706.py\u001b[0m in \u001b[0;36m<module>\u001b[0;34m\u001b[0m\n\u001b[1;32m     10\u001b[0m \u001b[0;32mwhile\u001b[0m \u001b[0;32mTrue\u001b[0m\u001b[0;34m:\u001b[0m\u001b[0;34m\u001b[0m\u001b[0;34m\u001b[0m\u001b[0m\n\u001b[1;32m     11\u001b[0m     \u001b[0mpopulation\u001b[0m \u001b[0;34m=\u001b[0m \u001b[0mgen\u001b[0m\u001b[0;34m.\u001b[0m\u001b[0mmutate_population\u001b[0m\u001b[0;34m(\u001b[0m\u001b[0mpopulation\u001b[0m\u001b[0;34m,\u001b[0m \u001b[0mPARENTS_COUNT\u001b[0m\u001b[0;34m,\u001b[0m \u001b[0mNOISE_STD\u001b[0m\u001b[0;34m)\u001b[0m\u001b[0;34m\u001b[0m\u001b[0;34m\u001b[0m\u001b[0m\n\u001b[0;32m---> 12\u001b[0;31m     \u001b[0mpopulation\u001b[0m\u001b[0;34m.\u001b[0m\u001b[0mevaluate_on_env\u001b[0m\u001b[0;34m(\u001b[0m\u001b[0menv\u001b[0m\u001b[0;34m,\u001b[0m \u001b[0mgenerateFeatures\u001b[0m\u001b[0;34m,\u001b[0m \u001b[0mScore_Max\u001b[0m\u001b[0;34m)\u001b[0m\u001b[0;34m\u001b[0m\u001b[0;34m\u001b[0m\u001b[0m\n\u001b[0m\u001b[1;32m     13\u001b[0m     \u001b[0mfittestBirds\u001b[0m\u001b[0;34m.\u001b[0m\u001b[0mappend\u001b[0m\u001b[0;34m(\u001b[0m\u001b[0mpopulation\u001b[0m\u001b[0;34m.\u001b[0m\u001b[0mpopulation\u001b[0m\u001b[0;34m[\u001b[0m\u001b[0;36m0\u001b[0m\u001b[0;34m]\u001b[0m\u001b[0;34m)\u001b[0m\u001b[0;34m\u001b[0m\u001b[0;34m\u001b[0m\u001b[0m\n\u001b[1;32m     14\u001b[0m     \u001b[0mecount\u001b[0m \u001b[0;34m+=\u001b[0m\u001b[0;36m1\u001b[0m\u001b[0;34m\u001b[0m\u001b[0;34m\u001b[0m\u001b[0m\n",
      "\u001b[0;32m~/code/FluffyBird/FlappyBird/genetics.py\u001b[0m in \u001b[0;36mevaluate_on_env\u001b[0;34m(self, env, generateFeatures, MAX_REWARD)\u001b[0m\n\u001b[1;32m     31\u001b[0m                 \u001b[0;31m#action = env.action_space.sample()\u001b[0m\u001b[0;34m\u001b[0m\u001b[0;34m\u001b[0m\u001b[0;34m\u001b[0m\u001b[0m\n\u001b[1;32m     32\u001b[0m \u001b[0;34m\u001b[0m\u001b[0m\n\u001b[0;32m---> 33\u001b[0;31m                 \u001b[0mact_prob\u001b[0m \u001b[0;34m=\u001b[0m \u001b[0mnet\u001b[0m\u001b[0;34m(\u001b[0m\u001b[0mobs\u001b[0m\u001b[0;34m)\u001b[0m\u001b[0;34m.\u001b[0m\u001b[0mdata\u001b[0m\u001b[0;34m.\u001b[0m\u001b[0mnumpy\u001b[0m\u001b[0;34m(\u001b[0m\u001b[0;34m)\u001b[0m\u001b[0;34m[\u001b[0m\u001b[0;36m0\u001b[0m\u001b[0;34m]\u001b[0m\u001b[0;34m\u001b[0m\u001b[0;34m\u001b[0m\u001b[0m\n\u001b[0m\u001b[1;32m     34\u001b[0m                 \u001b[0macts\u001b[0m \u001b[0;34m=\u001b[0m \u001b[0;36m0\u001b[0m\u001b[0;34m\u001b[0m\u001b[0;34m\u001b[0m\u001b[0m\n\u001b[1;32m     35\u001b[0m  \u001b[0;31m#               if(act_prob[0] < act_prob[1]):\u001b[0m\u001b[0;34m\u001b[0m\u001b[0;34m\u001b[0m\u001b[0;34m\u001b[0m\u001b[0m\n",
      "\u001b[0;32m~/opt/anaconda3/envs/sciki/lib/python3.8/site-packages/torch/nn/modules/module.py\u001b[0m in \u001b[0;36m__call__\u001b[0;34m(self, *input, **kwargs)\u001b[0m\n\u001b[1;32m    530\u001b[0m             \u001b[0mresult\u001b[0m \u001b[0;34m=\u001b[0m \u001b[0mself\u001b[0m\u001b[0;34m.\u001b[0m\u001b[0m_slow_forward\u001b[0m\u001b[0;34m(\u001b[0m\u001b[0;34m*\u001b[0m\u001b[0minput\u001b[0m\u001b[0;34m,\u001b[0m \u001b[0;34m**\u001b[0m\u001b[0mkwargs\u001b[0m\u001b[0;34m)\u001b[0m\u001b[0;34m\u001b[0m\u001b[0;34m\u001b[0m\u001b[0m\n\u001b[1;32m    531\u001b[0m         \u001b[0;32melse\u001b[0m\u001b[0;34m:\u001b[0m\u001b[0;34m\u001b[0m\u001b[0;34m\u001b[0m\u001b[0m\n\u001b[0;32m--> 532\u001b[0;31m             \u001b[0mresult\u001b[0m \u001b[0;34m=\u001b[0m \u001b[0mself\u001b[0m\u001b[0;34m.\u001b[0m\u001b[0mforward\u001b[0m\u001b[0;34m(\u001b[0m\u001b[0;34m*\u001b[0m\u001b[0minput\u001b[0m\u001b[0;34m,\u001b[0m \u001b[0;34m**\u001b[0m\u001b[0mkwargs\u001b[0m\u001b[0;34m)\u001b[0m\u001b[0;34m\u001b[0m\u001b[0;34m\u001b[0m\u001b[0m\n\u001b[0m\u001b[1;32m    533\u001b[0m         \u001b[0;32mfor\u001b[0m \u001b[0mhook\u001b[0m \u001b[0;32min\u001b[0m \u001b[0mself\u001b[0m\u001b[0;34m.\u001b[0m\u001b[0m_forward_hooks\u001b[0m\u001b[0;34m.\u001b[0m\u001b[0mvalues\u001b[0m\u001b[0;34m(\u001b[0m\u001b[0;34m)\u001b[0m\u001b[0;34m:\u001b[0m\u001b[0;34m\u001b[0m\u001b[0;34m\u001b[0m\u001b[0m\n\u001b[1;32m    534\u001b[0m             \u001b[0mhook_result\u001b[0m \u001b[0;34m=\u001b[0m \u001b[0mhook\u001b[0m\u001b[0;34m(\u001b[0m\u001b[0mself\u001b[0m\u001b[0;34m,\u001b[0m \u001b[0minput\u001b[0m\u001b[0;34m,\u001b[0m \u001b[0mresult\u001b[0m\u001b[0;34m)\u001b[0m\u001b[0;34m\u001b[0m\u001b[0;34m\u001b[0m\u001b[0m\n",
      "\u001b[0;32m~/opt/anaconda3/envs/sciki/lib/python3.8/site-packages/torch/nn/modules/container.py\u001b[0m in \u001b[0;36mforward\u001b[0;34m(self, input)\u001b[0m\n\u001b[1;32m     98\u001b[0m     \u001b[0;32mdef\u001b[0m \u001b[0mforward\u001b[0m\u001b[0;34m(\u001b[0m\u001b[0mself\u001b[0m\u001b[0;34m,\u001b[0m \u001b[0minput\u001b[0m\u001b[0;34m)\u001b[0m\u001b[0;34m:\u001b[0m\u001b[0;34m\u001b[0m\u001b[0;34m\u001b[0m\u001b[0m\n\u001b[1;32m     99\u001b[0m         \u001b[0;32mfor\u001b[0m \u001b[0mmodule\u001b[0m \u001b[0;32min\u001b[0m \u001b[0mself\u001b[0m\u001b[0;34m:\u001b[0m\u001b[0;34m\u001b[0m\u001b[0;34m\u001b[0m\u001b[0m\n\u001b[0;32m--> 100\u001b[0;31m             \u001b[0minput\u001b[0m \u001b[0;34m=\u001b[0m \u001b[0mmodule\u001b[0m\u001b[0;34m(\u001b[0m\u001b[0minput\u001b[0m\u001b[0;34m)\u001b[0m\u001b[0;34m\u001b[0m\u001b[0;34m\u001b[0m\u001b[0m\n\u001b[0m\u001b[1;32m    101\u001b[0m         \u001b[0;32mreturn\u001b[0m \u001b[0minput\u001b[0m\u001b[0;34m\u001b[0m\u001b[0;34m\u001b[0m\u001b[0m\n\u001b[1;32m    102\u001b[0m \u001b[0;34m\u001b[0m\u001b[0m\n",
      "\u001b[0;32m~/opt/anaconda3/envs/sciki/lib/python3.8/site-packages/torch/nn/modules/module.py\u001b[0m in \u001b[0;36m__call__\u001b[0;34m(self, *input, **kwargs)\u001b[0m\n\u001b[1;32m    530\u001b[0m             \u001b[0mresult\u001b[0m \u001b[0;34m=\u001b[0m \u001b[0mself\u001b[0m\u001b[0;34m.\u001b[0m\u001b[0m_slow_forward\u001b[0m\u001b[0;34m(\u001b[0m\u001b[0;34m*\u001b[0m\u001b[0minput\u001b[0m\u001b[0;34m,\u001b[0m \u001b[0;34m**\u001b[0m\u001b[0mkwargs\u001b[0m\u001b[0;34m)\u001b[0m\u001b[0;34m\u001b[0m\u001b[0;34m\u001b[0m\u001b[0m\n\u001b[1;32m    531\u001b[0m         \u001b[0;32melse\u001b[0m\u001b[0;34m:\u001b[0m\u001b[0;34m\u001b[0m\u001b[0;34m\u001b[0m\u001b[0m\n\u001b[0;32m--> 532\u001b[0;31m             \u001b[0mresult\u001b[0m \u001b[0;34m=\u001b[0m \u001b[0mself\u001b[0m\u001b[0;34m.\u001b[0m\u001b[0mforward\u001b[0m\u001b[0;34m(\u001b[0m\u001b[0;34m*\u001b[0m\u001b[0minput\u001b[0m\u001b[0;34m,\u001b[0m \u001b[0;34m**\u001b[0m\u001b[0mkwargs\u001b[0m\u001b[0;34m)\u001b[0m\u001b[0;34m\u001b[0m\u001b[0;34m\u001b[0m\u001b[0m\n\u001b[0m\u001b[1;32m    533\u001b[0m         \u001b[0;32mfor\u001b[0m \u001b[0mhook\u001b[0m \u001b[0;32min\u001b[0m \u001b[0mself\u001b[0m\u001b[0;34m.\u001b[0m\u001b[0m_forward_hooks\u001b[0m\u001b[0;34m.\u001b[0m\u001b[0mvalues\u001b[0m\u001b[0;34m(\u001b[0m\u001b[0;34m)\u001b[0m\u001b[0;34m:\u001b[0m\u001b[0;34m\u001b[0m\u001b[0;34m\u001b[0m\u001b[0m\n\u001b[1;32m    534\u001b[0m             \u001b[0mhook_result\u001b[0m \u001b[0;34m=\u001b[0m \u001b[0mhook\u001b[0m\u001b[0;34m(\u001b[0m\u001b[0mself\u001b[0m\u001b[0;34m,\u001b[0m \u001b[0minput\u001b[0m\u001b[0;34m,\u001b[0m \u001b[0mresult\u001b[0m\u001b[0;34m)\u001b[0m\u001b[0;34m\u001b[0m\u001b[0;34m\u001b[0m\u001b[0m\n",
      "\u001b[0;32m~/opt/anaconda3/envs/sciki/lib/python3.8/site-packages/torch/nn/modules/linear.py\u001b[0m in \u001b[0;36mforward\u001b[0;34m(self, input)\u001b[0m\n\u001b[1;32m     85\u001b[0m \u001b[0;34m\u001b[0m\u001b[0m\n\u001b[1;32m     86\u001b[0m     \u001b[0;32mdef\u001b[0m \u001b[0mforward\u001b[0m\u001b[0;34m(\u001b[0m\u001b[0mself\u001b[0m\u001b[0;34m,\u001b[0m \u001b[0minput\u001b[0m\u001b[0;34m)\u001b[0m\u001b[0;34m:\u001b[0m\u001b[0;34m\u001b[0m\u001b[0;34m\u001b[0m\u001b[0m\n\u001b[0;32m---> 87\u001b[0;31m         \u001b[0;32mreturn\u001b[0m \u001b[0mF\u001b[0m\u001b[0;34m.\u001b[0m\u001b[0mlinear\u001b[0m\u001b[0;34m(\u001b[0m\u001b[0minput\u001b[0m\u001b[0;34m,\u001b[0m \u001b[0mself\u001b[0m\u001b[0;34m.\u001b[0m\u001b[0mweight\u001b[0m\u001b[0;34m,\u001b[0m \u001b[0mself\u001b[0m\u001b[0;34m.\u001b[0m\u001b[0mbias\u001b[0m\u001b[0;34m)\u001b[0m\u001b[0;34m\u001b[0m\u001b[0;34m\u001b[0m\u001b[0m\n\u001b[0m\u001b[1;32m     88\u001b[0m \u001b[0;34m\u001b[0m\u001b[0m\n\u001b[1;32m     89\u001b[0m     \u001b[0;32mdef\u001b[0m \u001b[0mextra_repr\u001b[0m\u001b[0;34m(\u001b[0m\u001b[0mself\u001b[0m\u001b[0;34m)\u001b[0m\u001b[0;34m:\u001b[0m\u001b[0;34m\u001b[0m\u001b[0;34m\u001b[0m\u001b[0m\n",
      "\u001b[0;32m~/opt/anaconda3/envs/sciki/lib/python3.8/site-packages/torch/nn/functional.py\u001b[0m in \u001b[0;36mlinear\u001b[0;34m(input, weight, bias)\u001b[0m\n\u001b[1;32m   1368\u001b[0m     \u001b[0;32mif\u001b[0m \u001b[0minput\u001b[0m\u001b[0;34m.\u001b[0m\u001b[0mdim\u001b[0m\u001b[0;34m(\u001b[0m\u001b[0;34m)\u001b[0m \u001b[0;34m==\u001b[0m \u001b[0;36m2\u001b[0m \u001b[0;32mand\u001b[0m \u001b[0mbias\u001b[0m \u001b[0;32mis\u001b[0m \u001b[0;32mnot\u001b[0m \u001b[0;32mNone\u001b[0m\u001b[0;34m:\u001b[0m\u001b[0;34m\u001b[0m\u001b[0;34m\u001b[0m\u001b[0m\n\u001b[1;32m   1369\u001b[0m         \u001b[0;31m# fused op is marginally faster\u001b[0m\u001b[0;34m\u001b[0m\u001b[0;34m\u001b[0m\u001b[0;34m\u001b[0m\u001b[0m\n\u001b[0;32m-> 1370\u001b[0;31m         \u001b[0mret\u001b[0m \u001b[0;34m=\u001b[0m \u001b[0mtorch\u001b[0m\u001b[0;34m.\u001b[0m\u001b[0maddmm\u001b[0m\u001b[0;34m(\u001b[0m\u001b[0mbias\u001b[0m\u001b[0;34m,\u001b[0m \u001b[0minput\u001b[0m\u001b[0;34m,\u001b[0m \u001b[0mweight\u001b[0m\u001b[0;34m.\u001b[0m\u001b[0mt\u001b[0m\u001b[0;34m(\u001b[0m\u001b[0;34m)\u001b[0m\u001b[0;34m)\u001b[0m\u001b[0;34m\u001b[0m\u001b[0;34m\u001b[0m\u001b[0m\n\u001b[0m\u001b[1;32m   1371\u001b[0m     \u001b[0;32melse\u001b[0m\u001b[0;34m:\u001b[0m\u001b[0;34m\u001b[0m\u001b[0;34m\u001b[0m\u001b[0m\n\u001b[1;32m   1372\u001b[0m         \u001b[0moutput\u001b[0m \u001b[0;34m=\u001b[0m \u001b[0minput\u001b[0m\u001b[0;34m.\u001b[0m\u001b[0mmatmul\u001b[0m\u001b[0;34m(\u001b[0m\u001b[0mweight\u001b[0m\u001b[0;34m.\u001b[0m\u001b[0mt\u001b[0m\u001b[0;34m(\u001b[0m\u001b[0;34m)\u001b[0m\u001b[0;34m)\u001b[0m\u001b[0;34m\u001b[0m\u001b[0;34m\u001b[0m\u001b[0m\n",
      "\u001b[0;31mKeyboardInterrupt\u001b[0m: "
     ]
    }
   ],
   "source": [
    "fittestBirds = []\n",
    "\n",
    "env = gym.make(\"scienceCampBird-v1\")\n",
    "env.setPipeIntervals([Interval_distance, Interval_height,Interval_gap])\n",
    "population = gen.Population(POPULATION_SIZE, 5, 2, computeReward, net)\n",
    "env.setAction(birdAction)\n",
    "  #  print(len(population.nets))\n",
    "population.evaluate_on_env(env,generateFeatures, Score_Max)\n",
    "ecount = 0  \n",
    "while True:\n",
    "    population = gen.mutate_population(population, PARENTS_COUNT, NOISE_STD)\n",
    "    population.evaluate_on_env(env, generateFeatures, Score_Max)\n",
    "    fittestBirds.append(population.population[0])\n",
    "    ecount +=1\n",
    "    if(ecount % 20 == 0):\n",
    "        net = population.population[0][1]\n",
    "        score_e = population.population[0][0]\n",
    "        score_p = env.playWithNet(net, generateFeatures, Score_Max, computeReward, ecount)\n",
    "        print(\"----------------------------------------------------------------------------\")\n",
    "        print(\"----------------------------------------------------------------------------\")\n",
    "        print('Population: ', ecount)\n",
    "        print(\"____________________________________________________________________________\")\n",
    "        print('Score Training: ', score_e, ' Score Spiel: ', score_p)\n",
    "        print(\"____________________________________________________________________________\")\n",
    "        for name, param in net.named_parameters():\n",
    "            print(name, param)"
   ]
  },
  {
   "cell_type": "markdown",
   "metadata": {},
   "source": [
    "# Plott"
   ]
  },
  {
   "cell_type": "code",
   "execution_count": null,
   "metadata": {
    "collapsed": true
   },
   "outputs": [],
   "source": [
    "scores = [score[0] for score in fittestBirds]\n",
    "fig, ax = plt.subplots()\n",
    "ax.plot(scores)\n",
    "\n",
    "ax.set(xlabel='Pupulation', ylabel='Score',\n",
    "       title=' Scores der besten Vogels der Population')\n",
    "ax.grid()\n",
    "\n",
    "fig.savefig(\"test.png\")\n",
    "plt.show()"
   ]
  },
  {
   "cell_type": "code",
   "execution_count": null,
   "metadata": {
    "collapsed": true
   },
   "outputs": [],
   "source": [
    "i = 0\n",
    "for bird in fittestBirds:\n",
    "        i +=1\n",
    "        net = bird[1]\n",
    "        score_p = bird[0]\n",
    "        print(\"----------------------------------------------------------------------------\")\n",
    "        print(\"----------------------------------------------------------------------------\")\n",
    "        print('Population: ', i)\n",
    "        print(\"____________________________________________________________________________\")\n",
    "        print('Score: ', score_p)\n",
    "        print(\"____________________________________________________________________________\")\n",
    "        for name, param in net.named_parameters():\n",
    "            print(name, param)"
   ]
  },
  {
   "cell_type": "code",
   "execution_count": null,
   "metadata": {
    "collapsed": true
   },
   "outputs": [],
   "source": []
  },
  {
   "cell_type": "code",
   "execution_count": null,
   "metadata": {
    "collapsed": true
   },
   "outputs": [],
   "source": []
  }
 ],
 "metadata": {
  "kernelspec": {
   "display_name": "Python 3 (ipykernel)",
   "language": "python",
   "name": "python3"
  },
  "language_info": {
   "codemirror_mode": {
    "name": "ipython",
    "version": 3
   },
   "file_extension": ".py",
   "mimetype": "text/x-python",
   "name": "python",
   "nbconvert_exporter": "python",
   "pygments_lexer": "ipython3",
   "version": "3.8.12"
  }
 },
 "nbformat": 4,
 "nbformat_minor": 2
}
