{
 "cells": [
  {
   "cell_type": "code",
   "execution_count": 1,
   "metadata": {
    "collapsed": false,
    "scrolled": true
   },
   "outputs": [
    {
     "name": "stdout",
     "output_type": "stream",
     "text": [
      "pygame 1.9.6\n",
      "Hello from the pygame community. https://www.pygame.org/contribute.html\n"
     ]
    }
   ],
   "source": [
    "import gym\n",
    "import copy\n",
    "import numpy as np\n",
    "import time as time\n",
    "import torch\n",
    "import torch.nn as nn\n",
    "import gym_flappyBird\n",
    "import genetics as gen\n",
    "from tensorboardX import SummaryWriter\n",
    "import matplotlib.pyplot as plt\n",
    "import math\n",
    "import pygame\n",
    "from pygame.locals import *"
   ]
  },
  {
   "cell_type": "markdown",
   "metadata": {},
   "source": [
    "# Maschine"
   ]
  },
  {
   "cell_type": "markdown",
   "metadata": {},
   "source": [
    "## Feature extrahieren"
   ]
  },
  {
   "cell_type": "markdown",
   "metadata": {},
   "source": [
    "<img src=\"sprites/ingame.jpg\" align=\"left\" >"
   ]
  },
  {
   "cell_type": "code",
   "execution_count": null,
   "metadata": {
    "collapsed": true
   },
   "outputs": [],
   "source": [
    "def generateFeatures(state):\n",
    "    bird = state['bird']\n",
    "    #print(type(bird))\n",
    "    posY = bird.Y\n",
    "    speedY = bird.speedY\n",
    "    pipes = state['pipes']\n",
    "    #print(pipes[0].pos)\n",
    "    return posY, speedY, pipes[0].pos,pipes[0].height,pipes[0].gap"
   ]
  },
  {
   "cell_type": "markdown",
   "metadata": {},
   "source": [
    "## Reward  berechnen"
   ]
  },
  {
   "cell_type": "markdown",
   "metadata": {},
   "source": [
    "<img src=\"sprites/ingame_2.jpg\" align=\"left\" >"
   ]
  },
  {
   "cell_type": "code",
   "execution_count": null,
   "metadata": {
    "collapsed": true
   },
   "outputs": [],
   "source": [
    "def computeReward(state_old, state_new):\n",
    "    return 0"
   ]
  },
  {
   "cell_type": "markdown",
   "metadata": {},
   "source": [
    "# Aktion festlegen"
   ]
  },
  {
   "cell_type": "code",
   "execution_count": null,
   "metadata": {
    "collapsed": true
   },
   "outputs": [],
   "source": [
    "def birdAction(decission, bird):\n",
    "        bird.force = [0.0, 50*decission[0]]"
   ]
  },
  {
   "cell_type": "markdown",
   "metadata": {},
   "source": [
    "# Mutationsparameter"
   ]
  },
  {
   "cell_type": "markdown",
   "metadata": {},
   "source": [
    "<img src=\"sprites/ingame_3.jpg\" align=\"left\" >"
   ]
  },
  {
   "cell_type": "code",
   "execution_count": null,
   "metadata": {
    "collapsed": true
   },
   "outputs": [],
   "source": [
    "NOISE_STD = 0.5\n",
    "POPULATION_SIZE = 250\n",
    "PARENTS_COUNT = 15"
   ]
  },
  {
   "cell_type": "markdown",
   "metadata": {
    "collapsed": true
   },
   "source": [
    "# Neunales Netz \n",
    "\n",
    "## Layer\n",
    "nn.Linear(X, Y), Input dim X, Output dim Y\n",
    "\n",
    "## Aktivierungsfunktionen\n",
    "nn.ReLU()\n",
    "\n",
    "\n",
    "nn.Sigmoid()\n",
    "\n",
    "\n",
    "nn.Softmax(dim=1))\n",
    "\n",
    "\n",
    "\n",
    "## Topologie\n",
    "nn.Sequential(Layer, Aktivierungsfunktion, Layer, Aktivierungsfunktion...., Layer,Softmax)\n",
    "###### Beispiel\n",
    "nn.Sequential(nn.Linear(5, 5),nn.Softmax(dim=1))"
   ]
  },
  {
   "cell_type": "code",
   "execution_count": 2,
   "metadata": {
    "collapsed": true
   },
   "outputs": [],
   "source": [
    "net = nn.Sequential(nn.Linear(5, 5),nn.Sigmoid(),nn.Linear(5, 5),nn.Sigmoid(), nn.Linear(5, 1))"
   ]
  },
  {
   "cell_type": "code",
   "execution_count": 3,
   "metadata": {
    "collapsed": true
   },
   "outputs": [],
   "source": [
    "#net = nn.Sequential(nn.Linear(5, 5),nn.ReLU(),nn.Linear(5, 2),nn.Softmax(dim=1))"
   ]
  },
  {
   "cell_type": "code",
   "execution_count": 4,
   "metadata": {
    "collapsed": false
   },
   "outputs": [
    {
     "name": "stdout",
     "output_type": "stream",
     "text": [
      "0.weight Parameter containing:\n",
      "tensor([[ 0.0818, -0.3067, -0.3164,  0.3095, -0.0179],\n",
      "        [ 0.3950,  0.2697, -0.2953, -0.4458, -0.1279],\n",
      "        [-0.2016, -0.2666, -0.0030,  0.1808, -0.2403],\n",
      "        [ 0.4021, -0.3385, -0.0999,  0.4189, -0.1962],\n",
      "        [-0.0852,  0.0740,  0.0865, -0.1790,  0.1862]], requires_grad=True)\n",
      "0.bias Parameter containing:\n",
      "tensor([-0.0036,  0.3702,  0.4280, -0.3133, -0.1822], requires_grad=True)\n",
      "2.weight Parameter containing:\n",
      "tensor([[-0.0063,  0.4080, -0.3806, -0.1752, -0.3895],\n",
      "        [ 0.1459, -0.2627,  0.3718,  0.3536,  0.1857],\n",
      "        [-0.0603, -0.1330,  0.1552, -0.4410,  0.2385],\n",
      "        [ 0.0128,  0.2480, -0.2938,  0.2682, -0.2566],\n",
      "        [ 0.4353, -0.1976, -0.3321,  0.4292,  0.1503]], requires_grad=True)\n",
      "2.bias Parameter containing:\n",
      "tensor([ 0.0511,  0.1929, -0.3110, -0.2468,  0.3283], requires_grad=True)\n",
      "4.weight Parameter containing:\n",
      "tensor([[-0.3348, -0.4331,  0.1173, -0.0624,  0.2514]], requires_grad=True)\n",
      "4.bias Parameter containing:\n",
      "tensor([-0.4252], requires_grad=True)\n"
     ]
    }
   ],
   "source": [
    "for name, param in net.named_parameters():\n",
    "    print(name, param)"
   ]
  },
  {
   "cell_type": "markdown",
   "metadata": {},
   "source": [
    "## [ Abstand zwischen,  Höhe der Pipes, Grösse der Lücke"
   ]
  },
  {
   "cell_type": "code",
   "execution_count": 5,
   "metadata": {
    "collapsed": true
   },
   "outputs": [],
   "source": [
    "Interval_distance = [250, 350]\n",
    "Interval_height = [100,300]\n",
    "Interval_gap = [120,130]"
   ]
  },
  {
   "cell_type": "markdown",
   "metadata": {},
   "source": [
    "## Max Score"
   ]
  },
  {
   "cell_type": "code",
   "execution_count": null,
   "metadata": {
    "collapsed": true
   },
   "outputs": [],
   "source": [
    "Score_Max = 4000"
   ]
  },
  {
   "cell_type": "code",
   "execution_count": null,
   "metadata": {
    "collapsed": true,
    "scrolled": true
   },
   "outputs": [],
   "source": [
    "fittestBirds = []\n",
    "\n",
    "env = gym.make(\"scienceCampBird-v1\")\n",
    "env.setPipeIntervals([Interval_distance, Interval_height,Interval_gap])\n",
    "population = gen.Population(POPULATION_SIZE, 5, 2, computeReward, net)\n",
    "env.setAction(birdAction)\n",
    "  #  print(len(population.nets))\n",
    "population.evaluate_on_env(env,generateFeatures, Score_Max)\n",
    "ecount = 0  \n",
    "while True:\n",
    "    population = gen.mutate_population(population, PARENTS_COUNT, NOISE_STD)\n",
    "    population.evaluate_on_env(env, generateFeatures, Score_Max)\n",
    "    fittestBirds.append(population.population[0])\n",
    "    ecount +=1\n",
    "    if(ecount % 20 == 0):\n",
    "        net = population.population[0][1]\n",
    "        score_e = population.population[0][0]\n",
    "        score_p = env.playWithNet(net, generateFeatures, Score_Max, computeReward, ecount)\n",
    "        print(\"----------------------------------------------------------------------------\")\n",
    "        print(\"----------------------------------------------------------------------------\")\n",
    "        print('Population: ', ecount)\n",
    "        print(\"____________________________________________________________________________\")\n",
    "        print('Score Training: ', score_e, ' Score Spiel: ', score_p)\n",
    "        print(\"____________________________________________________________________________\")\n",
    "        for name, param in net.named_parameters():\n",
    "            print(name, param)"
   ]
  },
  {
   "cell_type": "markdown",
   "metadata": {},
   "source": [
    "# Plott"
   ]
  },
  {
   "cell_type": "code",
   "execution_count": null,
   "metadata": {
    "collapsed": true
   },
   "outputs": [],
   "source": [
    "scores = [score[0] for score in fittestBirds]\n",
    "fig, ax = plt.subplots()\n",
    "ax.plot(scores)\n",
    "\n",
    "ax.set(xlabel='Pupulation', ylabel='Score',\n",
    "       title=' Scores der besten Vogels der Population')\n",
    "ax.grid()\n",
    "\n",
    "fig.savefig(\"test.png\")\n",
    "plt.show()"
   ]
  },
  {
   "cell_type": "code",
   "execution_count": null,
   "metadata": {
    "collapsed": true
   },
   "outputs": [],
   "source": [
    "i = 0\n",
    "for bird in fittestBirds:\n",
    "        i +=1\n",
    "        net = bird[1]\n",
    "        score_p = bird[0]\n",
    "        print(\"----------------------------------------------------------------------------\")\n",
    "        print(\"----------------------------------------------------------------------------\")\n",
    "        print('Population: ', i)\n",
    "        print(\"____________________________________________________________________________\")\n",
    "        print('Score: ', score_p)\n",
    "        print(\"____________________________________________________________________________\")\n",
    "        for name, param in net.named_parameters():\n",
    "            print(name, param)"
   ]
  },
  {
   "cell_type": "code",
   "execution_count": null,
   "metadata": {
    "collapsed": true
   },
   "outputs": [],
   "source": []
  },
  {
   "cell_type": "code",
   "execution_count": null,
   "metadata": {
    "collapsed": true
   },
   "outputs": [],
   "source": []
  }
 ],
 "metadata": {
  "kernelspec": {
   "display_name": "Python 3",
   "language": "python",
   "name": "python3"
  },
  "language_info": {
   "codemirror_mode": {
    "name": "ipython",
    "version": 3
   },
   "file_extension": ".py",
   "mimetype": "text/x-python",
   "name": "python",
   "nbconvert_exporter": "python",
   "pygments_lexer": "ipython3",
   "version": "3.6.8"
  }
 },
 "nbformat": 4,
 "nbformat_minor": 2
}
