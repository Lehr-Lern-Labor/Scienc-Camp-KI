{
 "cells": [
  {
   "cell_type": "markdown",
   "metadata": {},
   "source": [
    "# Neuronale Netze\n",
    "\n",
    "Neuronale Netze bestehen aus <b>Schichten</b> (engl. <b>layer</b>) von Neuronen. Ein Neuron ist nicht mit einem Neuron der gleichen Schicht verbunden, sondern mit bestimmten Neuronen der Vorgänger- und Nachfolgerschicht (falls vorhanden). Die erste Schicht bezeichnet man als <b>Eingabeschicht</b> (engl. <b>input layer</b>). Die Eingabeschicht muss genauso viele „Eingänge” haben, wie die Größe der Daten, die das neuronale Netz klassifizieren soll (z.B. muss ein neuronales Netz 784 Eingänge haben, wenn es 28 mal 28 Pixel große Schwarzweißbilder zu klassifizieren hat). Die letzte Schicht bezeichnet man als <b>Ausgabeschicht</b> (engl. <b>output layer</b>). Die Anzahl der Neuronen in der Ausgabeschicht muss mit der Anzahl der zu klassifiziereden Klassen übereinstimmen. Die Ausgabe eines Neuron $i$ in der Ausgabeschicht entspricht typischerweise einer Prozentangabe, die die Wahrscheinlichkeit angibt, dass der eingegebene Datenpunkt der Klasse $i$ angehört. Die Schichten zwischen der Ein- und Ausgabeschicht bezeichnet man als <b>versteckte Schichten</b> (engl. <b>hidden layers</b>). Wenn ein neuronales Netz viele versteckte Schichten hat, bezeichnet man als es <b>tiefes neuronales Netz</b> (engl. <b>deep neural network</b>).\n",
    "\n",
    "&nbsp;\n",
    "\n",
    "\n",
    " <figure>\n",
    "  <img src=\"img/deep_neural_network.webp\" alt=\"Deep Neural Network\" style=\"width:45%\">\n",
    "  <figcaption></figcaption>\n",
    "</figure> \n",
    "\n",
    "&nbsp;\n",
    "\n",
    "In der gezeigten Darstellung findet die Verarbeitung der „Signale“ in den Kreisen statt. Hier werden die gewichteten Eingaben zu einer Summe addiert, um anschließend die Summe in eine Aktivierungsfunktion einzusetzen. Du kennst bereits vom Perzeptron die Treppenfunktion als Aktivierungsfunktion. In neuronalen Netzen werden andere Aktivierungsfunktionen benutzt. Drei wichtige Aktivierungsfunktionen sind die Sigmoid-Funktion, die Tangens-hyberbolicus-Funktion und der insbesondere die <b>ReLu-Funktion</b>. \n",
    "\n",
    "&nbsp;\n",
    "\n",
    "\n",
    " <figure>\n",
    "  <img src=\"img/activation.webp\" alt=\"Aktivierungsfunktionen\" style=\"width:65%\">\n",
    "  <figcaption></figcaption>\n",
    "</figure> \n",
    "\n",
    "&nbsp;\n",
    "\n",
    "____\n",
    "\n",
    "\n",
    "<i class=\"fa fa-laptop\" style=\"font-size:38px\"></i>\n",
    "\n",
    "<i>Setze die ReLu-Funktion in Code um.</i>"
   ]
  },
  {
   "cell_type": "code",
   "execution_count": 1,
   "metadata": {},
   "outputs": [],
   "source": [
    "def relu(x):\n",
    "    if x > 0:\n",
    "        return x\n",
    "    else:\n",
    "        return 0"
   ]
  },
  {
   "cell_type": "markdown",
   "metadata": {},
   "source": [
    "An den Verbindungen zwischen den Schichten werden die Gewichte geschrieben, mit denen die jeweilige Ausgabe eines Neurons multipliziert wird, um anschließend als Eingabe für das andere Neuron zu dienen. Wenn wir davon sprechen, dass wir ein neuronale Netz trainieren, dann machen wir nichts anderes, als die Gewichte an unsere Daten anzupassen. Nur diese Gewichte ändern sich die im Laufe des Trainings; alles andere bleibt gleich.\n",
    "\n",
    "&nbsp;\n",
    "\n",
    "\n",
    " <figure>\n",
    "  <img src=\"img/weights.webp\" alt=\"weights\" style=\"width:30%\">\n",
    "  <figcaption></figcaption>\n",
    "</figure> \n",
    "\n",
    "&nbsp;\n",
    "\n",
    "Diese Gewichte müssen irgendwie gespeichert werden. Dafür verwendet man Tensoren, die im nächsten Abschnitt vorgestellt werden."
   ]
  },
  {
   "cell_type": "code",
   "execution_count": 2,
   "metadata": {},
   "outputs": [
    {
     "name": "stderr",
     "output_type": "stream",
     "text": [
      "In /home/mp/anaconda3/envs/acl/lib/python3.6/site-packages/matplotlib/mpl-data/stylelib/_classic_test.mplstyle: \n",
      "The text.latex.preview rcparam was deprecated in Matplotlib 3.3 and will be removed two minor releases later.\n",
      "In /home/mp/anaconda3/envs/acl/lib/python3.6/site-packages/matplotlib/mpl-data/stylelib/_classic_test.mplstyle: \n",
      "The mathtext.fallback_to_cm rcparam was deprecated in Matplotlib 3.3 and will be removed two minor releases later.\n",
      "In /home/mp/anaconda3/envs/acl/lib/python3.6/site-packages/matplotlib/mpl-data/stylelib/_classic_test.mplstyle: Support for setting the 'mathtext.fallback_to_cm' rcParam is deprecated since 3.3 and will be removed two minor releases later; use 'mathtext.fallback : 'cm' instead.\n",
      "In /home/mp/anaconda3/envs/acl/lib/python3.6/site-packages/matplotlib/mpl-data/stylelib/_classic_test.mplstyle: \n",
      "The validate_bool_maybe_none function was deprecated in Matplotlib 3.3 and will be removed two minor releases later.\n",
      "In /home/mp/anaconda3/envs/acl/lib/python3.6/site-packages/matplotlib/mpl-data/stylelib/_classic_test.mplstyle: \n",
      "The savefig.jpeg_quality rcparam was deprecated in Matplotlib 3.3 and will be removed two minor releases later.\n",
      "In /home/mp/anaconda3/envs/acl/lib/python3.6/site-packages/matplotlib/mpl-data/stylelib/_classic_test.mplstyle: \n",
      "The keymap.all_axes rcparam was deprecated in Matplotlib 3.3 and will be removed two minor releases later.\n",
      "In /home/mp/anaconda3/envs/acl/lib/python3.6/site-packages/matplotlib/mpl-data/stylelib/_classic_test.mplstyle: \n",
      "The animation.avconv_path rcparam was deprecated in Matplotlib 3.3 and will be removed two minor releases later.\n",
      "In /home/mp/anaconda3/envs/acl/lib/python3.6/site-packages/matplotlib/mpl-data/stylelib/_classic_test.mplstyle: \n",
      "The animation.avconv_args rcparam was deprecated in Matplotlib 3.3 and will be removed two minor releases later.\n"
     ]
    }
   ],
   "source": [
    "# Führe dieses Codefeld aus, um die notwendigen Bibliotheken zu importieren.\n",
    "\n",
    "import numpy as np\n",
    "import torch\n",
    "import matplotlib.pyplot as plt\n",
    "from copy import deepcopy"
   ]
  },
  {
   "cell_type": "markdown",
   "metadata": {},
   "source": [
    "## Tensoren\n",
    "\n",
    "Möchtest du gleich mehrere Zahlen in einem Objekt speichern, kannst du dafür Matrizen / Arrays verwenden. Wir möchten die Gewichte zwischen jeder Schicht als Matrizen speichern.\n",
    "\n",
    "\n",
    " <figure>\n",
    "  <img src=\"img/matrix.png\" alt=\"matrix\" style=\"width:35%\">\n",
    "  <figcaption></figcaption>\n",
    "</figure> \n",
    "\n",
    "&nbsp;\n",
    "\n",
    "Du kennst bereits die Arrays aus der Bibliothek <i>numpy</i>. Die Arrays von <i>torch</i> unterscheiden sich nur im Detail von den bereits bekannten Arrays und werden <b>Tensoren</b> genannt. Mache dich im folgenden Codefeld mit diesen vertraut."
   ]
  },
  {
   "cell_type": "code",
   "execution_count": 164,
   "metadata": {},
   "outputs": [
    {
     "name": "stdout",
     "output_type": "stream",
     "text": [
      "Form des Tensors:  torch.Size([4, 5])\n",
      "tensor([[0.7748, 0.1872, 0.6274, 0.0749, 0.3580]])\n",
      "tensor([0.7748, 0.1872, 0.6274, 0.0749, 0.3580])\n",
      "Eintrag=  tensor([1., 1., 1., 1., 1.])\n",
      "Zahl=  0.46636438369750977\n"
     ]
    }
   ],
   "source": [
    "# Erzeugt einen Tensor mit zufälligen 1 x 4 Einträgen.\n",
    "t1 = torch.rand(4)\n",
    "# Erzeugt einen Tensor mit zufälligen 2 x 3 Einträgen.\n",
    "t2 = torch.rand(2, 3)\n",
    "\n",
    "# Erzeugt einen Tensor mit 1 x 10 0-Einträgen.\n",
    "t3 = torch.zeros(10)\n",
    "# Erzeugt einen Tensor mit 4 x 5 1-Einträgen.\n",
    "t4 = torch.ones(4,5)\n",
    "\n",
    "# Mit folgendem Befehl kannst du dir die Größe / „Form“ des Tensors ausgeben lassen.\n",
    "print(\"Form des Tensors: \", t4.shape)\n",
    "\n",
    "# Möchtest du eine Eintrag aus dem Tensor ausgeben lassen, kannst du den Tensor indizieren.\n",
    "eintrag = t4[0]\n",
    "\n",
    "# Mit [:a] und [a:] kannst du dir nur einen Teil des Tensors ausgeben lassen.\n",
    "t2[:2]\n",
    "t2[2:]\n",
    "\n",
    "# Mit folgendem Befehl kannst du eine Zahl aus einem Tensor ausgeben lassen.\n",
    "zahl = t2[0][0].item()\n",
    "\n",
    "# Mit folgendem Befehl kannst du den Tensor in eine andere Form umformen.\n",
    "t5 = t4\n",
    "t5.reshape(20,)\n",
    "\n",
    "# Mit folgendem Befehl kannst du zwei Tensoren miteinander verbinden.\n",
    "torch.cat((torch.rand(2,2), torch.rand(2,2)), 0)\n",
    "\n",
    "# Mit folgendem Befehl kannst du alle Einträgt aufsummieren.\n",
    "sum(t5)\n",
    "\n",
    "# ein weiterer nützlicher Befehl:\n",
    "t6 = torch.rand(1,5)\n",
    "print(t6)\n",
    "t6 = t6.squeeze(0)\n",
    "print(t6)\n",
    "\n",
    "print(\"Eintrag= \", eintrag)\n",
    "print(\"Zahl= \", zahl)"
   ]
  },
  {
   "cell_type": "markdown",
   "metadata": {},
   "source": [
    "____\n",
    "\n",
    "\n",
    "<img style=\"float: left;\" src=\"img/laptop_icon.png\" width=50 height=50 /> <br><br>\n",
    "\n",
    "<i>Vervollständige das Codefeld, indem du den Anweisungen folgst.</i>"
   ]
  },
  {
   "cell_type": "code",
   "execution_count": 25,
   "metadata": {},
   "outputs": [
    {
     "name": "stdout",
     "output_type": "stream",
     "text": [
      "tensor([[0.0562, 0.0321],\n",
      "        [0.4173, 0.0675]])\n",
      "tensor([[0.0982, 0.8530],\n",
      "        [0.1315, 0.7529]])\n",
      "tensor([[0.0055, 0.0274],\n",
      "        [0.0549, 0.0508]])\n",
      "tensor([2.0562, 2.0321, 2.4173, 2.0675, 2.0982, 2.8530, 2.1315, 2.7529])\n",
      "torch.Size([6])\n",
      "t= tensor([ 2,  3,  7,  1,  8, 10])\n",
      "t4= tensor([2.0562, 2.0321, 2.4173, 2.0675, 2.0982, 2.8530])\n",
      "tensor(17.4756)\n",
      "tensor(17.4756)\n"
     ]
    }
   ],
   "source": [
    "t = torch.tensor([[2, 3, 7], [1, 8, 10]])\n",
    "\n",
    "# Gebe die Form des Tensors t aus.\n",
    "t.shape\n",
    "\n",
    "# Gebe den ersten Eintrag der ersten Zeile aus.\n",
    "t[0][0]\n",
    "\n",
    "# Gebe den zweiten Eintrag der zweiten Zeile als Integer-Zahl aus.\n",
    "t[0][0].item()\n",
    "\n",
    "# Erzeuge einen Tensor, der Form 1 x 5 und nur aus 2en als Einträge hat.\n",
    "2 * torch.ones(5,)\n",
    "\n",
    "# Erzeuge zwei zufällige Tensoren der Form 2 x 2 und multipliziere die entsprechenden Einträge miteinander. \n",
    "t1 = torch.rand(2,2)\n",
    "t2 = torch.rand(2,2)\n",
    "t3 = t1 * t2\n",
    "print(t1)\n",
    "print(t2)\n",
    "print(t3)\n",
    "\n",
    "# Verbinde deine zwei erzeugten Tensoren zu einem Tensor.\n",
    "t4 = torch.cat((t1, t2), 0)\n",
    "\n",
    "# Forme den neuen Tensor in die Form mit 1 x 8 Einträgen um und addiere zu jedem Wert 2 dazu.\n",
    "t4 = t4.reshape(8,) + 2 * torch.ones(8)\n",
    "print(t4)\n",
    "\n",
    "# Lösche die letzen beiden Einträge des letzen Tensors. \n",
    "t4 = t4[:6]\n",
    "print(t4.shape)\n",
    "\n",
    "# Forme den Tensor t in die Form mit 1 x 6 Einträgen um\n",
    "t = t.reshape(6,)\n",
    "\n",
    "# Berechne die Differenz der jeweiligen Einträge des aktuellen Tensors und t und summiere sie auf.\n",
    "print(\"t=\", t)\n",
    "print(\"t4=\", t4)\n",
    "differenz = sum(t) - sum(t4)\n",
    "print(differenz)\n",
    "\n",
    "differenz1 = sum(t-t4)\n",
    "print(differenz1)"
   ]
  },
  {
   "cell_type": "markdown",
   "metadata": {},
   "source": [
    "## Daten erzeugen\n",
    "\n",
    "Um neuronale Netze trainieren zu können, benötigen wir <b>gelabelte</b> Daten. Die gelabelten Daten mit denen die Gewichte angepasst werden, werden <b>Trainigsdaten</b> genannt. Um die Performance des neuronalen Netzes zu beurteilen, benötigen wir gelabelte Daten, auf denen das neuronale Netz <i>nicht</i> trainiert. Diese Daten werden <b>Testdaten</b> genannt. \n",
    "____\n",
    "\n",
    "\n",
    "<img style=\"float: left;\" src=\"img/laptop_icon.png\" width=50 height=50 /> <br><br>\n",
    "\n",
    "<i>Erzeuge 100 gelabelte Datenpunkte für den Trainingsdatensatz und 20 für den Testdatensatz im Intervall $0$ bis $1$. Die Punkte gehören entweder der Klasse $0$ oder $1$ an. Die beiden Klassen sollen dabei nicht durch eine Gerade getrennt werden können. Du kannst z.B. die Funktion $f(x)=x^2$ als Trennline der beiden Klassen verwenden</i>"
   ]
  },
  {
   "cell_type": "code",
   "execution_count": 27,
   "metadata": {},
   "outputs": [
    {
     "data": {
      "image/png": "[encoded data removed]",
      "text/plain": [
       "<Figure size 432x288 with 1 Axes>"
      ]
     },
     "metadata": {
      "needs_background": "light"
     },
     "output_type": "display_data"
    }
   ],
   "source": [
    "import random\n",
    "\n",
    "train_data1 = torch.tensor([])\n",
    "train_labels1 = torch.tensor([])\n",
    "for i in range(100):\n",
    "    x1 = random.uniform(0,1)\n",
    "    x2 = random.uniform(0,1)\n",
    "    train_data1 = torch.cat( (train_data1, torch.tensor([[x1, x2]])))\n",
    "    \n",
    "    if x2 >= x1 * x1:\n",
    "        train_labels1 = torch.cat( (train_labels1, torch.tensor([1.0]) ))\n",
    "    else:\n",
    "        train_labels1 = torch.cat((train_labels1, torch.tensor([0.0])  ))\n",
    "        \n",
    "for i in range(train_labels1.shape[0]):\n",
    "    if train_labels1[i].item() == 0:\n",
    "        plt.scatter(train_data1[i][0].item(), train_data1[i][1].item(), color=\"blue\")\n",
    "    else:\n",
    "        plt.scatter(train_data1[i][0].item(), train_data1[i][1].item(), color=\"red\")"
   ]
  },
  {
   "cell_type": "markdown",
   "metadata": {},
   "source": [
    "____\n",
    "\n",
    "\n",
    "<img style=\"float: left;\" src=\"img/laptop_icon.png\" width=50 height=50 /> <br><br>\n",
    "\n",
    "<i>Erzeuge nun einen Trainigs- und Testdatensatz für 4 Klassen.</i>"
   ]
  },
  {
   "cell_type": "code",
   "execution_count": 199,
   "metadata": {},
   "outputs": [],
   "source": [
    "# Füge hier deinen Code ein."
   ]
  },
  {
   "cell_type": "markdown",
   "metadata": {},
   "source": [
    "## Neuronale Netze\n",
    "\n",
    "In diesem Abschnitt lernst du, wie du mithilfe der Bibliothek <i>PyTorch</i> neuronale Netze sehr einfach erstellen und trainieren kannst."
   ]
  },
  {
   "cell_type": "code",
   "execution_count": 42,
   "metadata": {},
   "outputs": [
    {
     "name": "stdout",
     "output_type": "stream",
     "text": [
      "ReLU-Input= tensor([ 1., -2.,  3., -4.])\n",
      "ReLU-Output= tensor([1., 0., 3., 0.])\n",
      "Softmax-Input= tensor([0.4000, 0.1500, 3.8000, 2.3000])\n",
      "Softmax-Output= tensor([0.0260, 0.0203, 0.7797, 0.1740])\n"
     ]
    },
    {
     "name": "stderr",
     "output_type": "stream",
     "text": [
      "/home/mp/anaconda3/envs/acl/lib/python3.6/site-packages/ipykernel_launcher.py:16: UserWarning: Implicit dimension choice for softmax has been deprecated. Change the call to include dim=X as an argument.\n",
      "  app.launch_new_instance()\n"
     ]
    }
   ],
   "source": [
    "# Erzeugt eine Schicht mit drei Inputs und drei Outputs.\n",
    "layer1 = torch.nn.Linear(3,3)\n",
    "gewichte_layer1 = layer1.weight\n",
    "bias_layer1 = layer1.bias\n",
    "\n",
    "# Aktivierungsfunktion ReLU\n",
    "relu = torch.nn.ReLU()\n",
    "input = torch.tensor([1.0, -2.0, 3.0, -4.0])\n",
    "output = relu(input)\n",
    "print(\"ReLU-Input=\", input)\n",
    "print(\"ReLU-Output=\", output)\n",
    "\n",
    "# SoftMax\n",
    "softmax = torch.nn.Softmax()\n",
    "input = torch.tensor([0.4, 0.15, 3.8, 2.3])\n",
    "output = softmax(input)\n",
    "print(\"Softmax-Input=\", input)\n",
    "print(\"Softmax-Output=\", output)"
   ]
  },
  {
   "cell_type": "markdown",
   "metadata": {},
   "source": [
    "Wir möchten nun folgendes neuronale Netz mithilfe von <i>PyTorch</i> realisieren. Die Biase werden aus Gründen der Übersicht bei Abbildungen oft weggelassen.\n",
    " \n",
    "&nbsp;\n",
    "\n",
    " <figure>\n",
    "  <img src=\"img/neuronales_Netz.png\" alt=\"matrix\" style=\"width:75%\">\n",
    "  <figcaption></figcaption>\n",
    "</figure> \n",
    "\n",
    "&nbsp;"
   ]
  },
  {
   "cell_type": "code",
   "execution_count": 41,
   "metadata": {},
   "outputs": [],
   "source": [
    " class Net(torch.nn.Module):\n",
    "\n",
    "    def __init__(self, num_in, num_out):\n",
    "        super(Net, self).__init__()\n",
    "        pass\n",
    "            \n",
    "    def forward(self, x):    \n",
    "        pass\n",
    "    \n",
    "    def train_model(self, dataloader, lr):\n",
    "        # Der Optimizer verwaltet die Lernrate\n",
    "        optimizer = torch.optim.Adam(self.parameters(), lr=lr)\n",
    "        \n",
    "        for data, label in dataloader:\n",
    "            \n",
    "            # Hier wird die sogenannte Loss-Funktion definiert. \n",
    "            # Dabei berechnet diese Funktion, wie weit das Netz vom gewünschten Output entfernt ist.\n",
    "            # Es gibt für den Loss Möglichkeiten. \n",
    "            # Die Cross-Entropy-Loss-Funktion ist eine der beliebtesten Funktionen.\n",
    "            loss_fn = torch.nn.CrossEntropyLoss()\n",
    "\n",
    "            # Bei jedem Training muss dieser Befehl aufgerufen werden.\n",
    "            # Dieser Aufruf „erlaubt” es die Gradienten der Gewichte zu berechnen,\n",
    "            # so dass diese mit dem Backpropagation-Algorithmus angepasst werden können.\n",
    "            self.train(True)\n",
    "\n",
    "            # Der Optimizer löscht die berechteten Gradienten aus dem letzen Durchlauf.\n",
    "            optimizer.zero_grad()\n",
    "\n",
    "            # Die Daten werden durch das neuronale Netz propagiert und \n",
    "            # die jeweiligen Outputs werden gespeichert. \n",
    "            outputs = self(data)\n",
    "            \n",
    "            # Hier wird der Loss berechnet.\n",
    "            loss = loss_fn(outputs, label)\n",
    "\n",
    "            # Hier werden die Gradienten berechnet.\n",
    "            loss.backward()\n",
    "\n",
    "            # Der Optimizer updatet die Gewichte.\n",
    "            optimizer.step()\n",
    "        \n",
    "    def test(self, test_data, test_labels):\n",
    "        self.train(False)\n",
    "        loss_fn = torch.nn.CrossEntropyLoss()\n",
    "        outputs = self(test_data)\n",
    "        loss = loss_fn(outputs, test_labels)\n",
    "        return loss"
   ]
  },
  {
   "cell_type": "markdown",
   "metadata": {},
   "source": [
    "____\n",
    "\n",
    "\n",
    "<img style=\"float: left;\" src=\"img/laptop_icon.png\" width=50 height=50 /> <br><br>\n",
    "\n",
    "<i>Implementiere eine Funktion, die die Genauigkeit des neuronalen Netzes auf den gegebenen Daten auswertet.</i>"
   ]
  },
  {
   "cell_type": "code",
   "execution_count": null,
   "metadata": {},
   "outputs": [],
   "source": [
    "# Füge hier deinen Code ein."
   ]
  },
  {
   "cell_type": "markdown",
   "metadata": {},
   "source": [
    "____\n",
    "\n",
    "\n",
    "<img style=\"float: left;\" src=\"img/laptop_icon.png\" width=50 height=50 /> <br><br>\n",
    "\n",
    "<i>Implementiere eine Methode für den ganzen Trainingsablauf. Als Parameter werden der Traingsdatensatz mit den Labels, der Testdatensatz mit den Labels, die Lernrate und die Anzahl der Epochen übergeben.</i>"
   ]
  },
  {
   "cell_type": "code",
   "execution_count": null,
   "metadata": {},
   "outputs": [],
   "source": [
    "# Füge hier deinen Code ein."
   ]
  },
  {
   "cell_type": "markdown",
   "metadata": {},
   "source": [
    "____\n",
    "\n",
    "\n",
    "<img style=\"float: left;\" src=\"img/laptop_icon.png\" width=50 height=50 /> <br><br>\n",
    "\n",
    "<i>Berechne nach jeder Epoche den gesamten Fehler und die Genauigkeit auf den Daten und zeichne die Punkte in einem Koordinatensystem mithilfe von PyPlot ein.</i>"
   ]
  },
  {
   "cell_type": "markdown",
   "metadata": {},
   "source": [
    "## Underfitting und Overfitting\n",
    "\n",
    "Trainierst du dein neuronales Netz zu wenig, so wird es deine Daten nicht gut klassifizieren können. Dieses Phänomen bezeichnet man als <b>Underfitting</b>. Trainierst du dein neuronales Netz zu lange, so lernt es die Trainingsdaten auswendig und die Performance auf unbekannten Daten, also auf den Testdaten, sinkt. Das bezeichnet man als <b>Overfitting</b>. Du musst also eine gute Balance zwischen zu wenig und zu viel Training finden. Dafür kannst du dich dafür am Loss auf den Testdaten orientieren.\n",
    "\n",
    "&nbsp;\n",
    "\n",
    " <figure>\n",
    "  <img src=\"img/overfitting.png\" alt=\"Overfitting\" style=\"width:40%\">\n",
    "  <figcaption></figcaption>\n",
    "</figure> \n",
    "\n",
    "&nbsp;\n",
    "____\n",
    "\n",
    "\n",
    "<img style=\"float: left;\" src=\"img/laptop_icon.png\" width=50 height=50 /> <br><br>\n",
    "\n",
    "<i>Um Overfitting zu vermeiden, kannst du das aktuell beste Model immer speichern. Speichere also oben in deinem Trainingsablauf immer das beste Modell ab.</i>\n",
    "\n"
   ]
  }
 ],
 "metadata": {
  "@webio": {
   "lastCommId": null,
   "lastKernelId": null
  },
  "kernelspec": {
   "display_name": "Python 3",
   "language": "python",
   "name": "python3"
  },
  "language_info": {
   "codemirror_mode": {
    "name": "ipython",
    "version": 3
   },
   "file_extension": ".py",
   "mimetype": "text/x-python",
   "name": "python",
   "nbconvert_exporter": "python",
   "pygments_lexer": "ipython3",
   "version": "3.6.12"
  }
 },
 "nbformat": 4,
 "nbformat_minor": 2
}
