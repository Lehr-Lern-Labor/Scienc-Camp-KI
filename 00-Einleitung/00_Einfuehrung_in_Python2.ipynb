{
 "cells": [
  {
   "cell_type": "markdown",
   "metadata": {},
   "source": [
    "<img style=\"float: right;\" src=\"resources/img/lll_logo.png\" width=160 height=160 />\n",
    " \n",
    "# Einführung in Python \n",
    "\n",
    "Dieses Übungsblatt ist eine kurze Einführung in Python und bietet dir eine Übersicht über die wichtigsten Punkte, die du für den KI-Workshop benötigst. <br>\n",
    "Das Übungsblatt ist ein Jupyter Notebook. Es besteht aus Felder, die Text beinhalten und nicht ausführbar sind, und aus Felder in denen ausführbarer Code geschrieben ist. <br><br>\n",
    "\n",
    "<img style=\"float: left;\" src=\"resources/img/laptop_icon.png\" width=50 height=50 /> <br><br>\n",
    "<i>Führe das untere Feld aus, indem du das Feld per Klick auswählst und entweder oben in der Leiste auf <b><i>Run</i></b> klickst oder <b><i>Str</i></b> gedrückt hälst und auf <b><i>Enter</i></b> drückst.</i>\n"
   ]
  },
  {
   "cell_type": "code",
   "execution_count": null,
   "metadata": {
    "scrolled": true
   },
   "outputs": [],
   "source": [
    "# Das ist ein ausführbares Feld.\n",
    "# Zeilen, die mit dem Symbol # beginnen, werden vom Compiler ignoriert. \n",
    "# Du kannst # also dafür nutzen, um Kommentare zu schreiben.\n",
    "\n",
    "print(\"Herzlich Willkommen im Lehr-Lern-Labor Informatik am KIT!\")"
   ]
  },
  {
   "cell_type": "markdown",
   "metadata": {},
   "source": [
    "## Einrückungen\n",
    "\n",
    "Im Gegensatz zu solchen Programmiersprachen wie <i>C</i> oder <i>Java</i> werden in Python keine geschweiften Klammern verwendet, um das Programm zu strukturieren. Die ganze Strukturierung von Klassen, Anweisungen oder Funktionen basiert auf Einrückungen. Wenn du eine Anweisung schreibst und eine Einrückung vergisst, kann sich dein Programm anders verhalten, wie von dir gewollt. Achte also im Folgenden besonders darauf, welcher Code eingerückt werden muss.\n",
    "\n",
    "## Wichtige Datentypen\n",
    "\n",
    "Aus dem Informatikunterricht kennst du vielleicht schon verschiedene Datentypen: <i>integer, double, string</i>, usw. <br> Bei vielen Programmiersprachen musst du bei der Deklaration einer Variablen angeben, um welchen Datentypen es sich handelt. <br>In Python ist das nicht erforderlich, da der Compiler selbst bei der Ausführung entscheidet, welcher Datentyp für eine Variable am sinnvollsten ist. <br><br>\n",
    "\n",
    "<img style=\"float: left;\" src=\"resources/img/laptop_icon.png\" width=50 height=50 /> <br><br>\n",
    "<i>Ergänze passend die fehlenden Variablen, sodass die Ausgabe fehlerfrei ist. <br>\n",
    "(Hinweis: Boolsche Werte nehmen in Python entweder den Wert <i>True</i> oder <i>False</i> an.)</i>"
   ]
  },
  {
   "cell_type": "code",
   "execution_count": null,
   "metadata": {
    "scrolled": true
   },
   "outputs": [],
   "source": [
    "steckbrief = \"Steckbrief:\\n\"\n",
    "\n",
    "\n",
    "print(steckbrief, \"Name: \", name, \"\\n\", \"männlich:\", maennlich, \n",
    "      \"\\n\", \"Alter: \", alter, \"\\n\", \"Größe (in m): \", groesse)"
   ]
  },
  {
   "cell_type": "markdown",
   "metadata": {},
   "source": [
    "<img style=\"float: left;\" src=\"resources/img/laptop_icon.png\" width=50 height=50 /> <br><br>\n",
    "<i>Bearbeite die folgenden beiden Felder, um den Umgang mit elementaren Datentypen in Python zu üben.</i>"
   ]
  },
  {
   "cell_type": "code",
   "execution_count": null,
   "metadata": {
    "scrolled": true
   },
   "outputs": [],
   "source": [
    "from resources.code.help_functions import pruefe_eingabe\n",
    "\n",
    "# Ergänze unter jedem nachfolgenden Kommentar deinen Code.\n",
    "x = 9\n",
    "\n",
    "# Addiere zur Variable 'x' 6 dazu.\n",
    "\n",
    "\n",
    "# Multipliziere das Ergebnis mit 3. \n",
    "\n",
    "\n",
    "# Nehme das Ergebnis hoch 4 (Hochzeichen: **).\n",
    "\n",
    "\n",
    "# Teile das Ergebnis durch 91125.\n",
    "\n",
    "\n",
    "# Subtrahiere 3 vom Ergebnis.\n",
    "\n",
    "\n",
    "pruefe_eingabe(x)"
   ]
  },
  {
   "cell_type": "code",
   "execution_count": 1,
   "metadata": {
    "scrolled": true
   },
   "outputs": [
    {
     "ename": "NameError",
     "evalue": "name 'begruessung' is not defined",
     "output_type": "error",
     "traceback": [
      "\u001b[0;31m---------------------------------------------------------------------------\u001b[0m",
      "\u001b[0;31mNameError\u001b[0m                                 Traceback (most recent call last)",
      "\u001b[0;32m<ipython-input-1-a95c2d45db34>\u001b[0m in \u001b[0;36m<module>\u001b[0;34m\u001b[0m\n\u001b[1;32m      7\u001b[0m \u001b[0;34m\u001b[0m\u001b[0m\n\u001b[1;32m      8\u001b[0m \u001b[0;34m\u001b[0m\u001b[0m\n\u001b[0;32m----> 9\u001b[0;31m \u001b[0mprint\u001b[0m\u001b[0;34m(\u001b[0m\u001b[0;34m\"Konkatierter String: \"\u001b[0m\u001b[0;34m,\u001b[0m \u001b[0mbegruessung\u001b[0m\u001b[0;34m)\u001b[0m\u001b[0;34m\u001b[0m\u001b[0;34m\u001b[0m\u001b[0m\n\u001b[0m\u001b[1;32m     10\u001b[0m \u001b[0;34m\u001b[0m\u001b[0m\n\u001b[1;32m     11\u001b[0m \u001b[0;31m# Gebe den dritten und siebten Buchstaben der Variable 'begruessung' aus und überprüfe dein Ergebnis selbst.\u001b[0m\u001b[0;34m\u001b[0m\u001b[0;34m\u001b[0m\u001b[0;34m\u001b[0m\u001b[0m\n",
      "\u001b[0;31mNameError\u001b[0m: name 'begruessung' is not defined"
     ]
    }
   ],
   "source": [
    "begruessung1 = 'hi'\n",
    "begruessung2 = 'hallo'\n",
    "begruessung3 = 'hey'\n",
    "\n",
    "# Konkateniere alle Begrüßungen indem du die oberen String jeweils durch ein '+' verbindest\n",
    "# und das Ergebnis mit der Variable 'begruessung' gleichsetzt.\n",
    "\n",
    "\n",
    "print(\"Konkatierter String: \", begruessung)\n",
    "\n",
    "# Gebe den dritten und siebten Buchstaben der Variable 'begruessung' aus und überprüfe dein Ergebnis selbst. \n",
    "# Möchtest du den i-ten Buchstaben eines Strings str ausgeben lassen, schreibst du einfach str[i].\n",
    "# (Beachte, dass Informatiker von 0 anfangen zu zählen!)\n",
    "\n",
    "\n",
    "# Du kannst nicht nur einzelne Buchstaben eines Strings ausgeben lassen, sondern bestimmte Bereiche.\n",
    "# Möchtest du von einem String str z.B. den Bereich vom fünften bis ausschließlich zum achten String ausgeben \n",
    "# lassen, machst du das durch str[5:8]. \n",
    "# Möchtest du den Bereich von Anfang bis ausschließlich dem vierten Buchstaben erhalten, \n",
    "# schreibst du str[0:4] oder str[:4]. \n",
    "# Analog schreibst du str[4:], wenn du den Bereich vom vierten bis zum letzten Buchstaben\n",
    "# erhalten möchtest.\n",
    "\n",
    "# Benutze deine vorher definierte Variable 'begruessung', um hi, hallo und hey mithilfe von [] ausgeben zu lassen.\n"
   ]
  },
  {
   "cell_type": "markdown",
   "metadata": {},
   "source": [
    "## Kontrollstrukturen\n",
    "\n",
    "Möchtest du in Python den Ablauf deines Programms steuern, verwendest du Kontrollstrukturen, wie in den Programmiersprachen, die du bereits kennst. Nur die Syntax unterscheidet sich etwas. Im Folgenden findest du immer ein Beispiel von einer Kontrollstruktur in einem ausführbaren Feld gefolgt von einer Aufgabe, bei der du das Gezeigte direkt anwenden sollst. \n",
    "\n",
    "### if-else-Anweisung"
   ]
  },
  {
   "cell_type": "code",
   "execution_count": null,
   "metadata": {
    "scrolled": true
   },
   "outputs": [],
   "source": [
    "# Führe das folgende Feld aus. \n",
    "# Beobachte, was passiert, wenn du die Wert änderst.\n",
    "\n",
    "bedingung = True\n",
    "\n",
    "# Klammern sind bei einer if-else-Anweisung um die Bedingung optional.\n",
    "if bedingung:\n",
    "    print(\"Die Bedingung ist erfült.\")\n",
    "else:\n",
    "    print(\"Die Bedingung ist nicht erfüllt.\")\n",
    "    \n",
    "x = 5\n",
    "\n",
    "if (x < 0):\n",
    "    print(\"Die Zahl ist kleiner 0.\")\n",
    "elif (0 <= x <= 3):\n",
    "    print(\"Die Zahl liegt zwischen 0 und 3.\")\n",
    "else:\n",
    "    print(\"Die Zahl ist größer als 5.\")\n",
    "    \n",
    "name1 = 'Angela'\n",
    "name2 = 'Olaf'\n",
    "\n",
    "# Eine elif- oder else-Anweisung muss nicht zwingend nach einer if-Anweisung folgen.\n",
    "if name1 == 'Angela':\n",
    "    print(\"Hallo Angela!\")\n",
    "    \n",
    "if name1 != name2:\n",
    "    print(\"{} und {} sind zwei unterschiedliche Namen.\".format(name1, name2))"
   ]
  },
  {
   "cell_type": "markdown",
   "metadata": {},
   "source": [
    "<img style=\"float: left;\" src=\"resources/img/laptop_icon.png\" width=50 height=50 /> <br><br>\n",
    "<i>Realisiere folgenden Sachverhalt:</i> <br>\n",
    "\n",
    "<i>Wenn der eingeloggte Benutzer Jana ist, dann soll sie zunächst begrüßt werden. Wenn sie das Passwort richtig eingeben hat (verwende für das Passwort eine boolsche Variable), dann soll ihr aktueller Punktestand von 2241 Punkten ausgegeben werden. Wenn sie das Passwort falsch eingegeben hat, dann soll das ausgegeben werden. Wenn der eingeloggte Benutzer Ramon ist, dann ist der Ablauf analog zum oberen Fall, wobei sein aktueller Punktestand 2110 beträgt. Wenn der eingeloggte Benutzer weder Jana noch Ramon ist, dann soll ausgegeben werden, dass der Nutzername nicht bekannt ist. "
   ]
  },
  {
   "cell_type": "code",
   "execution_count": null,
   "metadata": {
    "scrolled": true
   },
   "outputs": [],
   "source": [
    "# Füge hier deinen Code ein.\n",
    "        "
   ]
  },
  {
   "cell_type": "markdown",
   "metadata": {},
   "source": [
    "### while-Schleife\n",
    "Der Code in der while-Schleife wird solange ausgeführt, bis die Bedingung der while-Schleife nicht mehr erfüllt ist. Wenn die Bedingung nie auf <i>falsch</i> gesetzt wird, dann wird die while-Schleife unendlich oft ausgeführt und dein Programm wird nie regulär beendet. "
   ]
  },
  {
   "cell_type": "code",
   "execution_count": null,
   "metadata": {
    "scrolled": true
   },
   "outputs": [],
   "source": [
    "i = 0\n",
    "while i < 5:\n",
    "    print(\"i=\", i)\n",
    "    i += 1"
   ]
  },
  {
   "cell_type": "markdown",
   "metadata": {},
   "source": [
    "<img style=\"float: left;\" src=\"resources/img/laptop_icon.png\" width=50 height=50 /> <br><br>\n",
    "<i>Berechne mithilfe der while-Schleife die Summe von 1 bis 10.</i>\n",
    "\n"
   ]
  },
  {
   "cell_type": "code",
   "execution_count": null,
   "metadata": {
    "scrolled": true
   },
   "outputs": [],
   "source": [
    "# Füge hier deinen Code ein"
   ]
  },
  {
   "cell_type": "markdown",
   "metadata": {},
   "source": [
    "### for-Schleife\n",
    "Möchtest du über einen Zahlenbereich (ganzer Zahlen), ein String oder allgemein über ein iterierbares Objekt iterieren, so eignet sich die for-Schleife dazu. "
   ]
  },
  {
   "cell_type": "code",
   "execution_count": null,
   "metadata": {
    "scrolled": true
   },
   "outputs": [],
   "source": [
    "# So iterierst du über den Zahlenbereich (ganzer Zahlen) von 0 bis aussschließlich 3.\n",
    "for i in range(3):\n",
    "    print(\"{}. Hallo\".format(i))\n",
    "    \n",
    "# So iterierst du über den Zahlenbereich (ganzer Zahlen) von 5 bis aussschließlich 10.\n",
    "for i in range(3,6):\n",
    "    print(\"{}. Hi\".format(i))\n",
    "    \n",
    "# So iterierst du über einen String.\n",
    "str = 'ABCDE'\n",
    "for s in str:\n",
    "    print(s)"
   ]
  },
  {
   "cell_type": "markdown",
   "metadata": {},
   "source": [
    "<img style=\"float: left;\" src=\"resources/img/laptop_icon.png\" width=50 height=50 /> <br><br>\n",
    "<i>Zähle mit Hilfe einer for-Schleife und einer if-Anweisung die Vorkommen des Bustaben 'a' im vorgegebenen Satz. Anschließend kannst du mit <i>satz.count('a')</i> überprüfen, ob du richtig liegst.</i>"
   ]
  },
  {
   "cell_type": "code",
   "execution_count": null,
   "metadata": {
    "scrolled": true
   },
   "outputs": [],
   "source": [
    "satz = \"Max wachst Wachsmasken. Was macht Max? Wachsmasken wachst Max.\"\n",
    "\n",
    "# Füge deinen Code hier ein"
   ]
  },
  {
   "cell_type": "markdown",
   "metadata": {},
   "source": [
    "## Sequentielle Datentypen\n",
    "\n",
    "Du hast mit dem Datentyp <i>String</i> bereits einen sequentiellen Datentyp in Python kennengelernt. Im Folgenden betrachten wir weitere sequentielle Datentypen.\n",
    "\n",
    "### Tupel\n",
    "\n",
    "In Tupeln kannst du mehrere Informationen speichern. Einmal definiert, können die Werte in einem Tupel nicht mehr verändert werden."
   ]
  },
  {
   "cell_type": "code",
   "execution_count": null,
   "metadata": {
    "scrolled": true
   },
   "outputs": [],
   "source": [
    "# Tupel definierst du mit Hilfe von runden Klammern ().\n",
    "sheldon = ('Sheldon', 'Cooper', '26.Februar 1980', 'Theoretischer Teilchenphysiker')\n",
    "leonard = ('Leonard', 'Leakey Hofstadter', '17.Mai 1980', 'Experimentalphysiker')\n",
    "amy = ('Amy', 'Farrah Fowler', '17. Dezember', 'Neurobiologin')\n",
    "\n",
    "\n",
    "# Mithilfe von eckigen Klammern greifst du auf die unterschiedlichen Einträge zu.\n",
    "print(f\"{amy[0]} {amy[1]} ist {amy[3]}.\")\n"
   ]
  },
  {
   "cell_type": "markdown",
   "metadata": {},
   "source": [
    "### Listen\n",
    "\n",
    "Du kannst mit Hilfe von Listen mehrere Inhalte speichern, so wie du das oben bei Tupeln gesehen hast. Allerdings kannst du im Gegensatz die Inhalte in Listen verändern, hinzufügen und löschen."
   ]
  },
  {
   "cell_type": "code",
   "execution_count": null,
   "metadata": {
    "scrolled": true
   },
   "outputs": [],
   "source": [
    "# Listen wird mit Hilfe von eckigen Klammern definiert.\n",
    "farben = [\"rot\", \"grün\", \"gelb\", \"blau\", \"lila\", \"pink\", \"orange\"]\n",
    "\n",
    "# So iterierst über eine Liste.\n",
    "for farbe in farben:\n",
    "    print(\"Farbe: \", farbe)\n",
    "    \n",
    "# Du kannst auch durch einen bestimmten Index i Elemente in der Liste ansprechen: name_der_liste[i].\n",
    "print(\"Die Farbe '{}' steht in der Liste an dritter Stelle.\".format(farben[2]))\n",
    "\n",
    "# Durch den Index -1 wird dir das letzte Element zurückgegeben, mit dem Index -2 das vorletzte, usw.\n",
    "print(\"'{}' ist das letzte und '{}' das vorletzte Elemente der Liste.\".format(farben[-1], farben[-2]))\n",
    "\n",
    "# Mit dem Befehl name_der_liste.pop() wird dir das zuletzt hinzugefügte Element zurückgegeben und entfernt.\n",
    "# Gibst du in der Klammer eine Zahl i an, so wird das i-te Element der Liste zurückgegeben und entfernt.\n",
    "print(\"Die Farbe '{}' wurde entfernt.\".format(farben.pop()))\n",
    "print(\"Die Farbe '{}' wurde entfernt.\".format(farben.pop(3)))\n",
    "\n",
    "# Wenn ein Element entfernt werden soll, verwendest du den Befehl name_der_liste.remove(inhalt). \n",
    "farben.remove('rot')\n",
    "\n",
    "# Mit dem Befehl name_der_liste.append() hängst du ein neues Element an die Liste.\n",
    "farben.append('türkis')\n",
    "# alternativ:\n",
    "farben = farben + ['burgund']\n",
    "\n",
    "# Du kannst sogar Listen an andere Listen anhängen. \n",
    "# Hiefür verwendest du den Befehl name_der_liste.extend(andere_Liste).\n",
    "farben2 = [\"beige\", \"magenta\", \"khaki\"]\n",
    "farben.extend(farben2)\n",
    " \n",
    "print(farben)\n",
    "\n",
    "# Eine Liste muss nicht zwingend Objekte vom gleichen Datentyp beinhalten.\n",
    "liste = [1.3, 'rot', 42, ['Lea', 'Frank', 'Ali']]\n"
   ]
  },
  {
   "cell_type": "markdown",
   "metadata": {},
   "source": [
    "<img style=\"float: left;\" src=\"resources/img/laptop_icon.png\" width=50 height=50 /> <br><br>\n",
    "<i>Eine Fibonacci-Zahl ist gleich der Summe ihrer beiden Vorgänger, wobei die erste Zahl gleich 0 und die zweite Zahl gleich 1 sind. In der Liste 'fibonacci' sind die ersten beiden Zahlen bereits abgespeichert. Führe diese Liste solange fort bis 15 Zahlen in dieser Liste sind und überprüfe dein Ergebnis.</i>"
   ]
  },
  {
   "cell_type": "code",
   "execution_count": null,
   "metadata": {
    "scrolled": true
   },
   "outputs": [],
   "source": [
    "from resources.code.help_functions import pruefe_fibonacci\n",
    "\n",
    "fibonacci = [0, 1]\n",
    "    \n",
    "pruefe_fibonacci(fibonacci)"
   ]
  },
  {
   "cell_type": "markdown",
   "metadata": {},
   "source": [
    "## Funktionen \n",
    "\n",
    "Um u.a. nicht jedes Mal bestimmten Code aufs Neue schreiben zu müssen, definiert man in Python (sowie in allen anderen Programmiersprachen) Funktionen. Diese können an den passenden Stellen aufgerufen werden, sodass der Code übersichtlich bleibt. <br><br>\n",
    "Angenommen man möchte an einer Stelle im Programmcode die Summe von <i>a</i> und bis <i>b</i> berechnen und an einer anderen Stelle die Summe von <i>c</i> bis <i>d</i>. Anstatt zweimal den selben Code zu schreiben, kann man eine Funktion definieren, die die Summe der Zahlen zwischen zwei bestimmten Zahlen berechnet."
   ]
  },
  {
   "cell_type": "code",
   "execution_count": null,
   "metadata": {
    "scrolled": true
   },
   "outputs": [],
   "source": [
    "# Mit dem Schlüsselwort def definierst du eine Funktion.\n",
    "# Der Name deiner Funktion ist (bis auf bestimmte Einschränkungen) frei wählbar.\n",
    "# In den runden Klammern schreibst du deine Paramter, dabei brauchst du nicht anzugeben, \n",
    "# um welche Datentypen es sich handelt.\n",
    "# Außerdem brauchst du nicht anzugeben, ob die Funktion einen Wert zurückgibt oder nicht.\n",
    "\n",
    "# Berechnet die Summe von 'untere_grenze' bis einschließlich 'obere_grenze'.\n",
    "def summe(untere_grenze, obere_grenze):\n",
    "    rueckgabewert = 0\n",
    "    for i in range(untere_grenze, obere_grenze+1):\n",
    "        rueckgabewert += i\n",
    "    return rueckgabewert\n",
    "\n",
    "# Jetzt können wir die Funktion so oft aufrufen, wie wir es für sinnvoll halten.\n",
    "print(f\"Summe von 1 bis 10: {summe(1, 10)}\")\n",
    "print(f\"Summe von 110 bis 120: {summe(110, 120)}\")\n",
    "\n"
   ]
  },
  {
   "cell_type": "markdown",
   "metadata": {},
   "source": [
    "<img style=\"float: left;\" src=\"resources/img/laptop_icon.png\" width=50 height=50 /> <br><br>\n",
    "<i>Schreibe eine Funktion, die als Parameter einen Index <i>i</i> erhält und die i-te Fibonacci-Zahl zurückgibt.</i>"
   ]
  },
  {
   "cell_type": "code",
   "execution_count": null,
   "metadata": {
    "scrolled": true
   },
   "outputs": [],
   "source": [
    "# Füge deinen Code hier ein"
   ]
  },
  {
   "cell_type": "markdown",
   "metadata": {},
   "source": [
    "## Klassen"
   ]
  },
  {
   "cell_type": "code",
   "execution_count": null,
   "metadata": {
    "scrolled": true
   },
   "outputs": [],
   "source": [
    "# Eine Klasse wird durch das Schlüsselwort 'class' gekennzeichnet.\n",
    "class Person:\n",
    "    \n",
    "    # So wird der Konstruktur einer Klasse definiert.\n",
    "    # Beachte, dass der erste Parameter jeder Funktion immer 'self' ist.\n",
    "    def __init__(self, name, alter, wohnort):\n",
    "        self.name = name\n",
    "        self.alter = alter\n",
    "        self.wohnort = wohnort\n",
    "        \n",
    "    def gebe_name_zurueck(self):\n",
    "        return self.name\n",
    "    \n",
    "    def gebe_alter_zurueck(self):\n",
    "        return self.alter\n",
    "    \n",
    "    def gebe_wohnort_zurueck(self):\n",
    "        return self.wohnort\n",
    "    \n",
    "    def geburtstag(self):\n",
    "        self.alter += 1\n",
    "    \n",
    "    def umziehen(self, neuer_wohnort):\n",
    "        self.wohnort = neuer_wohnort\n",
    "\n",
    "# Ein Objekt der Klasse 'Person' wird erstellt\n",
    "luca = Person(\"Luca\", 15, \"Karlsruhe\")\n",
    "\n",
    "luca.geburtstag()\n",
    "luca.umziehen(\"Freiburg\")\n",
    "\n",
    "print(f\"{luca.gebe_name_zurueck()} ist {luca.gebe_alter_zurueck()} Jahre alt \" + \n",
    "      f\"und wohnt in {luca.gebe_wohnort_zurueck()}\")\n",
    "\n"
   ]
  },
  {
   "cell_type": "markdown",
   "metadata": {},
   "source": [
    "<img style=\"float: left;\" src=\"resources/img/laptop_icon.png\" width=50 height=50 /> <br><br>\n",
    "<i>Schreibe eine Klasse, die einen Getränkeautomaten simulieren soll. Der Automat soll die Attribute 'an' und 'konto' haben. Folgende Methoden sollen in der Klasse implementiert werden: <i>anschalten, ausschalten, muenze_einwerfen</i> und <i>getraenk_ausgeben</i>. Der Automat soll genau dann ein Getränk ausgeben und den Kontostand um zwei Münzen verkleinern, wenn er eingeschaltet ist, mehr als zwei Münzen auf dem Kontostand sind und die Methode <i>getraenk_ausgeben</i> aufgerufen wird.</i>"
   ]
  },
  {
   "cell_type": "code",
   "execution_count": null,
   "metadata": {
    "scrolled": true
   },
   "outputs": [],
   "source": [
    "# Füge deinen Code hier ein"
   ]
  },
  {
   "cell_type": "markdown",
   "metadata": {},
   "source": [
    "## Importe\n",
    "\n",
    "Möchtest du auf Code anderer Dateien oder auf deine lokalen Bibliotheken zugreifen, musst du sie vorher in dein Programm importieren. Danach kannst du auf die Funktionen des importierten Moduls zugreifen."
   ]
  },
  {
   "cell_type": "code",
   "execution_count": null,
   "metadata": {
    "scrolled": true
   },
   "outputs": [],
   "source": [
    "# Importe schreibst du überlicherweise am Anfang deines Programms auf.\n",
    "import time\n",
    "print(\"Heute:\", time.asctime())\n",
    "\n",
    "# Durch den Schlüsselbegriff 'as' kannst du dem  \n",
    "# Import einen eigenen Namen geben.\n",
    "import os.path as p\n",
    "import os\n",
    "\n",
    "# Gibt den aktuellen Pfad aus.\n",
    "p.abspath(os.getcwd())\n",
    "\n",
    "# Wenn du nur etwas Bestimmtes aus einer Datei \n",
    "# impotieren möchtest, kannst du das wie folgt tun:\n",
    "from datetime import date\n",
    "\n",
    "# Gibt den Wochentag (als Integer) eines Datums zurück.\n",
    "date(2021, 11, 2).weekday()\n",
    "\n",
    "# Du kannst auch deine eigenen Dateien in dein Programm importieren.\n",
    "# Wenn du eine Datei von einem Ordner in deinem aktuellen Verzeichnis\n",
    "# importieren möchtest, gibst du den relativen Pfad durch Punkte getrennt an:\n",
    "from resources.code.help_functions import sagHallo\n",
    "\n",
    "sagHallo()"
   ]
  },
  {
   "cell_type": "markdown",
   "metadata": {},
   "source": [
    "## Numpy\n",
    "\n",
    "Numpy ist eine sehr mächtige Bibliothek, die viele numerische und mathematische Funktionen bereithält. <br>\n",
    "Im Folgenden findest du ein paar Anwendungsbeispiele. Weitere Informationen kannst du unter folgender URL nachlesen: https://www.python-kurs.eu/numpy.php. "
   ]
  },
  {
   "cell_type": "code",
   "execution_count": null,
   "metadata": {
    "scrolled": true
   },
   "outputs": [],
   "source": [
    "import numpy as np\n",
    "\n",
    "# Definition einer 3 x 3 - Matrix\n",
    "a = np.array([[1, 2, 3],\n",
    "             [4, 5, 6],\n",
    "             [7, 8, 9]])\n",
    "print(\"a=\\n\", a)\n",
    "\n",
    "# Definition einer 3 x 3 - Matrix, deren Einträge ausschließlich 1 sind.\n",
    "b = np.ones((3, 3), dtype=int)\n",
    "print(\"b=\\n\", b)\n",
    "\n",
    "# Addition zweier Matrizen gleicher Dimensionen.\n",
    "print(\"a+b=\\n\", a+b)\n",
    "\n",
    "# Definition einer 4 x 4 - Matrix, deren Einträge ausschließlich 0 sind.\n",
    "c = np.zeros((4, 4), dtype=int)\n",
    "print(\"c=\\n\", c)\n",
    "\n",
    "# Form der Matrix verändern:\n",
    "c = c.reshape((2, 8))\n",
    "print(\"c_neu=\\n\", c)\n",
    "\n",
    "# Eine Matrix, die als Einträge nur Einsen hat und die gleiche Form wie die Matrix 'c' besitzt.\n",
    "d = np.ones_like(c)\n",
    "print(\"d=\\n\", d)"
   ]
  },
  {
   "cell_type": "markdown",
   "metadata": {},
   "source": [
    "## Pyplot\n",
    "\n",
    "Pyplot ist eine nützliche Bibliothek, um Funktionen oder Punkte in einem Koordinatensystem darzustellen. Führe die folgenden Felder aus, um die unterschiedlichen Möglichkeiten von <i>pyplot</i> kennen zu lernen."
   ]
  },
  {
   "cell_type": "code",
   "execution_count": 7,
   "metadata": {},
   "outputs": [
    {
     "data": {
      "image/png": "[encoded data removed]",
      "text/plain": [
       "<Figure size 432x288 with 1 Axes>"
      ]
     },
     "metadata": {
      "needs_background": "light"
     },
     "output_type": "display_data"
    }
   ],
   "source": [
    "import matplotlib.pyplot as plt\n",
    "\n",
    "# Mit diesem Aufruf, kannst du dir Punkte im Koordinatensystem einzeichnen lassen.\n",
    "# Das erste Argument ist der x-Wert und das zweite Argument der y-Wert eines Punkts.\n",
    "plt.scatter(1, 2, color=\"blue\")\n",
    "\n",
    "# Du kannst auch direkt mehrere Punkte gleichzeitig anzeigen lassen.\n",
    "# In die erste Liste schreibst du die x-Werte der Punkte und in die zweite Liste die entsprechenden y-Werte.\n",
    "plt.scatter([-1, 0, 2, 3], [1, -2, 3, 4], color=\"red\")\n",
    "\n",
    "# Mit den folgenden Aufrufen grenzt du das angezeigte Fenster des Koordiantensystems ein.\n",
    "plt.xlim(-2, 5)\n",
    "plt.ylim(-3, 5)\n",
    "\n",
    "# Der folgenden Befehl zeigt dir das Koordinatensystem an.\n",
    "plt.show()"
   ]
  },
  {
   "cell_type": "markdown",
   "metadata": {},
   "source": [
    "<img style=\"float: left;\" src=\"resources/img/laptop_icon.png\" width=50 height=50 /> <br><br>\n",
    "\n",
    "<i>Erstelle für die folgenden x-Werte die entsprechenden y-Werte, die durch die Funktion $f(x)=x^2$ vorgegeben werden. Lass dir die Punkte anschließend im Koordinatensystem anzeigen.</i>"
   ]
  },
  {
   "cell_type": "code",
   "execution_count": 25,
   "metadata": {},
   "outputs": [],
   "source": [
    "xWerte = [-3, -2, -1, 0, 1, 2, 3]\n",
    "\n",
    "# Füge deinen Code hier ein"
   ]
  },
  {
   "cell_type": "code",
   "execution_count": 24,
   "metadata": {},
   "outputs": [
    {
     "name": "stdout",
     "output_type": "stream",
     "text": [
      "x-Werte=\n",
      " [-1.         -0.95918367 -0.91836735 -0.87755102 -0.83673469 -0.79591837\n",
      " -0.75510204 -0.71428571 -0.67346939 -0.63265306 -0.59183673 -0.55102041\n",
      " -0.51020408 -0.46938776 -0.42857143 -0.3877551  -0.34693878 -0.30612245\n",
      " -0.26530612 -0.2244898  -0.18367347 -0.14285714 -0.10204082 -0.06122449\n",
      " -0.02040816  0.02040816  0.06122449  0.10204082  0.14285714  0.18367347\n",
      "  0.2244898   0.26530612  0.30612245  0.34693878  0.3877551   0.42857143\n",
      "  0.46938776  0.51020408  0.55102041  0.59183673  0.63265306  0.67346939\n",
      "  0.71428571  0.75510204  0.79591837  0.83673469  0.87755102  0.91836735\n",
      "  0.95918367  1.        ]\n",
      "y-Werte=\n",
      " [-5.         -4.87755102 -4.75510204 -4.63265306 -4.51020408 -4.3877551\n",
      " -4.26530612 -4.14285714 -4.02040816 -3.89795918 -3.7755102  -3.65306122\n",
      " -3.53061224 -3.40816327 -3.28571429 -3.16326531 -3.04081633 -2.91836735\n",
      " -2.79591837 -2.67346939 -2.55102041 -2.42857143 -2.30612245 -2.18367347\n",
      " -2.06122449 -1.93877551 -1.81632653 -1.69387755 -1.57142857 -1.44897959\n",
      " -1.32653061 -1.20408163 -1.08163265 -0.95918367 -0.83673469 -0.71428571\n",
      " -0.59183673 -0.46938776 -0.34693878 -0.2244898  -0.10204082  0.02040816\n",
      "  0.14285714  0.26530612  0.3877551   0.51020408  0.63265306  0.75510204\n",
      "  0.87755102  1.        ]\n"
     ]
    },
    {
     "data": {
      "image/png": "[encoded data removed]",
      "text/plain": [
       "<Figure size 432x288 with 1 Axes>"
      ]
     },
     "metadata": {
      "needs_background": "light"
     },
     "output_type": "display_data"
    }
   ],
   "source": [
    "# Wenn du eine Funktion in pyplot zeichen möchtest, zeichnet pyplot eigentlich ganz viele Punkte, \n",
    "# die zu einer zusammenhängenden Linie zusammengeführt werden.\n",
    "\n",
    "# Mit dem folgenden Befehl erzeugtst du eine Liste / Array mit 50 Punkten im Bereich -1 bis 1.\n",
    "# Ein Wert und dessen Nachfolger haben dabei immer die gleiche Differenz.\n",
    "# Diese Punkte können z.B. als x-Werte verwendet werden.\n",
    "x = np.linspace(-1, 1, 50)\n",
    "print(\"x-Werte=\\n\", x)\n",
    "\n",
    "# Wenn du eine Liste mit y-Werten erzeugen möchtest, kannst du deine gewünschte Funktion \n",
    "# in gewohnter Schreibweise notieren.\n",
    "y = 3 * x - 2\n",
    "print(\"y-Werte=\\n\", y)\n",
    "\n",
    "# Mit diesem Befehl fügst du die Funktion dem Schaubild hinzu.\n",
    "plt.plot(x, y, color=\"blue\")\n",
    "\n",
    "# Eine senkrechte Gerade / eine Parallele zur y-Achse ist keine mathematische Funktion.\n",
    "# Du kannst aber etwas „schummeln“, indem du eine Liste mit gleichen x-Werten erzeugst \n",
    "# und sehr viele unterschiedliche y-Werte im gewünschten Bereich.\n",
    "\n",
    "# Array mit 100 mal 0.5.\n",
    "x = np.full(100, 0.5)\n",
    "y = np.linspace(-3, 3, 100)\n",
    "\n",
    "plt.plot(x, y, color=\"red\")\n",
    "\n",
    "# Alternativ kannst du auch folgenden Aufruf benutzen, um eine Gerade bei x=-0.5 zu zeichnen.\n",
    "plt.axvline(x = -0.5, color=\"green\")\n",
    "\n",
    "plt.xlim(-1,1)\n",
    "plt.ylim(-3,3)\n",
    "\n",
    "plt.show()"
   ]
  },
  {
   "cell_type": "markdown",
   "metadata": {},
   "source": [
    "<img style=\"float: left;\" src=\"resources/img/laptop_icon.png\" width=50 height=50 /> <br><br>\n",
    "\n",
    "<i>Die Gerade $y=m \\cdot x$ hat eine Steigung von $0$% für $m=0$. Füge dem Schaubild $10$ weitere Geraden hinzu, die die Steigung $10$%, $20$%, ..., $100$% haben.</i>"
   ]
  },
  {
   "cell_type": "code",
   "execution_count": null,
   "metadata": {},
   "outputs": [],
   "source": [
    "# Füge deinen Code hier ein"
   ]
  },
  {
   "cell_type": "markdown",
   "metadata": {},
   "source": [
    "## Fehlerbehandlung\n",
    "\n",
    "Um zu verhindern, dass dein Programm bei einem Fehler während der Ausführung abstürzt, muss du festlegen, was in solch einem Fall passiert."
   ]
  },
  {
   "cell_type": "code",
   "execution_count": null,
   "metadata": {},
   "outputs": [],
   "source": [
    "# Führe dieses Feld aus und ändere anschließend den Wert für 'y' und \n",
    "# beobachte, was bei der Ausführung passiert.\n",
    "x = 1\n",
    "y = 0\n",
    "ergebnis = 0\n",
    "\n",
    "try:\n",
    "    ergebnis = x / y\n",
    "except:\n",
    "    print(\"Hier ist etwas schief gelaufen.\")\n",
    "finally:\n",
    "    print(\"Dieser Block wird immer ausgeführt.\")\n",
    "    \n",
    "print(f\"ergebnis={ergebnis}\")"
   ]
  },
  {
   "cell_type": "markdown",
   "metadata": {},
   "source": [
    "## Mini-Aufgaben\n",
    "\n",
    "\n",
    "### Zahlen sortieren\n",
    "\n",
    "<img style=\"float: left;\" src=\"resources/img/laptop_icon.png\" width=50 height=50 /> <br><br>\n",
    "\n",
    "Schreibe eine Funktion, die eine beliebige Liste von Zahlen aufsteigend sortiert und die sortierte Liste zurückgibt.\n"
   ]
  },
  {
   "cell_type": "code",
   "execution_count": null,
   "metadata": {
    "scrolled": true
   },
   "outputs": [],
   "source": [
    "unsortierte_liste = [-2, 45, -102, 231, 89, -73, 42, 0, 99, 123, -11]\n",
    "\n",
    "# Füge deinen Code hier ein."
   ]
  },
  {
   "cell_type": "markdown",
   "metadata": {},
   "source": [
    "### Primzahlen\n",
    "\n",
    "<img style=\"float: left;\" src=\"resources/img/laptop_icon.png\" width=50 height=50 /> <br><br>\n",
    "\n",
    "Schreibe eine Funktion, die als Parameter eine natürliche Zahl 'n' aufnimmt und alle Primzahlen bis n als Liste ausgibt.\n"
   ]
  },
  {
   "cell_type": "code",
   "execution_count": null,
   "metadata": {
    "scrolled": true
   },
   "outputs": [],
   "source": [
    "# Füge deinen Code hier ein."
   ]
  },
  {
   "cell_type": "markdown",
   "metadata": {},
   "source": [
    "### Größter gemeinsamer Teiler\n",
    "\n",
    "<img style=\"float: left;\" src=\"resources/img/laptop_icon.png\" width=50 height=50 /> <br><br>\n",
    "\n",
    "Schreibe eine Funktion, die den größten gemeinsamen Teiler zweier natürlicher Zahlen ausgibt."
   ]
  },
  {
   "cell_type": "code",
   "execution_count": null,
   "metadata": {
    "scrolled": true
   },
   "outputs": [],
   "source": [
    "# Füge deinen Code hier ein."
   ]
  },
  {
   "cell_type": "markdown",
   "metadata": {},
   "source": [
    "### Primfaktorzerlegung\n",
    "\n",
    "<img style=\"float: left;\" src=\"resources/img/laptop_icon.png\" width=50 height=50 /> <br><br>\n",
    "\n",
    "Schreibe eine Funktion, die eine natürliche Zahl in ihre Primfaktoren zerlegt."
   ]
  },
  {
   "cell_type": "code",
   "execution_count": null,
   "metadata": {
    "scrolled": true
   },
   "outputs": [],
   "source": [
    "# Füge deinen Code hier ein."
   ]
  },
  {
   "cell_type": "markdown",
   "metadata": {},
   "source": [
    "### Permutationen einer Zahlenliste\n",
    "\n",
    "<img style=\"float: left;\" src=\"resources/img/laptop_icon.png\" width=50 height=50 /> <br><br>\n",
    "\n",
    "Schreibe eine Funktion, die alle Permutation einer Zahlenliste zurückgibt."
   ]
  },
  {
   "cell_type": "code",
   "execution_count": null,
   "metadata": {
    "scrolled": true
   },
   "outputs": [],
   "source": [
    "zahlen = [0, 1, 2, 3, 4, 5]\n",
    "\n",
    "# Füge deinen Code hier ein."
   ]
  },
  {
   "cell_type": "markdown",
   "metadata": {},
   "source": [
    "### Binäres Palindrom\n",
    "\n",
    "<img style=\"float: left;\" src=\"resources/img/laptop_icon.png\" width=50 height=50 /> <br><br>\n",
    "Schreibe eine Funktion, die eine Zahl in ihre binäre Darstellung umwandelt und anschließend prüft, ob diese Zahl ein Palindrom (in der binären Darstellung) ist."
   ]
  },
  {
   "cell_type": "code",
   "execution_count": null,
   "metadata": {
    "scrolled": true
   },
   "outputs": [],
   "source": [
    "# Füge deinen Code hier ein."
   ]
  }
 ],
 "metadata": {
  "@webio": {
   "lastCommId": null,
   "lastKernelId": null
  },
  "interpreter": {
   "hash": "2d260b012bbf33bcb2887d0961c178b7e1cdbf98f02eb539d597fc41b3ad5997"
  },
  "kernelspec": {
   "display_name": "Python 3",
   "language": "python",
   "name": "python3"
  },
  "language_info": {
   "codemirror_mode": {
    "name": "ipython",
    "version": 3
   },
   "file_extension": ".py",
   "mimetype": "text/x-python",
   "name": "python",
   "nbconvert_exporter": "python",
   "pygments_lexer": "ipython3",
   "version": "3.6.12"
  }
 },
 "nbformat": 4,
 "nbformat_minor": 2
}
