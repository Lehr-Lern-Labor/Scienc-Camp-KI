{
 "cells": [
  {
   "cell_type": "markdown",
   "metadata": {},
   "source": [
    "<img style=\"float: right;\" src=\"resources/img/lll_logo.png\" width=160 height=160 />\n",
    " \n",
    "# Einführung in Python \n",
    "\n",
    "Dieses Übungsblatt ist eine kurze Einführung in Python und bietet dir eine Übersicht über die wichtigsten Punkte, die du für den KI-Workshop benötigst. <br>\n",
    "Das Übungsblatt ist ein Jupyter Notebook. Es besteht aus Felder, die Text beinhalten und nicht ausführbar sind, und aus Felder in denen ausführbarer Code geschrieben ist. <br><br>\n",
    "\n",
    "<img style=\"float: left;\" src=\"resources/img/laptop_icon.png\" width=50 height=50 /> <br><br>\n",
    "Führe das untere Feld aus, indem du das Feld per Klick auswählst und entweder oben in der Leiste auf <b><i>Run</i></b> klickst oder <b><i>Str</i></b> gedrückt hälst und auf <b><i>Enter</i></b> drückst.\n"
   ]
  },
  {
   "cell_type": "code",
   "execution_count": 50,
   "metadata": {},
   "outputs": [
    {
     "name": "stdout",
     "output_type": "stream",
     "text": [
      "Herzlich Willkommen im Lehr-Lern-Labor Informatik am KIT!\n"
     ]
    }
   ],
   "source": [
    "# Das ist ein ausführbares Feld.\n",
    "# Zeilen, die mit dem Symbol # beginnen, werden vom Compiler ignoriert. \n",
    "# Du kannst # also dafür nutzen, um Kommentare zu schreiben.\n",
    "\n",
    "print(\"Herzlich Willkommen im Lehr-Lern-Labor Informatik am KIT!\")"
   ]
  },
  {
   "cell_type": "markdown",
   "metadata": {},
   "source": [
    "## Einrückungen\n",
    "\n",
    "Im Gegensatz zu solchen Programmiersprachen wie <i>C</i> oder <i>Java</i> werden in Python keine geschweiften Klammern verwendet, um das Programm zu strukturieren. Die ganze Strukturierung von Klassen, Anweisungen oder Funktionen basiert auf Einrückungen. Wenn du eine Anweisung schreibst und eine Einrückung vergisst, kann sich dein Programm anders verhalten als von dir gewollt. Achte also im Folgenden penibel darauf, welcher Code eingerückt werden muss.\n",
    "\n",
    "## Wichtige Datentypen\n",
    "\n",
    "Aus dem Informatikunterricht kennst du vielleicht schon verschiedene Datentypen: <i>integer, double, string</i>, usw. <br> Bei vielen Programmiersprachen musst du bei der Deklaration einer Variablen angeben, um welchen Datentypen es sich handelt. <br>In Python ist das nicht erforderlich, da der Compiler selbst bei der Ausführung entscheidet, welcher Datentyp für eine Variable am sinnvollsten ist. <br><br>\n",
    "\n",
    "<img style=\"float: left;\" src=\"resources/img/laptop_icon.png\" width=50 height=50 /> <br><br>\n",
    "Ergänze die fehlenden Variablen passend, sodass die Ausgabe fehlerfrei ist. <br>\n",
    "(Hinweis: Boolsche Werte nehmen in Python entweder den Wert <i>True</i> oder <i>False</i> an.)"
   ]
  },
  {
   "cell_type": "code",
   "execution_count": 14,
   "metadata": {},
   "outputs": [
    {
     "name": "stdout",
     "output_type": "stream",
     "text": [
      "Steckbrief:\n",
      " Name:  Max \n",
      " männlich: True \n",
      " Alter:  15 \n",
      " Größe (in m):  1.71\n"
     ]
    }
   ],
   "source": [
    "steckbrief = \"Steckbrief:\\n\"\n",
    "name = \"Max\"\n",
    "maennlich = True\n",
    "alter = 15\n",
    "groesse = 1.71\n",
    "\n",
    "print(steckbrief, \"Name: \", name, \"\\n\", \"männlich:\", maennlich, \n",
    "      \"\\n\", \"Alter: \", alter, \"\\n\", \"Größe (in m): \", groesse)"
   ]
  },
  {
   "cell_type": "markdown",
   "metadata": {},
   "source": [
    "<img style=\"float: left;\" src=\"resources/img/laptop_icon.png\" width=50 height=50 /> <br><br>\n",
    "Bearbeite die folgenden beiden Felder, um den Umgang mit elementaren Datentypen in Python zu üben."
   ]
  },
  {
   "cell_type": "code",
   "execution_count": 14,
   "metadata": {},
   "outputs": [
    {
     "name": "stdout",
     "output_type": "stream",
     "text": [
      "Du hast alles richtig gemacht! Das Ergebnis ist 42\n"
     ]
    }
   ],
   "source": [
    "from resources.code.help_functions import pruefe_eingabe\n",
    "\n",
    "# Ergänze unter jedem nachfolgenden Kommentar deinen Code.\n",
    "x = 9\n",
    "\n",
    "# Addiere zur Variable 'x' 6 dazu.\n",
    "x += 6\n",
    "\n",
    "# Multipliziere das Ergebnis mit 3. \n",
    "x *= 3\n",
    "\n",
    "# Nehme das Ergebnis hoch 4 (Hochzeichen: **).\n",
    "x = x**4\n",
    "\n",
    "# Teile das Ergebnis durch 91125.\n",
    "x //= 91125\n",
    "\n",
    "# Subtrahiere 3 vom Ergebnis.\n",
    "x -= 3\n",
    "\n",
    "pruefe_eingabe(x)"
   ]
  },
  {
   "cell_type": "code",
   "execution_count": 2,
   "metadata": {},
   "outputs": [
    {
     "name": "stdout",
     "output_type": "stream",
     "text": [
      "Konkatierter String:  hihallohey\n",
      "Dritter Buchstabe: h, Siebter Buchstabe: o\n",
      "hi\n",
      "hallo\n",
      "hey\n"
     ]
    }
   ],
   "source": [
    "begruessung1 = 'hi'\n",
    "begruessung2 = 'hallo'\n",
    "begruessung3 = 'hey'\n",
    "\n",
    "# Konkateniere alle Begrüßungen indem du die oberen String jeweils durch ein '+' verbindest\n",
    "# und das Ergebnis mit der Variable 'begruessung' gleichsetzt.\n",
    "\n",
    "begruessung = begruessung1 + begruessung2 + begruessung3\n",
    "print(\"Konkatierter String: \", begruessung)\n",
    "\n",
    "# Gebe den dritten und siebten Buchstaben der Variable 'begruessung' aus und überprüfe dein Ergebnis selbst. \n",
    "# Möchtest du den i-ten Buchstaben eines Strings str ausgeben lassen, schreibst du einfach str[i].\n",
    "# (Beachte, dass Informatiker von 0 anfangen zu zählen!)\n",
    "\n",
    "print(\"Dritter Buchstabe:\", begruessung[2] + \",\", \"Siebter Buchstabe:\", begruessung[6])\n",
    "\n",
    "# Du kannst nicht nur einzelne Buchstaben eines Strings ausgeben lassen, sondern bestimmte Bereiche.\n",
    "# Möchtest du von einem String str z.B. den Bereich vom fünften bis ausschließlich zum achten String ausgeben \n",
    "# lassen, machst du das durch str[5:8]. \n",
    "# Möchtest du den Bereich von Anfang bis ausschließlich dem vierten Buchstaben erhalten, \n",
    "# schreibst du str[0:4] oder str[:4]. \n",
    "# Analog schreibst du str[4:], wenn du den Bereich vom vierten bis zum letzten Buchstaben\n",
    "# erhalten möchtest.\n",
    "\n",
    "# Benutze deine vorher definierte Variable 'begruessung', um hi, hallo und hey mithilfe [] ausgeben zu lassen.\n",
    "print(begruessung[:2])\n",
    "print(begruessung[2:7])\n",
    "print(begruessung[7:])\n"
   ]
  },
  {
   "cell_type": "markdown",
   "metadata": {},
   "source": [
    "## Kontrollstrukturen\n",
    "\n",
    "Möchtest du in Python den Ablauf deines Programms steuern, verwendest du Kontrollstrukturen so wie in den Programmiersprachen, die du schon gewohnt bist. Nur die Syntax unterscheidet sich ein wenig. Im Folgenden findest du immer ein Beispiel von einer Kontrollstruktur in einem ausführbaren Feld gefolgt von einer Aufgabe, bei der du das Gezeigte direkt anwenden sollst. \n",
    "\n",
    "### if-else-Anweisung"
   ]
  },
  {
   "cell_type": "code",
   "execution_count": 52,
   "metadata": {},
   "outputs": [
    {
     "name": "stdout",
     "output_type": "stream",
     "text": [
      "Die Bedingung ist erfült.\n",
      "Die Zahl ist größer als 5.\n",
      "Hallo Angela!\n",
      "Angela und Olaf sind zwei unterschiedliche Namen.\n"
     ]
    }
   ],
   "source": [
    "# Führe das folgende Feld aus. \n",
    "# Beobachte, was passiert, wenn du die Wert änderst.\n",
    "\n",
    "bedingung = True\n",
    "\n",
    "# Klammern sind bei einer if-else-Anweisung um die Bedingung optional.\n",
    "if bedingung:\n",
    "    print(\"Die Bedingung ist erfült.\")\n",
    "else:\n",
    "    print(\"Die Bedingung ist nicht erfüllt.\")\n",
    "    \n",
    "x = 5\n",
    "\n",
    "if (x < 0):\n",
    "    print(\"Die Zahl ist kleiner 0.\")\n",
    "elif (0 <= x <= 3):\n",
    "    print(\"Die Zahl liegt zwischen 0 und 3.\")\n",
    "else:\n",
    "    print(\"Die Zahl ist größer als 5.\")\n",
    "    \n",
    "name1 = 'Angela'\n",
    "name2 = 'Olaf'\n",
    "\n",
    "# Eine elif- oder else-Anweisung muss nicht zwingend nach einer if-Anweisung folgen.\n",
    "if name1 == 'Angela':\n",
    "    print(\"Hallo Angela!\")\n",
    "    \n",
    "if name1 != name2:\n",
    "    print(\"{} und {} sind zwei unterschiedliche Namen.\".format(name1, name2))"
   ]
  },
  {
   "cell_type": "markdown",
   "metadata": {},
   "source": [
    "<img style=\"float: left;\" src=\"resources/img/laptop_icon.png\" width=50 height=50 /> <br><br>\n",
    "Realisiere folgenden Sachverhalt: <br>\n",
    "\n",
    "<i>Wenn der eingeloggte Benutzer Jana ist, dann soll sie zunächst begrüßt werden. Wenn sie das Passwort richtig eingeben hat (verwende für das Passwort eine boolsche Variable), dann soll ihr aktueller Punktestand von 2241 Punkten ausgegeben werden. Wenn sie das Passwort falsch eingegeben hat, dann soll das ausgegeben werden. Wenn der eingeloggte Benutzer Ramon ist, dann ist der Ablauf analog zum oberen Fall, wobei sein aktueller Punktestand 2110 beträgt. Wenn der eingeloggte Benutzer weder Jana noch Ramon ist, dann soll ausgegeben werden, dass der Nutzername nicht bekannt ist. "
   ]
  },
  {
   "cell_type": "code",
   "execution_count": 9,
   "metadata": {},
   "outputs": [
    {
     "name": "stdout",
     "output_type": "stream",
     "text": [
      "Hallo Ramon!\n",
      "Du bist eingeloggt! Dein aktueller Punktestand beträgt 2110.\n"
     ]
    }
   ],
   "source": [
    "# Füge hier deinen Code ein.\n",
    "eingeloggterBenutzer = 'Ramon'\n",
    "passwort = True\n",
    "\n",
    "if eingeloggterBenutzer == 'Jana':\n",
    "    print(\"Hallo Jana!\")\n",
    "    if passwort:\n",
    "        print(\"Du bist eingeloggt! Dein aktueller Punktestand beträgt 2241.\")\n",
    "    else:\n",
    "        print(\"Du hast das Passwort falsch eingegeben!\")\n",
    "\n",
    "elif eingeloggterBenutzer == 'Ramon':\n",
    "    print(\"Hallo Ramon!\")\n",
    "    if passwort:\n",
    "        print(\"Du bist eingeloggt! Dein aktueller Punktestand beträgt 2110.\")\n",
    "    else:\n",
    "        print(\"Du hast das Passwort falsch eingegeben!\")\n",
    "        \n",
    "else:\n",
    "    print(\"Dieser Nutzername ist leider nicht bekannt.\")\n",
    "        "
   ]
  },
  {
   "cell_type": "markdown",
   "metadata": {},
   "source": [
    "### while-Schleife\n",
    "Der Code in der while-Schleife wird solange ausgeführt, bis die Bedingung der while-Schleife nicht mehr erfüllt ist. Wenn die Bedingung nie auf <i>falsch</i> gesetzt wird, dann wird die while-Schleife unendlich oft ausgeführt und dein Programm wird nie regulär beendet. "
   ]
  },
  {
   "cell_type": "code",
   "execution_count": 13,
   "metadata": {},
   "outputs": [
    {
     "name": "stdout",
     "output_type": "stream",
     "text": [
      "i= 0\n",
      "i= 1\n",
      "i= 2\n",
      "i= 3\n",
      "i= 4\n"
     ]
    }
   ],
   "source": [
    "i = 0\n",
    "while i < 5:\n",
    "    print(\"i=\", i)\n",
    "    i += 1"
   ]
  },
  {
   "cell_type": "markdown",
   "metadata": {},
   "source": [
    "<img style=\"float: left;\" src=\"resources/img/laptop_icon.png\" width=50 height=50 /> <br><br>\n",
    "Berechne mithilfe der while-Schleife die Summe von 1 bis 10.\n",
    "\n"
   ]
  },
  {
   "cell_type": "code",
   "execution_count": 2,
   "metadata": {},
   "outputs": [
    {
     "name": "stdout",
     "output_type": "stream",
     "text": [
      "45\n"
     ]
    }
   ],
   "source": [
    "# Füge hier deinen Code ein\n",
    "i = 1\n",
    "ergebnis = 0\n",
    "\n",
    "while (i < 10):\n",
    "    ergebnis += i\n",
    "    i += 1\n",
    "    \n",
    "print(ergebnis)"
   ]
  },
  {
   "cell_type": "markdown",
   "metadata": {},
   "source": [
    "### for-Schleife\n",
    "Möchtest du über einen Zahlenbereich (ganzer Zahlen), ein String oder allgemein über ein iterierbares Objekt iterieren, so eignet sich die for-Schleife dazu. "
   ]
  },
  {
   "cell_type": "code",
   "execution_count": 32,
   "metadata": {},
   "outputs": [
    {
     "name": "stdout",
     "output_type": "stream",
     "text": [
      "0. Hallo\n",
      "1. Hallo\n",
      "2. Hallo\n",
      "3. Hi\n",
      "4. Hi\n",
      "5. Hi\n",
      "A\n",
      "B\n",
      "C\n",
      "D\n",
      "E\n"
     ]
    }
   ],
   "source": [
    "# So iterierst du über den Zahlenbereich (ganzer Zahlen) von 0 bis aussschließlich 3.\n",
    "for i in range(3):\n",
    "    print(\"{}. Hallo\".format(i))\n",
    "    \n",
    "# So iterierst du über den Zahlenbereich (ganzer Zahlen) von 5 bis aussschließlich 10.\n",
    "for i in range(3,6):\n",
    "    print(\"{}. Hi\".format(i))\n",
    "    \n",
    "# So iterierst du über einen String.\n",
    "str = 'ABCDE'\n",
    "for s in str:\n",
    "    print(s)"
   ]
  },
  {
   "cell_type": "markdown",
   "metadata": {},
   "source": [
    "<img style=\"float: left;\" src=\"resources/img/laptop_icon.png\" width=50 height=50 /> <br><br>\n",
    "Zähle mit Hilfe einer for-Schleife und einer if-Anweisung die Vorkommen des Bustaben 'a' im vorgegebenen Satz. Anschließend kannst du mit <i>satz.count('a')</i> überprüfen, ob du richtig liegst."
   ]
  },
  {
   "cell_type": "code",
   "execution_count": 49,
   "metadata": {},
   "outputs": [
    {
     "name": "stdout",
     "output_type": "stream",
     "text": [
      "Anzahl der a's: 11\n",
      "Richtiges Ergebnis: 11\n"
     ]
    }
   ],
   "source": [
    "satz = \"Max wachst Wachsmasken. Was macht Max? Wachsmasken wachst Max.\"\n",
    "anzahl = 0\n",
    "for s in satz:\n",
    "    if s is 'a':\n",
    "        anzahl += 1\n",
    "        \n",
    "print(\"Anzahl der a's:\", anzahl)\n",
    "\n",
    "print(\"Richtiges Ergebnis:\", satz.count('a'))"
   ]
  },
  {
   "cell_type": "markdown",
   "metadata": {},
   "source": [
    "## Sequentielle Datentypen\n",
    "\n",
    "Du hast mit dem Datentyp <i>String</i> bereits einen sequentiellen Datentyp in Python kennengelernt. Im Folgenden betrachten wir weitere sequentielle Datentypen.\n",
    "\n",
    "### Tupel\n",
    "\n",
    "In Tupeln kannst du mehrere Informationen speichern. Einmal definiert, können die Werte in einem Tupel nicht mehr verändert werden."
   ]
  },
  {
   "cell_type": "code",
   "execution_count": 4,
   "metadata": {},
   "outputs": [
    {
     "name": "stdout",
     "output_type": "stream",
     "text": [
      "Amy Farrah Fowler ist Neurobiologin.\n"
     ]
    }
   ],
   "source": [
    "# Tupel definierst du mit Hilfe von runden Klammern ().\n",
    "sheldon = ('Sheldon', 'Cooper', '26.Februar 1980', 'Theoretischer Teilchenphysiker')\n",
    "leonard = ('Leonard', 'Leakey Hofstadter', '17.Mai 1980', 'Experimentalphysiker')\n",
    "amy = ('Amy', 'Farrah Fowler', '17. Dezember', 'Neurobiologin')\n",
    "\n",
    "\n",
    "# Mithilfe von eckigen Klammern greifst du auf die unterschiedlichen Einträge zu.\n",
    "print(f\"{amy[0]} {amy[1]} ist {amy[3]}.\")\n"
   ]
  },
  {
   "cell_type": "markdown",
   "metadata": {},
   "source": [
    "### Listen\n",
    "\n",
    "Du kannst mit Hilfe von Listen mehrere Inhalte speichern, so wie du das oben bei Tupeln gesehen hast. Allerdings kannst du im Gegensatz die Inhalte in Listen verändern, hinzufügen und löschen."
   ]
  },
  {
   "cell_type": "code",
   "execution_count": 6,
   "metadata": {},
   "outputs": [
    {
     "name": "stdout",
     "output_type": "stream",
     "text": [
      "Farbe:  rot\n",
      "Farbe:  grün\n",
      "Farbe:  gelb\n",
      "Farbe:  blau\n",
      "Farbe:  lila\n",
      "Farbe:  pink\n",
      "Farbe:  orange\n",
      "Die Farbe 'gelb' steht in der Liste an dritter Stelle.\n",
      "'orange' ist das letzte und 'pink' das vorletzte Elemente der Liste.\n",
      "Die Farbe 'orange' wurde entfernt.\n",
      "Die Farbe 'blau' wurde entfernt.\n",
      "['grün', 'gelb', 'lila', 'pink', 'türkis', 'burgund', 'beige', 'magenta', 'khaki']\n"
     ]
    }
   ],
   "source": [
    "# Listen wird mit Hilfe von eckigen Klammern definiert.\n",
    "farben = [\"rot\", \"grün\", \"gelb\", \"blau\", \"lila\", \"pink\", \"orange\"]\n",
    "\n",
    "# So iterierst über eine Liste.\n",
    "for farbe in farben:\n",
    "    print(\"Farbe: \", farbe)\n",
    "    \n",
    "# Du kannst auch durch einen bestimmten Index i Elemente in der Liste ansprechen: name_der_liste[i].\n",
    "print(\"Die Farbe '{}' steht in der Liste an dritter Stelle.\".format(farben[2]))\n",
    "\n",
    "# Durch den Index -1 wird dir das letzte Element zurückgegeben, mit dem Index -2 das vorletzte, usw.\n",
    "print(\"'{}' ist das letzte und '{}' das vorletzte Elemente der Liste.\".format(farben[-1], farben[-2]))\n",
    "\n",
    "# Mit dem Befehl name_der_liste.pop() wird dir das zuletzt hinzugefügte Element zurückgegeben und entfernt.\n",
    "# Gibst du in der Klammer eine Zahl i an, so wird das i-te Element der Liste zurückgegeben und entfernt.\n",
    "print(\"Die Farbe '{}' wurde entfernt.\".format(farben.pop()))\n",
    "print(\"Die Farbe '{}' wurde entfernt.\".format(farben.pop(3)))\n",
    "\n",
    "# Wenn ein Element entfernt werden soll, verwendest du den Befehl name_der_liste.remove(inhalt). \n",
    "farben.remove('rot')\n",
    "\n",
    "# Mit dem Befehl name_der_liste.append() hängst du ein neues Element an die Liste.\n",
    "farben.append('türkis')\n",
    "# alternativ:\n",
    "farben = farben + ['burgund']\n",
    "\n",
    "# Du kannst sogar Listen an andere Listen anhängen. \n",
    "# Hiefür verwendest du den Befehl name_der_liste.extend(andere_Liste).\n",
    "farben2 = [\"beige\", \"magenta\", \"khaki\"]\n",
    "farben.extend(farben2)\n",
    " \n",
    "print(farben)\n",
    "\n",
    "# Eine Liste muss nicht zwingend Objekte vom gleichen Datentyp beinhalten.\n",
    "liste = [1.3, 'rot', 42, ['Lea', 'Frank', 'Ali']]\n"
   ]
  },
  {
   "cell_type": "markdown",
   "metadata": {},
   "source": [
    "<img style=\"float: left;\" src=\"resources/img/laptop_icon.png\" width=50 height=50 /> <br><br>\n",
    "Eine Fibonacci-Zahl ist gleich der Summe ihrer beiden Vorgänger, wobei die erste Zahl gleich 0 und die zweite Zahl gleich 1 sind. In der Liste 'fibonacci' sind die ersten beiden Zahlen bereits abgespeichert. Führe diese Liste solange fort bis 15 Zahlen in dieser Liste sind und überprüfe dein Ergebnis."
   ]
  },
  {
   "cell_type": "code",
   "execution_count": 1,
   "metadata": {},
   "outputs": [
    {
     "name": "stdout",
     "output_type": "stream",
     "text": [
      "Super! Das sind die ersten 15 Fibonacci-Zahlen: [0, 1, 1, 2, 3, 5, 8, 13, 21, 34, 55, 89, 144, 233, 377]\n"
     ]
    }
   ],
   "source": [
    "from resources.code.help_functions import pruefe_fibonacci\n",
    "\n",
    "fibonacci = [0, 1]\n",
    "\n",
    "for i in range(13):\n",
    "    fibonacci.append(fibonacci[-1] + fibonacci[-2])\n",
    "    \n",
    "pruefe_fibonacci(fibonacci)"
   ]
  },
  {
   "cell_type": "markdown",
   "metadata": {},
   "source": [
    "### Dictionaries\n",
    "Abgesehen von Listen, Strings und Tupeln gibt es in Python noch einen weiteren wichtigen sequentiellen Datentyp: <i>Dictonaries</i> (in anderen Programmierspachen auch als <i>Maps</i> oder <i>Hashs</i> bezeichnet). Dabei wird immer ein Schlüssel-Objekt-Paar abgespeichert, so dass man analog zu einem Wörterbuch nach einem Schlüssel suchen kann und das entsprechende Objekt zurückgegeben wird."
   ]
  },
  {
   "cell_type": "code",
   "execution_count": 39,
   "metadata": {},
   "outputs": [
    {
     "name": "stdout",
     "output_type": "stream",
     "text": [
      "Eintrag für 'door': Tür\n",
      "Schlüssel: animal --> Objekt: Tier\n",
      "Schlüssel: ball --> Objekt: Ball\n",
      "Schlüssel: chicken --> Objekt: Hühnchen\n",
      "Schlüssel: door --> Objekt: Tür\n",
      "Schlüssel: egg --> Objekt: Ei\n",
      "Alle Objekte in der Dicionary: Tier. Ball. Hühnchen. Tür. Ei. \n",
      "Leere Liste 1: {} leere Liste 2: {}\n",
      "{'Deutschland': 'Berlin', 'Frankreich': 'Paris', 'Niederlande': 'Amsterdam', 'Spanien': 'Madrid'}\n"
     ]
    }
   ],
   "source": [
    "# Eine Dictionary wird durch geschweifete Klammern gekennzeichnet. \n",
    "# Nach der Eingabe des Schlüssels folgt ein Doppelpunkt gefolgt von dem Objekt, \n",
    "# das mit diesem Schlüssel assoziiert werden soll. \n",
    "dictionary = {'animal': 'Tier', 'ball': 'Ball', 'chicken': 'Hähnchen', 'door': 'Tür'}\n",
    "\n",
    "# Möchtest du das Objekt für einen bestimmten Eintrag erhalten, schreibst du das wie folgt:\n",
    "print(\"Eintrag für 'door':\", dictionary['door'])\n",
    "\n",
    "# So kannst du weitere Einträge zu der Dictionary hinzufügen.\n",
    "dictionary['egg'] = 'Ei'\n",
    "\n",
    "# Fügst du für einen bereits vorhandenen Schlüssel einen weiteren Eintrag hinzu,\n",
    "# so wird der alte Eintrag überschrieben.\n",
    "dictionary['chicken'] = 'Hühnchen'\n",
    "\n",
    "# So iterierst du über alle Schlüssel der Dictionary:\n",
    "for key in dictionary:\n",
    "    print(\"Schlüssel: {} --> Objekt: {}\".format(key, dictionary[key]))\n",
    "    \n",
    "# So iterierst du über alle Objekte der Dictionary:\n",
    "print(\"Alle Objekte in der Dicionary:\", end=\" \")\n",
    "for value in dictionary.values():\n",
    "    print(value, end=\". \")\n",
    "print()\n",
    "\n",
    "# So erstellt du eine leere Dictionary, der du später Einträge hinzufügen kannst:\n",
    "leere_dictionary1 = {}\n",
    "# alternativ:\n",
    "leere_dictionary2 = dict()\n",
    "print(\"Leere Liste 1:\", leere_dictionary1, \"leere Liste 2:\", leere_dictionary2)\n",
    "    \n",
    "# Du kannst durch die Funktion zip(liste1, liste2) aus zwei Listen liste1 und liste2 eine Dictionary erstellen.\n",
    "laender = ['Deutschland', 'Frankreich','Niederlande', 'Spanien']\n",
    "hauptstaedte = ['Berlin', 'Paris','Amsterdam',  'Madrid']\n",
    "zuordnung = dict(zip(laender, hauptstaedte))\n",
    "print(zuordnung)"
   ]
  },
  {
   "cell_type": "markdown",
   "metadata": {},
   "source": [
    "<img style=\"float: left;\" src=\"resources/img/laptop_icon.png\" width=50 height=50 /> <br><br>\n",
    "Kodiere den gegebenen Ausdruck in Morse-Code und lasse deine Morse-Code prüfen. Dekodiere anschließend den gegebenen Morse-Code."
   ]
  },
  {
   "cell_type": "code",
   "execution_count": 1,
   "metadata": {},
   "outputs": [
    {
     "name": "stdout",
     "output_type": "stream",
     "text": [
      "1.Aufgabe: Richtig! Der Morsecode lautet: \n",
      "  -.- ..-- -. ... - .-.. .. -.-. .... . / .. -. - . .-.. .-.. .. --. . -. --.. \n",
      "\n",
      "2.Aufgabe: Richtig! Das dekodierte Wort lautet: NEURONALES NETZ\n"
     ]
    }
   ],
   "source": [
    "from resources.code.help_functions import morse, pruefe_kodiertes_wort, pruefe_dekodiertes_wort\n",
    "\n",
    "# Die Variable 'morse' ist eine Dictionary. \n",
    "# Für jeden Großbuchstaben, Umlaut, Ziffer, Punkt, Komma und Leerzeichen \n",
    "# gibt es einen entsprechenden Eintrag in Morse-Code. \n",
    "morse = morse()\n",
    "\n",
    "ausdruck = \"KÜNSTLICHE INTELLIGENZ\"\n",
    "codiertes_wort = \"\"\n",
    "\n",
    "for buchstabe in ausdruck:\n",
    "    codiertes_wort += \" \" + morse[buchstabe]\n",
    "    \n",
    "pruefe_kodiertes_wort(codiertes_wort)\n",
    "\n",
    "morse_code = '-. . ..- .-. --- -. .- .-.. . ... / -. . - --..'\n",
    "\n",
    "buchstaben = [x for x in morse]\n",
    "buchstaben_in_morse_code = [x for x in morse.values()]\n",
    "morse = dict(zip(buchstaben_in_morse_code, buchstaben))\n",
    "\n",
    "ergebnis = \"\"\n",
    "\n",
    "einzelne_morse_zeichen = morse_code.split(\" \")\n",
    "\n",
    "for elem in einzelne_morse_zeichen:\n",
    "    ergebnis += morse[elem] \n",
    "\n",
    "pruefe_dekodiertes_wort(ergebnis)"
   ]
  },
  {
   "cell_type": "markdown",
   "metadata": {},
   "source": [
    "## Funktionen \n",
    "\n",
    "Um u.a. nicht jedes Mal bestimmten Code aufs Neue schreiben zu müssen, definiert man in Python (sowie in allen anderen Programmiersprachen) Funktionen. Diese können an den passenden Stellen aufgerufen werden, sodass der Code übersichtlich bleibt. <br><br>\n",
    "Angenommen man möchte an einer Stelle im Programmcode die Summe von <i>a</i> und bis <i>b</i> berechnen und an einer anderen Stelle die Summe von <i>c</i> bis <i>d</i>. Anstatt zweimal den selben Code zu schreiben, kann man eine Funktion definieren, die die Summe der Zahlen zwischen zwei bestimmten Zahlen berechnet."
   ]
  },
  {
   "cell_type": "code",
   "execution_count": 14,
   "metadata": {},
   "outputs": [
    {
     "name": "stdout",
     "output_type": "stream",
     "text": [
      "Summe von 1 bis 10: 55\n",
      "Summe von 110 bis 120: 1265\n"
     ]
    }
   ],
   "source": [
    "# Mit dem Schlüsselwort def definierst du eine Funktion.\n",
    "# Der Name deiner Funktion ist (bis auf bestimmte Einschränkungen) frei wählbar.\n",
    "# In den runden Klammern schreibst du deine Paramter, dabei brauchst du nicht anzugeben, \n",
    "# um welche Datentypen es sich handelt.\n",
    "# Außerdem brauchst du nicht anzugeben, ob die Funktion einen Wert zurückgibt oder nicht.\n",
    "\n",
    "# Berechnet die Summe von 'untere_grenze' bis einschließlich 'obere_grenze'.\n",
    "def summe(untere_grenze, obere_grenze):\n",
    "    rueckgabewert = 0\n",
    "    for i in range(untere_grenze, obere_grenze+1):\n",
    "        rueckgabewert += i\n",
    "    return rueckgabewert\n",
    "\n",
    "# Jetzt können wir die Funktion so oft aufrufen, wie wir es für sinnvoll halten.\n",
    "print(f\"Summe von 1 bis 10: {summe(1, 10)}\")\n",
    "print(f\"Summe von 110 bis 120: {summe(110, 120)}\")\n",
    "\n"
   ]
  },
  {
   "cell_type": "markdown",
   "metadata": {},
   "source": [
    "<img style=\"float: left;\" src=\"resources/img/laptop_icon.png\" width=50 height=50 /> <br><br>\n",
    "Schreibe eine Funktion, die als Parameter einen Index <i>i</i> erhält und die i-te Fibonacci-Zahl zurückgibt."
   ]
  },
  {
   "cell_type": "code",
   "execution_count": 25,
   "metadata": {},
   "outputs": [
    {
     "name": "stdout",
     "output_type": "stream",
     "text": [
      "3-te Fibonacci-Zahl: 1, 10-te Fibonacci-Zahl: 34, 20-te Fibonacci-Zahl 4181\n"
     ]
    }
   ],
   "source": [
    "def func_fibonacci(i):\n",
    "    ergebnis = 0\n",
    "    if i == 0:\n",
    "        return 0\n",
    "    elif i == 1:\n",
    "        return 1\n",
    "    else:\n",
    "        return func_fibonacci(i-1) + func_fibonacci(i-2)\n",
    "    \n",
    "print(f\"3-te Fibonacci-Zahl: {func_fibonacci(2)}, 10-te Fibonacci-Zahl: {func_fibonacci(9)}, \" + \n",
    "      f\"20-te Fibonacci-Zahl {func_fibonacci(19)}\")"
   ]
  },
  {
   "cell_type": "markdown",
   "metadata": {},
   "source": [
    "## Klassen"
   ]
  },
  {
   "cell_type": "code",
   "execution_count": 39,
   "metadata": {},
   "outputs": [
    {
     "name": "stdout",
     "output_type": "stream",
     "text": [
      "Luca ist 16 Jahre alt und wohnt in Freiburg\n"
     ]
    }
   ],
   "source": [
    "# Eine Klasse wird durch das Schlüsselwort 'class' gekennzeichnet.\n",
    "class Person:\n",
    "    \n",
    "    # So wird der Konstruktur einer Klasse definiert.\n",
    "    # Beachte, dass der erste Parameter jeder Funktion immer 'self' ist.\n",
    "    def __init__(self, name, alter, wohnort):\n",
    "        self.name = name\n",
    "        self.alter = alter\n",
    "        self.wohnort = wohnort\n",
    "        \n",
    "    def gebe_name_zurueck(self):\n",
    "        return self.name\n",
    "    \n",
    "    def gebe_alter_zurueck(self):\n",
    "        return self.alter\n",
    "    \n",
    "    def gebe_wohnort_zurueck(self):\n",
    "        return self.wohnort\n",
    "    \n",
    "    def geburtstag(self):\n",
    "        self.alter += 1\n",
    "    \n",
    "    def umziehen(self, neuer_wohnort):\n",
    "        self.wohnort = neuer_wohnort\n",
    "\n",
    "# Ein Objekt der Klasse 'Person' wird erstellt\n",
    "luca = Person(\"Luca\", 15, \"Karlsruhe\")\n",
    "\n",
    "luca.geburtstag()\n",
    "luca.umziehen(\"Freiburg\")\n",
    "\n",
    "print(f\"{luca.gebe_name_zurueck()} ist {luca.gebe_alter_zurueck()} Jahre alt \" + \n",
    "      f\"und wohnt in {luca.gebe_wohnort_zurueck()}\")\n",
    "\n"
   ]
  },
  {
   "cell_type": "markdown",
   "metadata": {},
   "source": [
    "<img style=\"float: left;\" src=\"resources/img/laptop_icon.png\" width=50 height=50 /> <br><br>\n",
    "Schreibe eine Klasse, die einen Getränkeautomaten simulieren soll. Der Automat soll die Attribute 'an' und 'konto' haben. Folgende Methoden sollen in der Klasse implementiert werden: <i>anschalten, ausschalten, muenze_einwerfen</i> und <i>getraenk_ausgeben</i>. Der Automat soll genau dann ein Getränk ausgeben und den Kontostand um zwei Münzen verkleinern, wenn er eingeschaltet ist, mehr als zwei Münzen auf dem Kontostand sind und die Methode <i>getraenk_ausgeben</i> aufgerufen wird."
   ]
  },
  {
   "cell_type": "code",
   "execution_count": 5,
   "metadata": {},
   "outputs": [
    {
     "name": "stdout",
     "output_type": "stream",
     "text": [
      "Der Automat ist entweder nicht eingeschaltet oder der Kontostand ist zu niedrig.\n",
      "Getränk wurde ausgegeben.\n"
     ]
    }
   ],
   "source": [
    "# Füge hier deinen Code ein.\n",
    "class Getraenkeautomat:\n",
    "    def __init__(self, an, konto):\n",
    "        self.an = an\n",
    "        self.konto = konto\n",
    "    \n",
    "    def anschalten(self):\n",
    "        self.an = True\n",
    "        \n",
    "    def ausschalten(self):\n",
    "        self.an = False\n",
    "        \n",
    "    def muenze_einwerfen(self):\n",
    "        self.konto += 1\n",
    "        \n",
    "    def getraenk_ausgeben(self):\n",
    "        if self.konto >= 2 and self.an:\n",
    "            self.konto -= 2\n",
    "            print(\"Getränk wurde ausgegeben.\")\n",
    "        else:\n",
    "            print(\"Der Automat ist entweder nicht eingeschaltet oder der Kontostand ist zu niedrig.\")\n",
    "\n",
    "            \n",
    "automat = Getraenkeautomat(False, 0)\n",
    "automat.anschalten()\n",
    "automat.muenze_einwerfen()\n",
    "automat.getraenk_ausgeben()\n",
    "automat.muenze_einwerfen()\n",
    "automat.getraenk_ausgeben()\n"
   ]
  },
  {
   "cell_type": "markdown",
   "metadata": {},
   "source": [
    "## Importe\n",
    "\n",
    "Möchtest du auf Code anderer Dateien oder auf deine lokalen Bibliotheken zugreifen, musst du sie vorher in dein Programm importieren. Danach kannst du auf die Funktionen des importierten Moduls zugreifen."
   ]
  },
  {
   "cell_type": "code",
   "execution_count": 7,
   "metadata": {},
   "outputs": [
    {
     "name": "stdout",
     "output_type": "stream",
     "text": [
      "Heute: Mon Nov  1 18:19:59 2021\n",
      "Hallo! Das ist eine importierte Funktion.\n"
     ]
    }
   ],
   "source": [
    "# Importe schreibst du überlicherweise am Anfang deines Programms auf.\n",
    "import time\n",
    "print(\"Heute:\", time.asctime())\n",
    "\n",
    "# Durch den Schlüsselbegriff 'as' kannst du dem  \n",
    "# Import einen eigenen Namen geben.\n",
    "import os.path as p\n",
    "import os\n",
    "\n",
    "# Gibt den aktuellen Pfad aus.\n",
    "p.abspath(os.getcwd())\n",
    "\n",
    "# Wenn du nur etwas Bestimmtes aus einer Datei \n",
    "# impotieren möchtest, kannst du das wie folgt tun:\n",
    "from datetime import date\n",
    "\n",
    "# Gibt den Wochentag (als Integer) eines Datums zurück.\n",
    "date(2021, 11, 2).weekday()\n",
    "\n",
    "# Du kannst auch deine eigenen Dateien in dein Programm importieren.\n",
    "# Wenn du eine Datei von einem Ordner in deinem aktuellen Verzeichnis\n",
    "# importieren möchtest, gibst du den relativen Pfad durch Punkte getrennt an:\n",
    "from resources.code.help_functions import sagHallo\n",
    "\n",
    "sagHallo()"
   ]
  },
  {
   "cell_type": "markdown",
   "metadata": {},
   "source": [
    "## Fehlerbehandlung\n",
    "\n",
    "Um zu verhindern, dass dein Programm bei einem Fehler während der Ausführung abstürzt, muss du festlegen, was in solch einem Fall passiert."
   ]
  },
  {
   "cell_type": "code",
   "execution_count": 11,
   "metadata": {},
   "outputs": [
    {
     "name": "stdout",
     "output_type": "stream",
     "text": [
      "Hier ist etwas schief gelaufen.\n",
      "Dieser Block wird immer ausgeführt.\n",
      "ergebnis=0\n"
     ]
    }
   ],
   "source": [
    "# Führe dieses Feld aus und ändere anschließend den Wert für 'y' und \n",
    "# beobachte, was bei der Ausführung passiert.\n",
    "x = 1\n",
    "y = 0\n",
    "ergebnis = 0\n",
    "\n",
    "try:\n",
    "    ergebnis = x / y\n",
    "except:\n",
    "    print(\"Hier ist etwas schief gelaufen.\")\n",
    "finally:\n",
    "    print(\"Dieser Block wird immer ausgeführt.\")\n",
    "    \n",
    "print(f\"ergebnis={ergebnis}\")"
   ]
  },
  {
   "cell_type": "markdown",
   "metadata": {},
   "source": [
    "## Numpy\n",
    "\n",
    "Numpy ist eine sehr mächtige Bibliothek, die viele numerische und mathematische Funktionen bereithält. <br>\n",
    "Im Folgenden findest du ein paar Anwendungsbeispiele. Weitere Infos kannst du unter folgender URL nachlesen: https://www.python-kurs.eu/numpy.php. "
   ]
  },
  {
   "cell_type": "code",
   "execution_count": 38,
   "metadata": {},
   "outputs": [
    {
     "name": "stdout",
     "output_type": "stream",
     "text": [
      "a=\n",
      " [[1 2 3]\n",
      " [4 5 6]\n",
      " [7 8 9]]\n",
      "b=\n",
      " [[1 1 1]\n",
      " [1 1 1]\n",
      " [1 1 1]]\n",
      "a+b=\n",
      " [[ 2  3  4]\n",
      " [ 5  6  7]\n",
      " [ 8  9 10]]\n",
      "c=\n",
      " [[0 0 0 0]\n",
      " [0 0 0 0]\n",
      " [0 0 0 0]\n",
      " [0 0 0 0]]\n",
      "c_neu=\n",
      " [[0 0 0 0 0 0 0 0]\n",
      " [0 0 0 0 0 0 0 0]]\n",
      "d=\n",
      " [[1 1 1 1 1 1 1 1]\n",
      " [1 1 1 1 1 1 1 1]]\n"
     ]
    }
   ],
   "source": [
    "import numpy as np\n",
    "\n",
    "# Definition einer 3 x 3 - Matrix\n",
    "a = np.array([[1, 2, 3],\n",
    "             [4, 5, 6],\n",
    "             [7, 8, 9]])\n",
    "print(\"a=\\n\", a)\n",
    "\n",
    "# Definition einer 3 x 3 - Matrix, deren Einträge ausschließlich 1 sind.\n",
    "b = np.ones((3, 3), dtype=int)\n",
    "print(\"b=\\n\", b)\n",
    "\n",
    "# Addition zweier Matrizen gleicher Dimensionen.\n",
    "print(\"a+b=\\n\", a+b)\n",
    "\n",
    "# Definition einer 4 x 4 - Matrix, deren Einträge ausschließlich 0 sind.\n",
    "c = np.zeros((4, 4), dtype=int)\n",
    "print(\"c=\\n\", c)\n",
    "\n",
    "# Form der Matrix verändern:\n",
    "c = c.reshape((2, 8))\n",
    "print(\"c_neu=\\n\", c)\n",
    "\n",
    "# Eine Matrix, die als Einträge nur Einsen hat und die gleiche Form wie die Matrix 'c' besitzt.\n",
    "d = np.ones_like(c)\n",
    "print(\"d=\\n\", d)"
   ]
  },
  {
   "cell_type": "markdown",
   "metadata": {},
   "source": [
    "## Mini-Aufgaben\n",
    "\n",
    "\n",
    "### Zahlen sortieren\n",
    "\n",
    "<img style=\"float: left;\" src=\"resources/img/laptop_icon.png\" width=50 height=50 /> <br><br>\n",
    "\n",
    "Schreibe eine Funktion, die eine beliebige Liste von Zahlen aufsteigend sortiert und die sortierte Liste zurückgibt.\n"
   ]
  },
  {
   "cell_type": "code",
   "execution_count": null,
   "metadata": {},
   "outputs": [],
   "source": [
    "unsortierte_liste = [-2, 45, -102, 231, 89, -73, 42, 0, 99, 123, -11]\n",
    "\n",
    "# Füge deinen Code hier ein."
   ]
  },
  {
   "cell_type": "markdown",
   "metadata": {},
   "source": [
    "### Primzahlen\n",
    "\n",
    "<img style=\"float: left;\" src=\"resources/img/laptop_icon.png\" width=50 height=50 /> <br><br>\n",
    "\n",
    "Schreibe eine Funktion, die als Parameter eine natürliche Zahl 'n' aufnimmt und alle Primzahlen bis n als Liste ausgibt.\n"
   ]
  },
  {
   "cell_type": "code",
   "execution_count": null,
   "metadata": {},
   "outputs": [],
   "source": [
    "# Füge deinen Code hier ein."
   ]
  },
  {
   "cell_type": "markdown",
   "metadata": {},
   "source": [
    "### Größter gemeinsamer Teiler\n",
    "\n",
    "<img style=\"float: left;\" src=\"resources/img/laptop_icon.png\" width=50 height=50 /> <br><br>\n",
    "\n",
    "Schreibe eine Funktion, die den größten gemeinsamen Teiler zweier natürlicher Zahlen ausgibt."
   ]
  },
  {
   "cell_type": "code",
   "execution_count": null,
   "metadata": {},
   "outputs": [],
   "source": [
    "# Füge deinen Code hier ein."
   ]
  },
  {
   "cell_type": "markdown",
   "metadata": {},
   "source": [
    "### Primfaktorzerlegung\n",
    "\n",
    "<img style=\"float: left;\" src=\"resources/img/laptop_icon.png\" width=50 height=50 /> <br><br>\n",
    "\n",
    "Schreibe eine Funktion, die eine natürliche Zahl in ihre Primfaktoren zerlegt."
   ]
  },
  {
   "cell_type": "code",
   "execution_count": null,
   "metadata": {},
   "outputs": [],
   "source": [
    "# Füge deinen Code hier ein."
   ]
  },
  {
   "cell_type": "markdown",
   "metadata": {},
   "source": [
    "### Permutationen einer Zahlenliste\n",
    "\n",
    "<img style=\"float: left;\" src=\"resources/img/laptop_icon.png\" width=50 height=50 /> <br><br>\n",
    "\n",
    "Schreibe eine Funktion, die alle Permutation einer Zahlenliste zurückgibt."
   ]
  },
  {
   "cell_type": "code",
   "execution_count": null,
   "metadata": {},
   "outputs": [],
   "source": [
    "zahlen = [0, 1, 2, 3, 4, 5]\n",
    "\n",
    "# Füge deinen Code hier ein."
   ]
  },
  {
   "cell_type": "markdown",
   "metadata": {},
   "source": [
    "### Binäres Palindrom\n",
    "\n",
    "<img style=\"float: left;\" src=\"resources/img/laptop_icon.png\" width=50 height=50 /> <br><br>\n",
    "Schreibe eine Funktion, die eine Zahl in ihre binäre Darstellung umwandelt und anschließend prüft, ob diese Zahl ein Palindrom (in der binären Darstellung) ist."
   ]
  },
  {
   "cell_type": "code",
   "execution_count": 12,
   "metadata": {},
   "outputs": [],
   "source": [
    "# Füge deinen Code hier ein."
   ]
  }
 ],
 "metadata": {
  "@webio": {
   "lastCommId": null,
   "lastKernelId": null
  },
  "interpreter": {
   "hash": "2d260b012bbf33bcb2887d0961c178b7e1cdbf98f02eb539d597fc41b3ad5997"
  },
  "kernelspec": {
   "display_name": "Python 3",
   "language": "python",
   "name": "python3"
  },
  "language_info": {
   "codemirror_mode": {
    "name": "ipython",
    "version": 3
   },
   "file_extension": ".py",
   "mimetype": "text/x-python",
   "name": "python",
   "nbconvert_exporter": "python",
   "pygments_lexer": "ipython3",
   "version": "3.6.12"
  }
 },
 "nbformat": 4,
 "nbformat_minor": 2
}
