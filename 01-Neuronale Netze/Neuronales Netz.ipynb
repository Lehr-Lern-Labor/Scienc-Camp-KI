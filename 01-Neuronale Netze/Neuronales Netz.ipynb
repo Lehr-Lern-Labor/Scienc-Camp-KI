{
 "cells": [
  {
   "cell_type": "markdown",
   "metadata": {},
   "source": [
    "<img style=\"float: right;\" src=\"resources/img/lll_logo.png\" width=160 height=160 />\n",
    " \n",
    "# Neuronale Netze\n",
    "\n",
    "Implementiere dein eigenes neuronales Netz!"
   ]
  },
  {
   "cell_type": "markdown",
   "metadata": {},
   "source": [
    "## Neuronen\n",
    "\n",
    "<img style=\"float: left;\" src=\"resources/img/laptop_icon.png\" width=50 height=50 /> <br><br>\n",
    "Vervollständige den Code."
   ]
  },
  {
   "cell_type": "code",
   "execution_count": null,
   "metadata": {
    "scrolled": true
   },
   "outputs": [],
   "source": [
    "class Neuron:\n",
    "    def __init__(self, weights, bias):\n",
    "            self.weights = weights\n",
    "            self.bias = bias\n",
    "    def evaluate(self, valuesIn):\n",
    "            # Bestimme die gewichtete Summe der Eingabewerte und addiere den Bias\n",
    "            return valueOut"
   ]
  },
  {
   "cell_type": "code",
   "execution_count": null,
   "metadata": {},
   "outputs": [],
   "source": [
    "# Erzeuge dein erstes beliebiges Neuron\n",
    "\n",
    "# neuron = ...\n",
    "# val = neuron.evaluate(...) \n",
    "print(val)"
   ]
  },
  {
   "cell_type": "markdown",
   "metadata": {},
   "source": [
    "## Layer\n",
    "\n",
    "<img style=\"float: left;\" src=\"resources/img/laptop_icon.png\" width=50 height=50 /> <br><br>\n",
    "Ergänze die Klasse Layer. Überlege dir dabei, welche Informationen eine Layer bei der Erzeugung benötigt und mit welchen In- und Outputs sie arbeitet."
   ]
  },
  {
   "cell_type": "code",
   "execution_count": null,
   "metadata": {
    "scrolled": true
   },
   "outputs": [],
   "source": [
    "class Layer:\n",
    "    # Ergänze den Konstruktor und die evaluate-Funktion."
   ]
  },
  {
   "cell_type": "code",
   "execution_count": null,
   "metadata": {
    "scrolled": true
   },
   "outputs": [],
   "source": [
    "# Erzeuge deine erste beliebige Layer\n",
    "\n",
    "# layer = ...\n",
    "# val = ...\n",
    "print(val)"
   ]
  },
  {
   "cell_type": "markdown",
   "metadata": {},
   "source": [
    "## Neuronales Netz\n",
    "\n",
    "<img style=\"float: left;\" src=\"resources/img/laptop_icon.png\" width=50 height=50 /> <br><br>\n",
    "Ergänze die Klasse NeuralNetwork. Überlege dir dabei, welche Informationen eine Neuronales Netz bei der Erzeugung benötigt und mit welchen In- und Outputs es insgesamt arbeitet."
   ]
  },
  {
   "cell_type": "code",
   "execution_count": null,
   "metadata": {
    "scrolled": true
   },
   "outputs": [],
   "source": [
    "class NeuralNetwork:\n",
    "    # Ergänze den Konstruktor und die evaluate-Funktion."
   ]
  },
  {
   "cell_type": "code",
   "execution_count": null,
   "metadata": {},
   "outputs": [],
   "source": [
    "# Erzeuge ein beliebiges neuronales Netz\n",
    "\n",
    "# nn = ...\n",
    "# val = ...\n",
    "print(val)"
   ]
  },
  {
   "cell_type": "markdown",
   "metadata": {},
   "source": [
    "<img style=\"float: left;\" src=\"resources/img/laptop_icon.png\" width=50 height=50 /> <br><br>\n",
    "Erzeuge nun ein neuronales Netz, das die folgende Funktion implementiert:\n",
    "```\n",
    "f(x,y,z) = 2(4x + 3y + 2) + 4(3y + 4z + 1) + 4\n",
    "```"
   ]
  },
  {
   "cell_type": "code",
   "execution_count": null,
   "metadata": {},
   "outputs": [],
   "source": [
    "# Erzeuge das passende neuronale Netz\n",
    "\n",
    "print(nn.evaluate([0,0,0])) # 12\n",
    "print(nn.evaluate([1,0,0])) # 20\n",
    "print(nn.evaluate([0,1,0])) # 30\n",
    "print(nn.evaluate([0,0,1])) # 28\n",
    "print(nn.evaluate([1,2,3])) # 104"
   ]
  },
  {
   "cell_type": "markdown",
   "metadata": {},
   "source": [
    "## Bonus: Aktivierungsfunktion\n",
    "\n",
    "<img style=\"float: left;\" src=\"resources/img/laptop_icon.png\" width=50 height=50 /> <br><br>\n",
    "Ergänze dein Neuronales Netz um eine Aktivierungsfunktion. Wende dafür auf jeden Rückgabewert eines Neurons eine Aktivierungsfunktion (z.B. ReLU) an, bevor dieser zurückgegeben wird."
   ]
  },
  {
   "cell_type": "code",
   "execution_count": null,
   "metadata": {},
   "outputs": [],
   "source": [
    "def ReLU(x):\n",
    "    y = max(0.0, x)\n",
    "    return y"
   ]
  },
  {
   "cell_type": "markdown",
   "metadata": {},
   "source": [
    "Ergänze den Konstruktor um einen entsprechenden Parameter, sodass die Aktivierungsfunktion bei der Erzeugung der Neuronen übergeben werden kann."
   ]
  }
 ],
 "metadata": {
  "@webio": {
   "lastCommId": null,
   "lastKernelId": null
  },
  "interpreter": {
   "hash": "2d260b012bbf33bcb2887d0961c178b7e1cdbf98f02eb539d597fc41b3ad5997"
  },
  "kernelspec": {
   "display_name": "Python 3 (ipykernel)",
   "language": "python",
   "name": "python3"
  },
  "language_info": {
   "codemirror_mode": {
    "name": "ipython",
    "version": 3
   },
   "file_extension": ".py",
   "mimetype": "text/x-python",
   "name": "python",
   "nbconvert_exporter": "python",
   "pygments_lexer": "ipython3",
   "version": "3.9.7"
  }
 },
 "nbformat": 4,
 "nbformat_minor": 2
}
