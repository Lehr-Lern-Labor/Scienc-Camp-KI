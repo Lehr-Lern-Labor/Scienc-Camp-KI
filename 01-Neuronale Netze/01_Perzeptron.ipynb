{
 "cells": [
  {
   "cell_type": "markdown",
   "metadata": {},
   "source": [
    "<h1>Das Perzeptron</h1>\n",
    "\n",
    "Importiere zunächst alle notwendigen Bibliotheken für dieses Jupyter Notebook, indem du das untere Codefeld ausführst. Beachte, dass du bei jedem Neustart des Kernels auch das untere Codefeld jedes Mal ausführen musst."
   ]
  },
  {
   "cell_type": "code",
   "execution_count": 2,
   "metadata": {},
   "outputs": [
    {
     "name": "stderr",
     "output_type": "stream",
     "text": [
      "In /home/mp/anaconda3/envs/acl/lib/python3.6/site-packages/matplotlib/mpl-data/stylelib/_classic_test.mplstyle: \n",
      "The text.latex.preview rcparam was deprecated in Matplotlib 3.3 and will be removed two minor releases later.\n",
      "In /home/mp/anaconda3/envs/acl/lib/python3.6/site-packages/matplotlib/mpl-data/stylelib/_classic_test.mplstyle: \n",
      "The mathtext.fallback_to_cm rcparam was deprecated in Matplotlib 3.3 and will be removed two minor releases later.\n",
      "In /home/mp/anaconda3/envs/acl/lib/python3.6/site-packages/matplotlib/mpl-data/stylelib/_classic_test.mplstyle: Support for setting the 'mathtext.fallback_to_cm' rcParam is deprecated since 3.3 and will be removed two minor releases later; use 'mathtext.fallback : 'cm' instead.\n",
      "In /home/mp/anaconda3/envs/acl/lib/python3.6/site-packages/matplotlib/mpl-data/stylelib/_classic_test.mplstyle: \n",
      "The validate_bool_maybe_none function was deprecated in Matplotlib 3.3 and will be removed two minor releases later.\n",
      "In /home/mp/anaconda3/envs/acl/lib/python3.6/site-packages/matplotlib/mpl-data/stylelib/_classic_test.mplstyle: \n",
      "The savefig.jpeg_quality rcparam was deprecated in Matplotlib 3.3 and will be removed two minor releases later.\n",
      "In /home/mp/anaconda3/envs/acl/lib/python3.6/site-packages/matplotlib/mpl-data/stylelib/_classic_test.mplstyle: \n",
      "The keymap.all_axes rcparam was deprecated in Matplotlib 3.3 and will be removed two minor releases later.\n",
      "In /home/mp/anaconda3/envs/acl/lib/python3.6/site-packages/matplotlib/mpl-data/stylelib/_classic_test.mplstyle: \n",
      "The animation.avconv_path rcparam was deprecated in Matplotlib 3.3 and will be removed two minor releases later.\n",
      "In /home/mp/anaconda3/envs/acl/lib/python3.6/site-packages/matplotlib/mpl-data/stylelib/_classic_test.mplstyle: \n",
      "The animation.avconv_args rcparam was deprecated in Matplotlib 3.3 and will be removed two minor releases later.\n"
     ]
    }
   ],
   "source": [
    "# Führe dieses Feld aus, indem du entweder oben auf 'Run' klickst oder 'Strg + Enter' drückst.\n",
    "import random\n",
    "import matplotlib.pyplot as plt\n",
    "import numpy as np"
   ]
  },
  {
   "cell_type": "markdown",
   "metadata": {},
   "source": [
    "<h3>Motivation</h3>\n",
    "\n",
    "Das Perzeptron versucht die Funktionweise einer Nervenzelle, auch <b>Neuron</b> genannt, nachzubilden. Sehr vereinfacht gesagt, nimmt ein Neuron elektrische (und chemische) Signale auf, verarbeitet sie und leitet die verarbeiteten Signale weiter. \n",
    "\n",
    "\n",
    "&nbsp;\n",
    "\n",
    "\n",
    " <figure>\n",
    "  <img src=\"resources/img/neuronale_zelle.png\" alt=\"neuronale_zelle\" style=\"width:50%\">\n",
    "  <figcaption></figcaption>\n",
    "</figure> \n",
    "\n",
    "&nbsp;\n",
    "\n",
    "Bei der Nachbildung des biologischen Neurons brauchen wir zunächst Einheiten, die eine <b>Eingabe</b> aufnehmen können. Wir beschränken uns bei der Eingabe auf zwei Zahlen $x_1$ und $x_2$ (= Datenpunkt ($x_1$, $x_2$) im zweidimensionalen Raum). Diese Zahlen werden jeweils mit sogenannte <b>Gewichten</b> des Perzeptrons $w_1$ und $w_2$ multipliziert und zusammenaddiert. Zusätzlich addiert man noch das Gewicht des sogenannten <b>Bias</b> $b$ hinzu. Im nächsten Verarbeitungsschritt wird diese Summe in eine <b>Aktivierungsfunktion</b> eingesetzt. Als Aktivierungsfunktion wird in einem Perzeptron typischerweise eine spezielle <b>Treppenfunktion</b> verwendet. Wenn die Eingabe dieser Treppenfunktion kleiner oder gleich $0$ ist, wird $0$ ausgegeben; wenn sie größer als $0$ ist, dann $1$. Die Ausgabe des Perzeptrons kann als Zuweisung der Eingabe einer bestimmten <b>Klasse</b> interpretiert werden, also der Klasse $0$ oder $1$. Das Perzeptron <b>klassifiziert</b> also die eingegebenen Daten.\n",
    "\n",
    "&nbsp;\n",
    "\n",
    "\n",
    " <figure>\n",
    "  <img src=\"resources/img/perzeptron.png\" alt=\"perzeptron\" style=\"width:50%\">\n",
    "  <figcaption></figcaption>\n",
    "</figure> \n",
    "\n",
    "&nbsp;\n",
    "\n",
    "____\n",
    "\n",
    "\n",
    "<img style=\"float: left;\" src=\"resources/img/laptop_icon.png\" width=50 height=50 /> <br><br>\n",
    "\n",
    "\n",
    "<i>Setze das Perzeptron als Funktion in Python um. Rufe deine Funktion mit von dir gewählten Werten auf und überprüfe per eigene Rechnung, ob die Ausgabe richtig ist.</i>"
   ]
  },
  {
   "cell_type": "code",
   "execution_count": 5,
   "metadata": {},
   "outputs": [],
   "source": [
    "# Füge dein Code hier ein"
   ]
  },
  {
   "cell_type": "markdown",
   "metadata": {},
   "source": [
    "____\n",
    "\n",
    "\n",
    "<img style=\"float: left;\" src=\"resources/img/laptop_icon.png\" width=50 height=50 /> <br><br>\n",
    "\n",
    "\n",
    "<i>Erzeuge 10 zufällige Datenpunkte und füge sie in eine Liste ein, so dass für jeden Datenpunkt $(x_1, x_2)$ gilt: $0 < x_1 < 0.5$ und $0.5 < x_2 < 1$. Jeder Datenpunkt soll dabei mit dem Label 0 versehen werden, d.h. jedes Element in der List sollte folgende Form haben: $((x_1, x_2), 0)$. Erzeuge 10 weitere zufällige Datenpunkte, so dass für jeden Datenpunkt $(x'_1, x'_2)$ gilt: $0.5 < x'_1 < 1$ und $0 < x'_2 < 0.5$. Jeder dieser Datenpunkte soll mit dem Label 1 versehen werden. Füge die erzeugten Datenpunkte in einer Liste zusammen und durchmische sie.</i>"
   ]
  },
  {
   "cell_type": "code",
   "execution_count": 4,
   "metadata": {},
   "outputs": [],
   "source": [
    "# Mit folgendem Befehl erzeugst du eine zufällilge Zahl im Bereich 2 bis 3.\n",
    "random.uniform(2,3)\n",
    "\n",
    "# Füge dein Code hier ein"
   ]
  },
  {
   "cell_type": "markdown",
   "metadata": {},
   "source": [
    "____\n",
    "\n",
    "\n",
    "<img style=\"float: left;\" src=\"resources/img/laptop_icon.png\" width=50 height=50 /> <br><br>\n",
    "\n",
    "\n",
    "<i>Plotte die erzeugten Punkte in einem Koordinatensystem. Die Punkte sollen in rot eingefäbert sein, wenn sie das Label 0 haben und in blau, wenn sie das Label 1 haben.</i>"
   ]
  },
  {
   "cell_type": "code",
   "execution_count": 6,
   "metadata": {},
   "outputs": [],
   "source": [
    "# Füge dein Code hier ein"
   ]
  },
  {
   "cell_type": "markdown",
   "metadata": {},
   "source": [
    "____\n",
    "\n",
    "\n",
    "<img style=\"float: left;\" src=\"resources/img/laptop_icon.png\" width=50 height=50 /> <br><br>\n",
    "\n",
    "<i>Zähle wie viele Punkte das Perzeptron richtig klassifiziert. Benutze dabei die Funktion aus Aufgabe 1.</i>"
   ]
  },
  {
   "cell_type": "code",
   "execution_count": 7,
   "metadata": {},
   "outputs": [],
   "source": [
    "# Füge dein Code hier ein"
   ]
  },
  {
   "cell_type": "markdown",
   "metadata": {},
   "source": [
    "<h3>Geometrische Betrachtung</h3>\n",
    "\n",
    "In diesem Abschnitt betrachten wir die geometrische Sichtweise des Perzeptrons in einem zweidimensionalen Koordinatensystem. Zur besseren Veranschaulichung nehmen wir in den folgenden Abschnitten an, dass $b = 0$ ist. Demzufolge ist der Output des Perzeptrons $f(w_1 \\cdot x + w_2 \\cdot y)$. Bei $f$ handelt es sich, um die Treppenfunktion, d.h. wenn der Input kleiner oder gleich 0 ist, ist die Ausgabe von $f$ gleich $0$, und wenn der Input größer als $0$ ist, ist die Ausgabe von $f$ gleich $1$. \n",
    "\n",
    "____\n",
    "\n",
    "<i style=\"font-size:38px\">?</i>\n",
    "\n",
    "<i>Hast du eine Idee, wie diese Fallunterscheidung im Koordinatensystem geometrisch aussieht? Betrachte hierfür die Treppenfunktion und deren Eingabe. An was errinert dich das? <br> Tipp: Setze für $w_1$ und $w_2$ konktrete Werte ein, um dir den Sachverhalt besser zu veranschaulichen.</i>\n",
    "\n",
    "&nbsp;\n",
    "<details>\n",
    "<summary>➤ Klick hier, um deine Antwort zu prüfen.</summary>\n",
    "\n",
    "Wenn $w_1 \\cdot x_1 + w_2 \\cdot x_2 \\leq 0$, dann wird dem Punkt $(x_1, x_2)$ die Ausgabe 0 zugewiesen; wenn $w_1 \\cdot x_1 + w_2 \\cdot x_2 > 0$, dann die Ausgabe $1$. Durch die Gleichung $w_1 \\cdot x_1 + w_2 \\cdot x_2 = 0$ wird also eine Entscheidungsgrenze beschrieben. Alle Punkte, die auf dieser Grenze liegen, gehören „gerade noch so” der Klasse $0$ an. Wenn ein Punkt auf der einen Seite der Geraden liegt, so wird ihm $0$ als Ausgabe zugewiesen; wenn ein Punkt auf der anderen Seite der Geraden liegt, so wird ihm $1$ zugewiesen. <br>\n",
    "Du kannst die Gleichung auch nach $x_2$ umstellen, sodass du die gewohnte Form einer Geradengleichung erhälst, die du aus der Schule kennst: $$x_2 = - \\frac{w_1}{w_2} x_1 + 0.$$ <br><br>\n",
    "    \n",
    "Alternativ kannst du die „Entscheidungsgerade”, die durch die Gleichung $w_1 \\cdot x_1 + w_2 \\cdot x_2 = 0$ beschrieben wird, auch so konstruieren, indem du Punkte wählst, deren Skalarprodukt mit dem Gewichtsvektor $\\vec{w} = \\begin{pmatrix} w_1 \\\\ w2 \\end{pmatrix}$ gleich $0$ ist.\n",
    "    \n",
    "&nbsp;\n",
    "\n",
    "\n",
    " <figure>\n",
    "  <img src=\"resources/img/vector.png\" alt=\"weight vector\" style=\"width:30%\">\n",
    "  <figcaption></figcaption>\n",
    "</figure> \n",
    "\n",
    "&nbsp;\n",
    "\n",
    "Für die Gleichung $- x_1 + 2 x_2 = 0$ ist der Gewichtsvektor $\\vec{w} = \\begin{pmatrix} -1 \\\\ 2 \\end{pmatrix}$ (in schwarz abgebildet). Interpretiert man die Punkte auf der blauen Gerade $x_2 = \\frac{1}{2} \\cdot x_1 + 0$ als Vektoren, so stehen all diese Vektoren senkrecht auf dem Gewichtsvektor, d.h. das Skalarproduk ist gleich $0$. <br><br>\n",
    "    \n",
    "Zusatzfrage: Was ändert sich, wenn b $\\neq$ 0?\n",
    "    \n",
    "</details>"
   ]
  },
  {
   "cell_type": "markdown",
   "metadata": {},
   "source": [
    "<h3>Update der Gewichte</h3>\n",
    "\n",
    "Im letzten Abschnitt haben wir die geometrische Bedeutung der Gleichung $w_1 \\cdot x_1 + w_2 \\cdot x_2 = 0$ kennen gelernt. In diesem Abschnitt finden wir heraus, wie wir die Gewichte anpassen, wenn das Perzeptron Punkte falsch klassifiziert.\n",
    "\n",
    "____\n",
    "\n",
    "<i style=\"font-size:38px\">?</i>\n",
    "\n",
    "&nbsp;\n",
    "\n",
    "<details>\n",
    "    \n",
    "<summary>➤ Klick hier, um die Frage anzuzeigen.</summary>\n",
    "    \n",
    "<i>Der Punkt P $(-2, 0)$ wird vom Perzeptron falsch, der Punkt Q $(-1,1)$ wird dagegen richtig klassifiziert. Wie muss die Gerade (bzw. der <b>Gewichtsvektor</b>) angepasst werden, damit beide Punkte richtig klassifiziert werden? Beziehe in dein Update den Vektor $\\vec{p} = \\begin{pmatrix} -2 \\\\ 0 \\end{pmatrix}$ mit ein.</i>\n",
    "    \n",
    "&nbsp;\n",
    "\n",
    "\n",
    " <figure>\n",
    "  <img src=\"resources/img/vector2.png\" alt=\"weight vector\" style=\"width:30%\">\n",
    "  <figcaption></figcaption>\n",
    "</figure> \n",
    "\n",
    "&nbsp;\n",
    "    \n",
    "    \n",
    "<details>\n",
    "\n",
    "<summary>➤ Klicke hier, um die Lösung anzuzeigen.</summary>\n",
    "    \n",
    "Das Perzeptron klassifiziert die Punkte richtig, wenn die Entscheidungsgrenze zwischen den beiden Punkten $P$ und $Q$ verläuft. Das erreichts du, indem du einen neuen Gewichtsvektor wie folgt konstruierst: ursprünglicher Gewichtsvektor plus bisschen mehr als die Hälfte des Vektor $\\vec{p} = \\begin{pmatrix} -2 \\\\ 0 \\end{pmatrix}$. \n",
    "    \n",
    "&nbsp;\n",
    "\n",
    "\n",
    " <figure>\n",
    "  <img src=\"resources/img/vector3.png\" alt=\"weight vector\" style=\"width:30%\">\n",
    "  <figcaption></figcaption>\n",
    "</figure> \n",
    "\n",
    "&nbsp;\n",
    "    \n",
    "</details>\n",
    "\n",
    "</details>\n",
    "\n",
    "\n",
    "\n"
   ]
  },
  {
   "cell_type": "markdown",
   "metadata": {},
   "source": [
    "____\n",
    "\n",
    "\n",
    "<img style=\"float: left;\" src=\"resources/img/laptop_icon.png\" width=50 height=50 /> <br><br>\n",
    "\n",
    "<i>Setze nun folgende Formeln zur Gewichtsanpassung als Funktion in Code um.</i>\n",
    "\n",
    "$$w_i^{\\text{neu}} = w_i^{\\text{alt}} + 0.5 \\cdot (t - o) \\cdot x_i$$\n",
    "\n",
    "$$b^{\\text{neu}} = b^{\\text{alt}} + 0.5 \\cdot (t - o)$$"
   ]
  },
  {
   "cell_type": "code",
   "execution_count": 8,
   "metadata": {},
   "outputs": [],
   "source": [
    "# Füge dein Code hier ein"
   ]
  },
  {
   "cell_type": "markdown",
   "metadata": {},
   "source": [
    "Nun sind wir bereit, unser Perzeptron zu <b>trainieren</b>. d.h. die Gewichte allmählich an unsere Datenpunkte anzupassen. Wir geben dem Perzeptron jeden Datenpunkt als Input und überprüfen, ob das Perzeptron den Datenpunkt richtig klassifiziert. Wenn das nicht der Fall ist, rufen wir unsere Funktion auf, die wir gerade implementiert haben, um die Gewichte anzupassen. Der Durchlauf aller Datenpunkte durch das Perzeptron wird als <b>Epoche</b> bezeichnet. \n",
    "\n",
    "____\n",
    "\n",
    "<img style=\"float: left;\" src=\"resources/img/laptop_icon.png\" width=50 height=50 /> <br><br>\n",
    "\n",
    "<i>Du hast bereits einen Datensatz weiter oben erzeugt. Trainiere das Perzeptron solange, bis es jeden Punkt richtig klassifiziert (maximal aber drei Epochen lang). Zeichne jedes Mal nach dem sich der Gewichtsvektor $\\vec{w}$ ändert ein Schaubild mit den Punkten und der Entscheidungsgerade ein. Färbe die Punkte auf der einen Seite der Geraden in einer anderen Farbe ein, wie die Punkte auf der anderen Seite der Geraden.</i>"
   ]
  },
  {
   "cell_type": "code",
   "execution_count": 12,
   "metadata": {},
   "outputs": [],
   "source": [
    "# Mit folgendem Aufruf entfernst du alles auf dem Schaubild.\n",
    "plt.clf()\n",
    "\n",
    "# Füge dein Code hier ein."
   ]
  },
  {
   "cell_type": "markdown",
   "metadata": {},
   "source": [
    "<h3>Grenzen des Perzeptrons</h3>\n",
    "    \n",
    "____\n",
    "\n",
    "<i style=\"font-size:38px\">?</i>\n",
    "\n",
    "    \n",
    "<i>Die Möglichkeiten mit dem Perzeptron Daten zu klassifizieren sind begrenzt. Hast du eine Idee, warum das so ist? Klicke die unterschiedlichen Lösungen an.</i>\n",
    "\n",
    "&nbsp;\n",
    "\n",
    "<details>\n",
    "    \n",
    "<summary>➤ 1. Nachteil</summary>\n",
    "   \n",
    "Das Perzeptron kann nur zwei Klassen von Datenpunkten durch eine Entscheiungsgerade voneinander trennen. Wenn der Datensatz mehr als zwei Klassen hat, ist das Perzeptron nicht in der Lage alle Datenpunkte richtig zu klassifizieren, da es nur $0$ oder $1$ als Ausgabe ausgibt.\n",
    "   \n",
    "</details>\n",
    "\n",
    "&nbsp;\n",
    "\n",
    "<details>\n",
    "    \n",
    "<summary>➤ 2. Nachteil</summary>\n",
    "   \n",
    "Wenn die Daten nicht durch eine Gerade getrennt werden können, so wird das Perzeptron nie in der Lage sein, alle Daten richtig zu klassifizieren. Probiere es selbst aus! Erzeuge einen Datensatz mit zwei Klassen, die nicht durch eine Gerade getrennt werden können und beobachte was passiert.\n",
    "   \n",
    "</details>\n",
    "\n",
    "&nbsp;\n",
    "\n",
    "<details>\n",
    "    \n",
    "<summary>➤ 3. Nachteil</summary>\n",
    "   \n",
    "Der Lernalgorithmus des Perzeptrons ist nicht optimal.\n",
    "   \n",
    "</details>\n",
    "\n",
    "Im nächsten Abschnitt lernst du eine Erweiterung des Perzeptrons kennen, die die Nachteile des Perzeptrons versucht anzugehen: das neuronale Netz. \n",
    "\n",
    "____\n",
    "\n",
    "<i style=\"font-size:38px\">?</i>\n",
    "\n",
    "    \n",
    "<i>Wir haben gelernt, wie wir das Perzeptron trainieren können. Doch warum haben wir das eigentlich gemacht?</i>\n",
    "\n",
    "&nbsp;\n",
    "\n",
    "<details>\n",
    "    \n",
    "<summary>➤ Klicke hier, um deine Antwort zu prüfen.</summary>\n",
    "   \n",
    "Wir möchten das Perzeptron so trainieren, dass wir <b>unbekannte</b> Daten, auf denen wir unser Perzeptron <b>nicht</b> trainiert haben, richtig klassifizieren. Die Performance auf den <b>Trainingsdaten</b> dient zwar als Orientierung, ist aber nicht besonders wichtig.\n",
    "   \n",
    "</details>"
   ]
  }
 ],
 "metadata": {
  "@webio": {
   "lastCommId": null,
   "lastKernelId": null
  },
  "kernelspec": {
   "display_name": "Python 3",
   "language": "python",
   "name": "python3"
  },
  "language_info": {
   "codemirror_mode": {
    "name": "ipython",
    "version": 3
   },
   "file_extension": ".py",
   "mimetype": "text/x-python",
   "name": "python",
   "nbconvert_exporter": "python",
   "pygments_lexer": "ipython3",
   "version": "3.6.12"
  }
 },
 "nbformat": 4,
 "nbformat_minor": 2
}
